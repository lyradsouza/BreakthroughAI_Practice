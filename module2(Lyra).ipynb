{
  "nbformat": 4,
  "nbformat_minor": 5,
  "metadata": {
    "jupytext": {
      "cell_metadata_filter": "-all"
    },
    "kernelspec": {
      "display_name": "myenv",
      "language": "python",
      "name": "myenv"
    },
    "language_info": {
      "codemirror_mode": {
        "name": "ipython",
        "version": 3
      },
      "file_extension": ".py",
      "mimetype": "text/x-python",
      "name": "python",
      "nbconvert_exporter": "python",
      "pygments_lexer": "ipython3",
      "version": "3.8.5"
    },
    "colab": {
      "name": "module2(Lyra).ipynb",
      "provenance": [],
      "collapsed_sections": [
        "ba333977"
      ],
      "include_colab_link": true
    }
  },
  "cells": [
    {
      "cell_type": "markdown",
      "metadata": {
        "id": "view-in-github",
        "colab_type": "text"
      },
      "source": [
        "<a href=\"https://colab.research.google.com/github/lyradsouza/BreakthroughAI_Practice/blob/main/module2(Lyra).ipynb\" target=\"_parent\"><img src=\"https://colab.research.google.com/assets/colab-badge.svg\" alt=\"Open In Colab\"/></a>"
      ]
    },
    {
      "cell_type": "markdown",
      "metadata": {
        "id": "7163d8b9"
      },
      "source": [
        "# Lab 2 - Working with Structured Data"
      ],
      "id": "7163d8b9"
    },
    {
      "cell_type": "markdown",
      "metadata": {
        "id": "0c9e23ae"
      },
      "source": [
        "The target of this lab session is to analyze and understand large\n",
        "datasets. The data we will work with today is a dataset of\n",
        "cities in the US and their climates. The module will\n",
        "discuss the challenges of loading data, finding the parts we are\n",
        "interested in, and visualizing data output."
      ],
      "id": "0c9e23ae"
    },
    {
      "cell_type": "markdown",
      "metadata": {
        "id": "1899dc25"
      },
      "source": [
        "![pandas](data:image/jpeg;base64,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)"
      ],
      "id": "1899dc25"
    },
    {
      "cell_type": "markdown",
      "metadata": {
        "lines_to_next_cell": 2,
        "id": "6a4e00e2"
      },
      "source": [
        "The main technical tool we will be working with is a library known\n",
        "as `Pandas`. Despite the silly name, Pandas is a super popular\n",
        "library for data analysis. It is used in many technology companies\n",
        "for loading and manipulating data. "
      ],
      "id": "6a4e00e2"
    },
    {
      "cell_type": "markdown",
      "metadata": {
        "id": "325d6afd"
      },
      "source": [
        "# Review"
      ],
      "id": "325d6afd"
    },
    {
      "cell_type": "markdown",
      "metadata": {
        "id": "f5d8be38"
      },
      "source": [
        "Before we get started let us review some of the Python code that we saw last class. "
      ],
      "id": "f5d8be38"
    },
    {
      "cell_type": "markdown",
      "metadata": {
        "id": "50698770"
      },
      "source": [
        "![python](https://upload.wikimedia.org/wikipedia/commons/c/c3/Python-logo-notext.svg)"
      ],
      "id": "50698770"
    },
    {
      "cell_type": "markdown",
      "metadata": {
        "id": "79e63944"
      },
      "source": [
        "We first saw a bunch of different types such as numbers, strings, and lists"
      ],
      "id": "79e63944"
    },
    {
      "cell_type": "code",
      "metadata": {
        "execution": {
          "iopub.execute_input": "2021-06-21T19:17:17.909468Z",
          "iopub.status.busy": "2021-06-21T19:17:17.908399Z",
          "iopub.status.idle": "2021-06-21T19:17:17.912507Z",
          "shell.execute_reply": "2021-06-21T19:17:17.911469Z"
        },
        "id": "93ffbe3a"
      },
      "source": [
        "number1 = 50.5\n",
        "string1 = \"New York\"\n",
        "list1 = [\"Queens\", \"Brooklyn\", \"Manhattan\", \"Staten Island\", \"The Bronx\"]"
      ],
      "id": "93ffbe3a",
      "execution_count": null,
      "outputs": []
    },
    {
      "cell_type": "code",
      "metadata": {
        "colab": {
          "base_uri": "https://localhost:8080/",
          "height": 35
        },
        "id": "CGEtpt0COoE5",
        "outputId": "ed705e24-3c4a-4997-f89e-5f1f4b1c07f8"
      },
      "source": [
        "string1"
      ],
      "id": "CGEtpt0COoE5",
      "execution_count": null,
      "outputs": [
        {
          "output_type": "execute_result",
          "data": {
            "application/vnd.google.colaboratory.intrinsic+json": {
              "type": "string"
            },
            "text/plain": [
              "'New York'"
            ]
          },
          "metadata": {
            "tags": []
          },
          "execution_count": 105
        }
      ]
    },
    {
      "cell_type": "markdown",
      "metadata": {
        "id": "f245b935"
      },
      "source": [
        "We then saw some more complex types likes dates and counters."
      ],
      "id": "f245b935"
    },
    {
      "cell_type": "code",
      "metadata": {
        "execution": {
          "iopub.execute_input": "2021-06-21T19:17:17.927215Z",
          "iopub.status.busy": "2021-06-21T19:17:17.926274Z",
          "iopub.status.idle": "2021-06-21T19:17:17.930692Z",
          "shell.execute_reply": "2021-06-21T19:17:17.931440Z"
        },
        "id": "9153121b",
        "colab": {
          "base_uri": "https://localhost:8080/"
        },
        "outputId": "7785f406-d698-4cca-f17f-baa07dd154f7"
      },
      "source": [
        "import datetime\n",
        "date1 = datetime.datetime.now()\n",
        "date1"
      ],
      "id": "9153121b",
      "execution_count": null,
      "outputs": [
        {
          "output_type": "execute_result",
          "data": {
            "text/plain": [
              "datetime.datetime(2021, 6, 25, 0, 9, 39, 981695)"
            ]
          },
          "metadata": {
            "tags": []
          },
          "execution_count": 106
        }
      ]
    },
    {
      "cell_type": "markdown",
      "metadata": {
        "id": "b5c5d1e5"
      },
      "source": [
        "As there are so many different types in Python, we discussed how\n",
        "important it was to use Google and StackOverflow to find examples."
      ],
      "id": "b5c5d1e5"
    },
    {
      "cell_type": "code",
      "metadata": {
        "execution": {
          "iopub.execute_input": "2021-06-21T19:17:17.938547Z",
          "iopub.status.busy": "2021-06-21T19:17:17.937643Z",
          "iopub.status.idle": "2021-06-21T19:17:17.940849Z",
          "shell.execute_reply": "2021-06-21T19:17:17.941559Z"
        },
        "id": "b2d5a4b2",
        "colab": {
          "base_uri": "https://localhost:8080/"
        },
        "outputId": "a944efab-3160-42c2-bb4f-6431d5026d73"
      },
      "source": [
        "from collections import Counter\n",
        "counter = Counter([\"A\", \"B\", \"A\", \"A\", \"C\", \"C\", \"B\", \"A\", \"A\", \"A\"])\n",
        "counter.most_common()"
      ],
      "id": "b2d5a4b2",
      "execution_count": null,
      "outputs": [
        {
          "output_type": "execute_result",
          "data": {
            "text/plain": [
              "[('A', 6), ('B', 2), ('C', 2)]"
            ]
          },
          "metadata": {
            "tags": []
          },
          "execution_count": 107
        }
      ]
    },
    {
      "cell_type": "markdown",
      "metadata": {
        "id": "bad3ce0e"
      },
      "source": [
        "Next, we focused on `if` and `for` the two most important control\n",
        "elements in python."
      ],
      "id": "bad3ce0e"
    },
    {
      "cell_type": "markdown",
      "metadata": {
        "id": "90cff625"
      },
      "source": [
        "* `if` lets us decide which block of code to run\n",
        "* `for` lets us run the same code for each element in a list"
      ],
      "id": "90cff625"
    },
    {
      "cell_type": "code",
      "metadata": {
        "execution": {
          "iopub.execute_input": "2021-06-21T19:17:17.947927Z",
          "iopub.status.busy": "2021-06-21T19:17:17.947040Z",
          "iopub.status.idle": "2021-06-21T19:17:17.951787Z",
          "shell.execute_reply": "2021-06-21T19:17:17.952508Z"
        },
        "id": "3fd18931",
        "colab": {
          "base_uri": "https://localhost:8080/"
        },
        "outputId": "aff42f7e-2fc9-464a-9070-98af23428917"
      },
      "source": [
        "for val in range(10):\n",
        "    print(val)"
      ],
      "id": "3fd18931",
      "execution_count": null,
      "outputs": [
        {
          "output_type": "stream",
          "text": [
            "0\n",
            "1\n",
            "2\n",
            "3\n",
            "4\n",
            "5\n",
            "6\n",
            "7\n",
            "8\n",
            "9\n"
          ],
          "name": "stdout"
        }
      ]
    },
    {
      "cell_type": "markdown",
      "metadata": {
        "id": "8b218cbf"
      },
      "source": [
        "Finally we discussed the special case of strings. There are\n",
        "many useful ways to find values in strings and create new strings."
      ],
      "id": "8b218cbf"
    },
    {
      "cell_type": "code",
      "metadata": {
        "execution": {
          "iopub.execute_input": "2021-06-21T19:17:17.959449Z",
          "iopub.status.busy": "2021-06-21T19:17:17.958429Z",
          "iopub.status.idle": "2021-06-21T19:17:17.961901Z",
          "shell.execute_reply": "2021-06-21T19:17:17.962677Z"
        },
        "id": "f319a206",
        "colab": {
          "base_uri": "https://localhost:8080/",
          "height": 35
        },
        "outputId": "e18f48b4-b36c-4712-8b9e-87f03c6d701e"
      },
      "source": [
        "\"first \" + \"second\""
      ],
      "id": "f319a206",
      "execution_count": null,
      "outputs": [
        {
          "output_type": "execute_result",
          "data": {
            "application/vnd.google.colaboratory.intrinsic+json": {
              "type": "string"
            },
            "text/plain": [
              "'first second'"
            ]
          },
          "metadata": {
            "tags": []
          },
          "execution_count": 109
        }
      ]
    },
    {
      "cell_type": "code",
      "metadata": {
        "execution": {
          "iopub.execute_input": "2021-06-21T19:17:17.968644Z",
          "iopub.status.busy": "2021-06-21T19:17:17.967701Z",
          "iopub.status.idle": "2021-06-21T19:17:17.970916Z",
          "shell.execute_reply": "2021-06-21T19:17:17.970137Z"
        },
        "id": "8adbac35"
      },
      "source": [
        "str1 = \"first|second\""
      ],
      "id": "8adbac35",
      "execution_count": null,
      "outputs": []
    },
    {
      "cell_type": "code",
      "metadata": {
        "execution": {
          "iopub.execute_input": "2021-06-21T19:17:17.977258Z",
          "iopub.status.busy": "2021-06-21T19:17:17.976377Z",
          "iopub.status.idle": "2021-06-21T19:17:17.979836Z",
          "shell.execute_reply": "2021-06-21T19:17:17.980558Z"
        },
        "lines_to_next_cell": 2,
        "id": "e17091e3",
        "colab": {
          "base_uri": "https://localhost:8080/"
        },
        "outputId": "8a92f693-85cd-4efb-dc94-ecfa4038f000"
      },
      "source": [
        "str1.split(\"|\")"
      ],
      "id": "e17091e3",
      "execution_count": null,
      "outputs": [
        {
          "output_type": "execute_result",
          "data": {
            "text/plain": [
              "['first', 'second']"
            ]
          },
          "metadata": {
            "tags": []
          },
          "execution_count": 111
        }
      ]
    },
    {
      "cell_type": "markdown",
      "metadata": {
        "id": "ba333977"
      },
      "source": [
        "## Questions from the previous lab?"
      ],
      "id": "ba333977"
    },
    {
      "cell_type": "markdown",
      "metadata": {
        "id": "f6c3bdfe"
      },
      "source": [
        "## Review Exercise "
      ],
      "id": "f6c3bdfe"
    },
    {
      "cell_type": "markdown",
      "metadata": {
        "id": "cc1a620f"
      },
      "source": [
        "Print only the values in this list that are greater than 20."
      ],
      "id": "cc1a620f"
    },
    {
      "cell_type": "code",
      "metadata": {
        "execution": {
          "iopub.execute_input": "2021-06-21T19:17:17.986835Z",
          "iopub.status.busy": "2021-06-21T19:17:17.985956Z",
          "iopub.status.idle": "2021-06-21T19:17:17.989601Z",
          "shell.execute_reply": "2021-06-21T19:17:17.988669Z"
        },
        "id": "d77be3a9"
      },
      "source": [
        "list1 = [5, 50, 15, 60, 4, 80]"
      ],
      "id": "d77be3a9",
      "execution_count": null,
      "outputs": []
    },
    {
      "cell_type": "code",
      "metadata": {
        "execution": {
          "iopub.execute_input": "2021-06-21T19:17:17.994945Z",
          "iopub.status.busy": "2021-06-21T19:17:17.994061Z",
          "iopub.status.idle": "2021-06-21T19:17:17.998174Z",
          "shell.execute_reply": "2021-06-21T19:17:17.997243Z"
        },
        "id": "918cddba",
        "colab": {
          "base_uri": "https://localhost:8080/"
        },
        "outputId": "dfc0dd21-fa37-4f96-b907-ba4655d95669"
      },
      "source": [
        "#📝📝📝📝 FILLME\n",
        "for num in list1:\n",
        "  if (num > 20):\n",
        "    print(num)"
      ],
      "id": "918cddba",
      "execution_count": null,
      "outputs": [
        {
          "output_type": "stream",
          "text": [
            "50\n",
            "60\n",
            "80\n"
          ],
          "name": "stdout"
        }
      ]
    },
    {
      "cell_type": "markdown",
      "metadata": {
        "id": "da7c889a"
      },
      "source": [
        "# Unit A"
      ],
      "id": "da7c889a"
    },
    {
      "cell_type": "markdown",
      "metadata": {
        "id": "e7003d7c"
      },
      "source": [
        "This week is all about `datatables`, also known as\n",
        "`dataframes`. Data tables are a common way of representing facts\n",
        "anywhere from newspaper articles to scientific studies."
      ],
      "id": "e7003d7c"
    },
    {
      "cell_type": "markdown",
      "metadata": {
        "id": "0a61e982"
      },
      "source": [
        "For instance, as a running example let us consider this table from Wikipedia."
      ],
      "id": "0a61e982"
    },
    {
      "cell_type": "markdown",
      "metadata": {
        "id": "46a73351"
      },
      "source": [
        "![new york](https://upload.wikimedia.org/wikipedia/commons/thumb/5/57/LA_Skyline_Mountains2.jpg/120px-LA_Skyline_Mountains2.jpg)"
      ],
      "id": "46a73351"
    },
    {
      "cell_type": "markdown",
      "metadata": {
        "id": "e32ae44d"
      },
      "source": [
        "https://en.wikipedia.org/wiki/List_of_North_American_cities_by_population"
      ],
      "id": "e32ae44d"
    },
    {
      "cell_type": "markdown",
      "metadata": {
        "id": "baafb376"
      },
      "source": [
        "You may have used datatables before in spreadsheets. For example we can put that\n",
        "wikipedia table in a spreadsheet."
      ],
      "id": "baafb376"
    },
    {
      "cell_type": "markdown",
      "metadata": {
        "id": "f4cb7a25"
      },
      "source": [
        "https://docs.google.com/spreadsheets/d/1Jwcr6IBJbOT1G4Vq7VqaZ7S1V9gRmUb5ALkJPaG5fxI/edit?usp=sharing"
      ],
      "id": "f4cb7a25"
    },
    {
      "cell_type": "markdown",
      "metadata": {
        "id": "5508ffa7"
      },
      "source": [
        "In this spreadsheet we can do lots of things."
      ],
      "id": "5508ffa7"
    },
    {
      "cell_type": "markdown",
      "metadata": {
        "id": "8ca2a98b"
      },
      "source": [
        "👩‍🎓**Student question: Do you know how to do the following?**"
      ],
      "id": "8ca2a98b"
    },
    {
      "cell_type": "markdown",
      "metadata": {
        "id": "9c308bb9"
      },
      "source": [
        "* Change the column names\n",
        "* Delete a row\n",
        "* Make a graph\n",
        "* Add a new column"
      ],
      "id": "9c308bb9"
    },
    {
      "cell_type": "markdown",
      "metadata": {
        "id": "a7ad316f"
      },
      "source": [
        "What about more advanced ideas. Can you?"
      ],
      "id": "a7ad316f"
    },
    {
      "cell_type": "markdown",
      "metadata": {
        "id": "e9cd69b9"
      },
      "source": [
        "* Sort by a column?\n",
        "* Add a new column that changes the previous column?\n",
        "* Take the sum of a row?\n",
        "* Find the highest value in a row?"
      ],
      "id": "e9cd69b9"
    },
    {
      "cell_type": "markdown",
      "metadata": {
        "id": "fab0d1de"
      },
      "source": [
        "In this lab we will work with real-world data to learn how to\n",
        "calculate important properties."
      ],
      "id": "fab0d1de"
    },
    {
      "cell_type": "markdown",
      "metadata": {
        "id": "69123276"
      },
      "source": [
        "## Pandas"
      ],
      "id": "69123276"
    },
    {
      "cell_type": "markdown",
      "metadata": {
        "id": "14ce1fc7"
      },
      "source": [
        "The data that we are working with is located in the file \"Cities.csv\".\n",
        "This file is raw data as a text file. We can see the output in raw form."
      ],
      "id": "14ce1fc7"
    },
    {
      "cell_type": "markdown",
      "metadata": {
        "id": "5b389e40"
      },
      "source": [
        "https://srush.github.io/BT-AI/notebooks/Cities.csv"
      ],
      "id": "5b389e40"
    },
    {
      "cell_type": "markdown",
      "metadata": {
        "id": "b2e6f96d"
      },
      "source": [
        "We can see that \"csv\" stands for \"comma separated values\" as each element\n",
        "of the file is split using a comma. "
      ],
      "id": "b2e6f96d"
    },
    {
      "cell_type": "markdown",
      "metadata": {
        "id": "2d0e0970"
      },
      "source": [
        "Pandas is as a super-powered spreadsheet."
      ],
      "id": "2d0e0970"
    },
    {
      "cell_type": "code",
      "metadata": {
        "execution": {
          "iopub.execute_input": "2021-06-21T19:17:18.006028Z",
          "iopub.status.busy": "2021-06-21T19:17:18.004814Z",
          "iopub.status.idle": "2021-06-21T19:17:18.181610Z",
          "shell.execute_reply": "2021-06-21T19:17:18.181044Z"
        },
        "id": "e675160d"
      },
      "source": [
        "import pandas as pd"
      ],
      "id": "e675160d",
      "execution_count": null,
      "outputs": []
    },
    {
      "cell_type": "markdown",
      "metadata": {
        "id": "c043f418"
      },
      "source": [
        "To load data in the library we use the following command. Here `df`\n",
        "refers to the \"DataFrame\" which is what Pandas calls a spreadsheet."
      ],
      "id": "c043f418"
    },
    {
      "cell_type": "code",
      "metadata": {
        "execution": {
          "iopub.execute_input": "2021-06-21T19:17:18.185783Z",
          "iopub.status.busy": "2021-06-21T19:17:18.185171Z",
          "iopub.status.idle": "2021-06-21T19:17:18.248921Z",
          "shell.execute_reply": "2021-06-21T19:17:18.248123Z"
        },
        "id": "36261121",
        "colab": {
          "base_uri": "https://localhost:8080/",
          "height": 419
        },
        "outputId": "96b895ca-0dc7-473d-fc05-507753ce3b0b"
      },
      "source": [
        "df = pd.read_csv(\"https://srush.github.io/BT-AI/notebooks/Cities.csv\")\n",
        "df"
      ],
      "id": "36261121",
      "execution_count": null,
      "outputs": [
        {
          "output_type": "execute_result",
          "data": {
            "text/html": [
              "<div>\n",
              "<style scoped>\n",
              "    .dataframe tbody tr th:only-of-type {\n",
              "        vertical-align: middle;\n",
              "    }\n",
              "\n",
              "    .dataframe tbody tr th {\n",
              "        vertical-align: top;\n",
              "    }\n",
              "\n",
              "    .dataframe thead th {\n",
              "        text-align: right;\n",
              "    }\n",
              "</style>\n",
              "<table border=\"1\" class=\"dataframe\">\n",
              "  <thead>\n",
              "    <tr style=\"text-align: right;\">\n",
              "      <th></th>\n",
              "      <th>Rank</th>\n",
              "      <th>City</th>\n",
              "      <th>Country</th>\n",
              "      <th>Population</th>\n",
              "    </tr>\n",
              "  </thead>\n",
              "  <tbody>\n",
              "    <tr>\n",
              "      <th>0</th>\n",
              "      <td>0</td>\n",
              "      <td>Mexico City</td>\n",
              "      <td>Mexico</td>\n",
              "      <td>8918653</td>\n",
              "    </tr>\n",
              "    <tr>\n",
              "      <th>1</th>\n",
              "      <td>1</td>\n",
              "      <td>New York City</td>\n",
              "      <td>United States</td>\n",
              "      <td>8550405</td>\n",
              "    </tr>\n",
              "    <tr>\n",
              "      <th>2</th>\n",
              "      <td>2</td>\n",
              "      <td>Los Angeles</td>\n",
              "      <td>United States</td>\n",
              "      <td>3971883</td>\n",
              "    </tr>\n",
              "    <tr>\n",
              "      <th>3</th>\n",
              "      <td>3</td>\n",
              "      <td>Toronto</td>\n",
              "      <td>Canada</td>\n",
              "      <td>2826498</td>\n",
              "    </tr>\n",
              "    <tr>\n",
              "      <th>4</th>\n",
              "      <td>4</td>\n",
              "      <td>Chicago</td>\n",
              "      <td>United States</td>\n",
              "      <td>2720546</td>\n",
              "    </tr>\n",
              "    <tr>\n",
              "      <th>...</th>\n",
              "      <td>...</td>\n",
              "      <td>...</td>\n",
              "      <td>...</td>\n",
              "      <td>...</td>\n",
              "    </tr>\n",
              "    <tr>\n",
              "      <th>90</th>\n",
              "      <td>90</td>\n",
              "      <td>Surrey</td>\n",
              "      <td>Canada</td>\n",
              "      <td>526004</td>\n",
              "    </tr>\n",
              "    <tr>\n",
              "      <th>91</th>\n",
              "      <td>91</td>\n",
              "      <td>Ciudad López Mateos</td>\n",
              "      <td>Mexico</td>\n",
              "      <td>523296</td>\n",
              "    </tr>\n",
              "    <tr>\n",
              "      <th>92</th>\n",
              "      <td>92</td>\n",
              "      <td>Tultitlán</td>\n",
              "      <td>Mexico</td>\n",
              "      <td>520557</td>\n",
              "    </tr>\n",
              "    <tr>\n",
              "      <th>93</th>\n",
              "      <td>93</td>\n",
              "      <td>Fresno</td>\n",
              "      <td>United States</td>\n",
              "      <td>520052</td>\n",
              "    </tr>\n",
              "    <tr>\n",
              "      <th>94</th>\n",
              "      <td>94</td>\n",
              "      <td>Carrefour</td>\n",
              "      <td>Haiti</td>\n",
              "      <td>501768</td>\n",
              "    </tr>\n",
              "  </tbody>\n",
              "</table>\n",
              "<p>95 rows × 4 columns</p>\n",
              "</div>"
            ],
            "text/plain": [
              "    Rank                 City        Country  Population\n",
              "0      0          Mexico City         Mexico     8918653\n",
              "1      1        New York City  United States     8550405\n",
              "2      2          Los Angeles  United States     3971883\n",
              "3      3              Toronto         Canada     2826498\n",
              "4      4              Chicago  United States     2720546\n",
              "..   ...                  ...            ...         ...\n",
              "90    90               Surrey         Canada      526004\n",
              "91    91  Ciudad López Mateos         Mexico      523296\n",
              "92    92            Tultitlán         Mexico      520557\n",
              "93    93               Fresno  United States      520052\n",
              "94    94            Carrefour          Haiti      501768\n",
              "\n",
              "[95 rows x 4 columns]"
            ]
          },
          "metadata": {
            "tags": []
          },
          "execution_count": 115
        }
      ]
    },
    {
      "cell_type": "markdown",
      "metadata": {
        "id": "cda99e1b"
      },
      "source": [
        "Just like in a spreadsheet Pandas has multiple columns representing\n",
        "the underlying elements in the data. These each have a name here."
      ],
      "id": "cda99e1b"
    },
    {
      "cell_type": "code",
      "metadata": {
        "execution": {
          "iopub.execute_input": "2021-06-21T19:17:18.253923Z",
          "iopub.status.busy": "2021-06-21T19:17:18.253084Z",
          "iopub.status.idle": "2021-06-21T19:17:18.256099Z",
          "shell.execute_reply": "2021-06-21T19:17:18.256798Z"
        },
        "id": "1148df60",
        "colab": {
          "base_uri": "https://localhost:8080/"
        },
        "outputId": "0fe47c84-a3cd-448e-cc4a-5f7264db6757"
      },
      "source": [
        "df.columns"
      ],
      "id": "1148df60",
      "execution_count": null,
      "outputs": [
        {
          "output_type": "execute_result",
          "data": {
            "text/plain": [
              "Index(['Rank', 'City', 'Country', 'Population'], dtype='object')"
            ]
          },
          "metadata": {
            "tags": []
          },
          "execution_count": 116
        }
      ]
    },
    {
      "cell_type": "markdown",
      "metadata": {
        "id": "c5a4aaba"
      },
      "source": [
        "To see just the elements in a single column we can use square\n",
        "brackets to see just only column."
      ],
      "id": "c5a4aaba"
    },
    {
      "cell_type": "code",
      "metadata": {
        "execution": {
          "iopub.execute_input": "2021-06-21T19:17:18.263366Z",
          "iopub.status.busy": "2021-06-21T19:17:18.262592Z",
          "iopub.status.idle": "2021-06-21T19:17:18.265572Z",
          "shell.execute_reply": "2021-06-21T19:17:18.266178Z"
        },
        "id": "b564febc",
        "colab": {
          "base_uri": "https://localhost:8080/"
        },
        "outputId": "cff1d5c1-6bbf-42e2-b96c-e327d12a49c4"
      },
      "source": [
        "df[\"City\"]"
      ],
      "id": "b564febc",
      "execution_count": null,
      "outputs": [
        {
          "output_type": "execute_result",
          "data": {
            "text/plain": [
              "0             Mexico City\n",
              "1           New York City\n",
              "2             Los Angeles\n",
              "3                 Toronto\n",
              "4                 Chicago\n",
              "             ...         \n",
              "90                 Surrey\n",
              "91    Ciudad López Mateos\n",
              "92              Tultitlán\n",
              "93                 Fresno\n",
              "94              Carrefour\n",
              "Name: City, Length: 95, dtype: object"
            ]
          },
          "metadata": {
            "tags": []
          },
          "execution_count": 117
        }
      ]
    },
    {
      "cell_type": "markdown",
      "metadata": {
        "id": "71723d6e"
      },
      "source": [
        "👩‍🎓**Student Question: Can you print out another column in the table?**"
      ],
      "id": "71723d6e"
    },
    {
      "cell_type": "code",
      "metadata": {
        "execution": {
          "iopub.execute_input": "2021-06-21T19:17:18.270856Z",
          "iopub.status.busy": "2021-06-21T19:17:18.270066Z",
          "iopub.status.idle": "2021-06-21T19:17:18.272786Z",
          "shell.execute_reply": "2021-06-21T19:17:18.273419Z"
        },
        "id": "cf4cd87f",
        "colab": {
          "base_uri": "https://localhost:8080/"
        },
        "outputId": "915664cb-18dc-4ae0-c24c-16ab8e817293"
      },
      "source": [
        "#📝📝📝📝 FILLME\n",
        "df[\"Country\"]"
      ],
      "id": "cf4cd87f",
      "execution_count": null,
      "outputs": [
        {
          "output_type": "execute_result",
          "data": {
            "text/plain": [
              "0            Mexico\n",
              "1     United States\n",
              "2     United States\n",
              "3            Canada\n",
              "4     United States\n",
              "          ...      \n",
              "90           Canada\n",
              "91           Mexico\n",
              "92           Mexico\n",
              "93    United States\n",
              "94            Haiti\n",
              "Name: Country, Length: 95, dtype: object"
            ]
          },
          "metadata": {
            "tags": []
          },
          "execution_count": 118
        }
      ]
    },
    {
      "cell_type": "markdown",
      "metadata": {
        "id": "6fdbbe04"
      },
      "source": [
        "Alternatively if we want to see just a single row we can use the `loc`\n",
        "command. "
      ],
      "id": "6fdbbe04"
    },
    {
      "cell_type": "code",
      "metadata": {
        "execution": {
          "iopub.execute_input": "2021-06-21T19:17:18.281144Z",
          "iopub.status.busy": "2021-06-21T19:17:18.280310Z",
          "iopub.status.idle": "2021-06-21T19:17:18.283568Z",
          "shell.execute_reply": "2021-06-21T19:17:18.284271Z"
        },
        "id": "785c7dee",
        "colab": {
          "base_uri": "https://localhost:8080/"
        },
        "outputId": "6587e4d6-13ea-40f7-ed98-8432d78db4ab"
      },
      "source": [
        "df.loc[1]"
      ],
      "id": "785c7dee",
      "execution_count": null,
      "outputs": [
        {
          "output_type": "execute_result",
          "data": {
            "text/plain": [
              "Rank                      1\n",
              "City          New York City\n",
              "Country       United States\n",
              "Population          8550405\n",
              "Name: 1, dtype: object"
            ]
          },
          "metadata": {
            "tags": []
          },
          "execution_count": 119
        }
      ]
    },
    {
      "cell_type": "markdown",
      "metadata": {
        "id": "ef4f3ad3"
      },
      "source": [
        "If we want to select several rows we can also pass in a list."
      ],
      "id": "ef4f3ad3"
    },
    {
      "cell_type": "code",
      "metadata": {
        "execution": {
          "iopub.execute_input": "2021-06-21T19:17:18.297978Z",
          "iopub.status.busy": "2021-06-21T19:17:18.297045Z",
          "iopub.status.idle": "2021-06-21T19:17:18.301177Z",
          "shell.execute_reply": "2021-06-21T19:17:18.300307Z"
        },
        "id": "f98b037a",
        "colab": {
          "base_uri": "https://localhost:8080/",
          "height": 142
        },
        "outputId": "2ea2ec14-9358-4747-e454-dc4a3fcee924"
      },
      "source": [
        "list_of_rows = [1, 5, 6]\n",
        "df.loc[list_of_rows]"
      ],
      "id": "f98b037a",
      "execution_count": null,
      "outputs": [
        {
          "output_type": "execute_result",
          "data": {
            "text/html": [
              "<div>\n",
              "<style scoped>\n",
              "    .dataframe tbody tr th:only-of-type {\n",
              "        vertical-align: middle;\n",
              "    }\n",
              "\n",
              "    .dataframe tbody tr th {\n",
              "        vertical-align: top;\n",
              "    }\n",
              "\n",
              "    .dataframe thead th {\n",
              "        text-align: right;\n",
              "    }\n",
              "</style>\n",
              "<table border=\"1\" class=\"dataframe\">\n",
              "  <thead>\n",
              "    <tr style=\"text-align: right;\">\n",
              "      <th></th>\n",
              "      <th>Rank</th>\n",
              "      <th>City</th>\n",
              "      <th>Country</th>\n",
              "      <th>Population</th>\n",
              "    </tr>\n",
              "  </thead>\n",
              "  <tbody>\n",
              "    <tr>\n",
              "      <th>1</th>\n",
              "      <td>1</td>\n",
              "      <td>New York City</td>\n",
              "      <td>United States</td>\n",
              "      <td>8550405</td>\n",
              "    </tr>\n",
              "    <tr>\n",
              "      <th>5</th>\n",
              "      <td>5</td>\n",
              "      <td>Houston</td>\n",
              "      <td>United States</td>\n",
              "      <td>2296224</td>\n",
              "    </tr>\n",
              "    <tr>\n",
              "      <th>6</th>\n",
              "      <td>6</td>\n",
              "      <td>Havana</td>\n",
              "      <td>Cuba</td>\n",
              "      <td>2117625</td>\n",
              "    </tr>\n",
              "  </tbody>\n",
              "</table>\n",
              "</div>"
            ],
            "text/plain": [
              "   Rank           City        Country  Population\n",
              "1     1  New York City  United States     8550405\n",
              "5     5        Houston  United States     2296224\n",
              "6     6         Havana           Cuba     2117625"
            ]
          },
          "metadata": {
            "tags": []
          },
          "execution_count": 120
        }
      ]
    },
    {
      "cell_type": "markdown",
      "metadata": {
        "id": "0ac158ec"
      },
      "source": [
        "👩‍🎓**Student Question: Can you print out the rows of Philadelphia and Los Angeles?**"
      ],
      "id": "0ac158ec"
    },
    {
      "cell_type": "code",
      "metadata": {
        "execution": {
          "iopub.execute_input": "2021-06-21T19:17:18.306309Z",
          "iopub.status.busy": "2021-06-21T19:17:18.305466Z",
          "iopub.status.idle": "2021-06-21T19:17:18.308041Z",
          "shell.execute_reply": "2021-06-21T19:17:18.308648Z"
        },
        "id": "b6e105c7",
        "colab": {
          "base_uri": "https://localhost:8080/",
          "height": 111
        },
        "outputId": "07c5e62d-97fe-4e7f-be56-4e077b377554"
      },
      "source": [
        "#📝📝📝📝 FILLME\n",
        "list_of_rows = [2, 9]\n",
        "df.loc[list_of_rows]"
      ],
      "id": "b6e105c7",
      "execution_count": null,
      "outputs": [
        {
          "output_type": "execute_result",
          "data": {
            "text/html": [
              "<div>\n",
              "<style scoped>\n",
              "    .dataframe tbody tr th:only-of-type {\n",
              "        vertical-align: middle;\n",
              "    }\n",
              "\n",
              "    .dataframe tbody tr th {\n",
              "        vertical-align: top;\n",
              "    }\n",
              "\n",
              "    .dataframe thead th {\n",
              "        text-align: right;\n",
              "    }\n",
              "</style>\n",
              "<table border=\"1\" class=\"dataframe\">\n",
              "  <thead>\n",
              "    <tr style=\"text-align: right;\">\n",
              "      <th></th>\n",
              "      <th>Rank</th>\n",
              "      <th>City</th>\n",
              "      <th>Country</th>\n",
              "      <th>Population</th>\n",
              "    </tr>\n",
              "  </thead>\n",
              "  <tbody>\n",
              "    <tr>\n",
              "      <th>2</th>\n",
              "      <td>2</td>\n",
              "      <td>Los Angeles</td>\n",
              "      <td>United States</td>\n",
              "      <td>3971883</td>\n",
              "    </tr>\n",
              "    <tr>\n",
              "      <th>9</th>\n",
              "      <td>9</td>\n",
              "      <td>Philadelphia</td>\n",
              "      <td>United States</td>\n",
              "      <td>1567442</td>\n",
              "    </tr>\n",
              "  </tbody>\n",
              "</table>\n",
              "</div>"
            ],
            "text/plain": [
              "   Rank          City        Country  Population\n",
              "2     2   Los Angeles  United States     3971883\n",
              "9     9  Philadelphia  United States     1567442"
            ]
          },
          "metadata": {
            "tags": []
          },
          "execution_count": 121
        }
      ]
    },
    {
      "cell_type": "markdown",
      "metadata": {
        "id": "e15f4bdc"
      },
      "source": [
        "## Filters"
      ],
      "id": "e15f4bdc"
    },
    {
      "cell_type": "markdown",
      "metadata": {
        "id": "69c8f1bd"
      },
      "source": [
        "These commands are relatively basic though and easy to do in a\n",
        "standard spreadsheet. The main power of Pandas comes from the\n",
        "ability to select rows based on complex filters."
      ],
      "id": "69c8f1bd"
    },
    {
      "cell_type": "markdown",
      "metadata": {
        "id": "01b8f22c"
      },
      "source": [
        "For instance, if you were in a spreadsheet, how would you select only the\n",
        "rows that correspond to cities in *Mexico*? It's possible but a bit challenging. "
      ],
      "id": "01b8f22c"
    },
    {
      "cell_type": "markdown",
      "metadata": {
        "id": "c055be17"
      },
      "source": [
        "In Pandas, we first create a filter. This is kind of like an if statement that gets\n",
        "applied to every row. It creates a variable that remembers which rows passed the filter test."
      ],
      "id": "c055be17"
    },
    {
      "cell_type": "markdown",
      "metadata": {
        "lines_to_next_cell": 2,
        "id": "913d2579"
      },
      "source": [
        "**Filtering**\n",
        "\n",
        "1. Decide on the conditional statements in your filter.\n",
        "2. Define a `filter` varaible for your dataframe .\n",
        "3. Apply filter and rename the dataframe."
      ],
      "id": "913d2579"
    },
    {
      "cell_type": "markdown",
      "metadata": {
        "id": "66d3636d"
      },
      "source": [
        "Step 1. Our filter is that we want the Country column to be Mexico"
      ],
      "id": "66d3636d"
    },
    {
      "cell_type": "markdown",
      "metadata": {
        "id": "93012ad4"
      },
      "source": [
        "Step 2. We create a filter variable with this conditional. Notice\n",
        "that the filter has a 1 for every city in Mexico and a 0 otherwise."
      ],
      "id": "93012ad4"
    },
    {
      "cell_type": "code",
      "metadata": {
        "execution": {
          "iopub.execute_input": "2021-06-21T19:17:18.317177Z",
          "iopub.status.busy": "2021-06-21T19:17:18.316375Z",
          "iopub.status.idle": "2021-06-21T19:17:18.319646Z",
          "shell.execute_reply": "2021-06-21T19:17:18.320341Z"
        },
        "id": "b0daf338",
        "colab": {
          "base_uri": "https://localhost:8080/"
        },
        "outputId": "5eeaa14d-7ff4-4c09-e8e5-0f5345bd0a7b"
      },
      "source": [
        "filter = df[\"Country\"] == \"Mexico\"\n",
        "filter"
      ],
      "id": "b0daf338",
      "execution_count": null,
      "outputs": [
        {
          "output_type": "execute_result",
          "data": {
            "text/plain": [
              "0      True\n",
              "1     False\n",
              "2     False\n",
              "3     False\n",
              "4     False\n",
              "      ...  \n",
              "90    False\n",
              "91     True\n",
              "92     True\n",
              "93    False\n",
              "94    False\n",
              "Name: Country, Length: 95, dtype: bool"
            ]
          },
          "metadata": {
            "tags": []
          },
          "execution_count": 122
        }
      ]
    },
    {
      "cell_type": "markdown",
      "metadata": {
        "id": "85e933e7"
      },
      "source": [
        "Step 3. We then apply the filter to select the rows that we would like to\n",
        "keep around."
      ],
      "id": "85e933e7"
    },
    {
      "cell_type": "code",
      "metadata": {
        "execution": {
          "iopub.execute_input": "2021-06-21T19:17:18.339699Z",
          "iopub.status.busy": "2021-06-21T19:17:18.338820Z",
          "iopub.status.idle": "2021-06-21T19:17:18.342290Z",
          "shell.execute_reply": "2021-06-21T19:17:18.343027Z"
        },
        "id": "7efd1521",
        "colab": {
          "base_uri": "https://localhost:8080/",
          "height": 1000
        },
        "outputId": "71be6d9d-0986-4b9b-ffa0-7853c8b3611d"
      },
      "source": [
        "cities_in_mexico_df = df.loc[filter]\n",
        "cities_in_mexico_df"
      ],
      "id": "7efd1521",
      "execution_count": null,
      "outputs": [
        {
          "output_type": "execute_result",
          "data": {
            "text/html": [
              "<div>\n",
              "<style scoped>\n",
              "    .dataframe tbody tr th:only-of-type {\n",
              "        vertical-align: middle;\n",
              "    }\n",
              "\n",
              "    .dataframe tbody tr th {\n",
              "        vertical-align: top;\n",
              "    }\n",
              "\n",
              "    .dataframe thead th {\n",
              "        text-align: right;\n",
              "    }\n",
              "</style>\n",
              "<table border=\"1\" class=\"dataframe\">\n",
              "  <thead>\n",
              "    <tr style=\"text-align: right;\">\n",
              "      <th></th>\n",
              "      <th>Rank</th>\n",
              "      <th>City</th>\n",
              "      <th>Country</th>\n",
              "      <th>Population</th>\n",
              "    </tr>\n",
              "  </thead>\n",
              "  <tbody>\n",
              "    <tr>\n",
              "      <th>0</th>\n",
              "      <td>0</td>\n",
              "      <td>Mexico City</td>\n",
              "      <td>Mexico</td>\n",
              "      <td>8918653</td>\n",
              "    </tr>\n",
              "    <tr>\n",
              "      <th>8</th>\n",
              "      <td>8</td>\n",
              "      <td>Ecatepec de Morelos</td>\n",
              "      <td>Mexico</td>\n",
              "      <td>1677678</td>\n",
              "    </tr>\n",
              "    <tr>\n",
              "      <th>12</th>\n",
              "      <td>12</td>\n",
              "      <td>Guadalajara</td>\n",
              "      <td>Mexico</td>\n",
              "      <td>1460148</td>\n",
              "    </tr>\n",
              "    <tr>\n",
              "      <th>13</th>\n",
              "      <td>13</td>\n",
              "      <td>Puebla</td>\n",
              "      <td>Mexico</td>\n",
              "      <td>1437939</td>\n",
              "    </tr>\n",
              "    <tr>\n",
              "      <th>15</th>\n",
              "      <td>15</td>\n",
              "      <td>Juárez</td>\n",
              "      <td>Mexico</td>\n",
              "      <td>1382753</td>\n",
              "    </tr>\n",
              "    <tr>\n",
              "      <th>16</th>\n",
              "      <td>16</td>\n",
              "      <td>León</td>\n",
              "      <td>Mexico</td>\n",
              "      <td>1349224</td>\n",
              "    </tr>\n",
              "    <tr>\n",
              "      <th>18</th>\n",
              "      <td>18</td>\n",
              "      <td>Tijuana</td>\n",
              "      <td>Mexico</td>\n",
              "      <td>1298475</td>\n",
              "    </tr>\n",
              "    <tr>\n",
              "      <th>21</th>\n",
              "      <td>21</td>\n",
              "      <td>Zapopan</td>\n",
              "      <td>Mexico</td>\n",
              "      <td>1179681</td>\n",
              "    </tr>\n",
              "    <tr>\n",
              "      <th>22</th>\n",
              "      <td>22</td>\n",
              "      <td>Monterrey</td>\n",
              "      <td>Mexico</td>\n",
              "      <td>1109171</td>\n",
              "    </tr>\n",
              "    <tr>\n",
              "      <th>24</th>\n",
              "      <td>24</td>\n",
              "      <td>Nezahualcóyotl</td>\n",
              "      <td>Mexico</td>\n",
              "      <td>1039867</td>\n",
              "    </tr>\n",
              "    <tr>\n",
              "      <th>29</th>\n",
              "      <td>29</td>\n",
              "      <td>Naucalpan</td>\n",
              "      <td>Mexico</td>\n",
              "      <td>970012</td>\n",
              "    </tr>\n",
              "    <tr>\n",
              "      <th>33</th>\n",
              "      <td>33</td>\n",
              "      <td>Mérida</td>\n",
              "      <td>Mexico</td>\n",
              "      <td>892363</td>\n",
              "    </tr>\n",
              "    <tr>\n",
              "      <th>34</th>\n",
              "      <td>34</td>\n",
              "      <td>Querétaro</td>\n",
              "      <td>Mexico</td>\n",
              "      <td>878931</td>\n",
              "    </tr>\n",
              "    <tr>\n",
              "      <th>35</th>\n",
              "      <td>35</td>\n",
              "      <td>Toluca</td>\n",
              "      <td>Mexico</td>\n",
              "      <td>873536</td>\n",
              "    </tr>\n",
              "    <tr>\n",
              "      <th>37</th>\n",
              "      <td>37</td>\n",
              "      <td>Chihuahua</td>\n",
              "      <td>Mexico</td>\n",
              "      <td>867736</td>\n",
              "    </tr>\n",
              "    <tr>\n",
              "      <th>43</th>\n",
              "      <td>43</td>\n",
              "      <td>Hermosillo</td>\n",
              "      <td>Mexico</td>\n",
              "      <td>819999</td>\n",
              "    </tr>\n",
              "    <tr>\n",
              "      <th>44</th>\n",
              "      <td>44</td>\n",
              "      <td>Saltillo</td>\n",
              "      <td>Mexico</td>\n",
              "      <td>791074</td>\n",
              "    </tr>\n",
              "    <tr>\n",
              "      <th>45</th>\n",
              "      <td>45</td>\n",
              "      <td>Aguascalientes</td>\n",
              "      <td>Mexico</td>\n",
              "      <td>785942</td>\n",
              "    </tr>\n",
              "    <tr>\n",
              "      <th>47</th>\n",
              "      <td>47</td>\n",
              "      <td>San Luis Potosí</td>\n",
              "      <td>Mexico</td>\n",
              "      <td>759854</td>\n",
              "    </tr>\n",
              "    <tr>\n",
              "      <th>48</th>\n",
              "      <td>48</td>\n",
              "      <td>Veracruz</td>\n",
              "      <td>Mexico</td>\n",
              "      <td>752171</td>\n",
              "    </tr>\n",
              "    <tr>\n",
              "      <th>51</th>\n",
              "      <td>51</td>\n",
              "      <td>Culiacán</td>\n",
              "      <td>Mexico</td>\n",
              "      <td>720798</td>\n",
              "    </tr>\n",
              "    <tr>\n",
              "      <th>53</th>\n",
              "      <td>53</td>\n",
              "      <td>Mexicali</td>\n",
              "      <td>Mexico</td>\n",
              "      <td>717628</td>\n",
              "    </tr>\n",
              "    <tr>\n",
              "      <th>54</th>\n",
              "      <td>54</td>\n",
              "      <td>Cancún</td>\n",
              "      <td>Mexico</td>\n",
              "      <td>711682</td>\n",
              "    </tr>\n",
              "    <tr>\n",
              "      <th>55</th>\n",
              "      <td>55</td>\n",
              "      <td>Acapulco</td>\n",
              "      <td>Mexico</td>\n",
              "      <td>710261</td>\n",
              "    </tr>\n",
              "    <tr>\n",
              "      <th>56</th>\n",
              "      <td>56</td>\n",
              "      <td>Tlalnepantla</td>\n",
              "      <td>Mexico</td>\n",
              "      <td>700734</td>\n",
              "    </tr>\n",
              "    <tr>\n",
              "      <th>58</th>\n",
              "      <td>58</td>\n",
              "      <td>Guadalupe</td>\n",
              "      <td>Mexico</td>\n",
              "      <td>682880</td>\n",
              "    </tr>\n",
              "    <tr>\n",
              "      <th>61</th>\n",
              "      <td>61</td>\n",
              "      <td>Chimalhuacán</td>\n",
              "      <td>Mexico</td>\n",
              "      <td>679811</td>\n",
              "    </tr>\n",
              "    <tr>\n",
              "      <th>66</th>\n",
              "      <td>66</td>\n",
              "      <td>Tlaquepaque</td>\n",
              "      <td>Mexico</td>\n",
              "      <td>664193</td>\n",
              "    </tr>\n",
              "    <tr>\n",
              "      <th>69</th>\n",
              "      <td>69</td>\n",
              "      <td>Torreón</td>\n",
              "      <td>Mexico</td>\n",
              "      <td>653150</td>\n",
              "    </tr>\n",
              "    <tr>\n",
              "      <th>72</th>\n",
              "      <td>72</td>\n",
              "      <td>Reynosa</td>\n",
              "      <td>Mexico</td>\n",
              "      <td>631611</td>\n",
              "    </tr>\n",
              "    <tr>\n",
              "      <th>78</th>\n",
              "      <td>78</td>\n",
              "      <td>Morelia</td>\n",
              "      <td>Mexico</td>\n",
              "      <td>608190</td>\n",
              "    </tr>\n",
              "    <tr>\n",
              "      <th>80</th>\n",
              "      <td>80</td>\n",
              "      <td>Tuxtla Gutiérrez</td>\n",
              "      <td>Mexico</td>\n",
              "      <td>598710</td>\n",
              "    </tr>\n",
              "    <tr>\n",
              "      <th>81</th>\n",
              "      <td>81</td>\n",
              "      <td>Apodaca</td>\n",
              "      <td>Mexico</td>\n",
              "      <td>597207</td>\n",
              "    </tr>\n",
              "    <tr>\n",
              "      <th>82</th>\n",
              "      <td>82</td>\n",
              "      <td>Durango</td>\n",
              "      <td>Mexico</td>\n",
              "      <td>590893</td>\n",
              "    </tr>\n",
              "    <tr>\n",
              "      <th>87</th>\n",
              "      <td>87</td>\n",
              "      <td>Tonalá</td>\n",
              "      <td>Mexico</td>\n",
              "      <td>536111</td>\n",
              "    </tr>\n",
              "    <tr>\n",
              "      <th>89</th>\n",
              "      <td>89</td>\n",
              "      <td>Cuautitlán Izcalli</td>\n",
              "      <td>Mexico</td>\n",
              "      <td>531041</td>\n",
              "    </tr>\n",
              "    <tr>\n",
              "      <th>91</th>\n",
              "      <td>91</td>\n",
              "      <td>Ciudad López Mateos</td>\n",
              "      <td>Mexico</td>\n",
              "      <td>523296</td>\n",
              "    </tr>\n",
              "    <tr>\n",
              "      <th>92</th>\n",
              "      <td>92</td>\n",
              "      <td>Tultitlán</td>\n",
              "      <td>Mexico</td>\n",
              "      <td>520557</td>\n",
              "    </tr>\n",
              "  </tbody>\n",
              "</table>\n",
              "</div>"
            ],
            "text/plain": [
              "    Rank                 City Country  Population\n",
              "0      0          Mexico City  Mexico     8918653\n",
              "8      8  Ecatepec de Morelos  Mexico     1677678\n",
              "12    12          Guadalajara  Mexico     1460148\n",
              "13    13               Puebla  Mexico     1437939\n",
              "15    15               Juárez  Mexico     1382753\n",
              "16    16                 León  Mexico     1349224\n",
              "18    18              Tijuana  Mexico     1298475\n",
              "21    21              Zapopan  Mexico     1179681\n",
              "22    22            Monterrey  Mexico     1109171\n",
              "24    24       Nezahualcóyotl  Mexico     1039867\n",
              "29    29            Naucalpan  Mexico      970012\n",
              "33    33               Mérida  Mexico      892363\n",
              "34    34            Querétaro  Mexico      878931\n",
              "35    35               Toluca  Mexico      873536\n",
              "37    37            Chihuahua  Mexico      867736\n",
              "43    43           Hermosillo  Mexico      819999\n",
              "44    44             Saltillo  Mexico      791074\n",
              "45    45       Aguascalientes  Mexico      785942\n",
              "47    47      San Luis Potosí  Mexico      759854\n",
              "48    48             Veracruz  Mexico      752171\n",
              "51    51             Culiacán  Mexico      720798\n",
              "53    53             Mexicali  Mexico      717628\n",
              "54    54               Cancún  Mexico      711682\n",
              "55    55             Acapulco  Mexico      710261\n",
              "56    56         Tlalnepantla  Mexico      700734\n",
              "58    58            Guadalupe  Mexico      682880\n",
              "61    61         Chimalhuacán  Mexico      679811\n",
              "66    66          Tlaquepaque  Mexico      664193\n",
              "69    69              Torreón  Mexico      653150\n",
              "72    72              Reynosa  Mexico      631611\n",
              "78    78              Morelia  Mexico      608190\n",
              "80    80     Tuxtla Gutiérrez  Mexico      598710\n",
              "81    81              Apodaca  Mexico      597207\n",
              "82    82              Durango  Mexico      590893\n",
              "87    87               Tonalá  Mexico      536111\n",
              "89    89   Cuautitlán Izcalli  Mexico      531041\n",
              "91    91  Ciudad López Mateos  Mexico      523296\n",
              "92    92            Tultitlán  Mexico      520557"
            ]
          },
          "metadata": {
            "tags": []
          },
          "execution_count": 123
        }
      ]
    },
    {
      "cell_type": "markdown",
      "metadata": {
        "id": "9fda0893"
      },
      "source": [
        "We need to be careful to give this a new name. It does not change the original\n",
        "dataframe it just shows us the rows we asked for. "
      ],
      "id": "9fda0893"
    },
    {
      "cell_type": "markdown",
      "metadata": {
        "id": "601e1fc0"
      },
      "source": [
        "Filtering is a really important step because it lets us calculate other properties."
      ],
      "id": "601e1fc0"
    },
    {
      "cell_type": "markdown",
      "metadata": {
        "id": "094de205"
      },
      "source": [
        "For example, we can then count the number of cities in Mexico."
      ],
      "id": "094de205"
    },
    {
      "cell_type": "code",
      "metadata": {
        "execution": {
          "iopub.execute_input": "2021-06-21T19:17:18.348570Z",
          "iopub.status.busy": "2021-06-21T19:17:18.347704Z",
          "iopub.status.idle": "2021-06-21T19:17:18.350741Z",
          "shell.execute_reply": "2021-06-21T19:17:18.351469Z"
        },
        "id": "91a1d225",
        "colab": {
          "base_uri": "https://localhost:8080/"
        },
        "outputId": "4e36d02f-3487-4f08-d389-aca0abafa6eb"
      },
      "source": [
        "total_cities_in_mexico = cities_in_mexico_df[\"City\"].count()\n",
        "total_cities_in_mexico"
      ],
      "id": "91a1d225",
      "execution_count": null,
      "outputs": [
        {
          "output_type": "execute_result",
          "data": {
            "text/plain": [
              "38"
            ]
          },
          "metadata": {
            "tags": []
          },
          "execution_count": 124
        }
      ]
    },
    {
      "cell_type": "markdown",
      "metadata": {
        "id": "83a6e54d"
      },
      "source": [
        "Or we can count the population of the biggest cities in Mexico."
      ],
      "id": "83a6e54d"
    },
    {
      "cell_type": "code",
      "metadata": {
        "execution": {
          "iopub.execute_input": "2021-06-21T19:17:18.357487Z",
          "iopub.status.busy": "2021-06-21T19:17:18.356596Z",
          "iopub.status.idle": "2021-06-21T19:17:18.359626Z",
          "shell.execute_reply": "2021-06-21T19:17:18.360282Z"
        },
        "lines_to_next_cell": 2,
        "id": "e56df413",
        "colab": {
          "base_uri": "https://localhost:8080/"
        },
        "outputId": "5c1cf963-e1fc-46d6-8224-24d8d93b9179"
      },
      "source": [
        "total_population_in_mexico = cities_in_mexico_df[\"Population\"].sum()\n",
        "total_population_in_mexico"
      ],
      "id": "e56df413",
      "execution_count": null,
      "outputs": [
        {
          "output_type": "execute_result",
          "data": {
            "text/plain": [
              "40623960"
            ]
          },
          "metadata": {
            "tags": []
          },
          "execution_count": 125
        }
      ]
    },
    {
      "cell_type": "markdown",
      "metadata": {
        "id": "83b862a4"
      },
      "source": [
        "Filters can also be more complex. You can check for any of the  different properties\n",
        "you might check for in a standard if statement."
      ],
      "id": "83b862a4"
    },
    {
      "cell_type": "markdown",
      "metadata": {
        "id": "bd73147e"
      },
      "source": [
        "For instance, here we want to keep both cities in the US and in Canada. The\n",
        "symbol `|` means `either-or`. "
      ],
      "id": "bd73147e"
    },
    {
      "cell_type": "code",
      "metadata": {
        "execution": {
          "iopub.execute_input": "2021-06-21T19:17:18.381777Z",
          "iopub.status.busy": "2021-06-21T19:17:18.380875Z",
          "iopub.status.idle": "2021-06-21T19:17:18.384502Z",
          "shell.execute_reply": "2021-06-21T19:17:18.385214Z"
        },
        "id": "dcfb3900",
        "colab": {
          "base_uri": "https://localhost:8080/",
          "height": 1000
        },
        "outputId": "6c97b5a6-a763-4fbd-a6bb-d4c5a63e3a4b"
      },
      "source": [
        "filter = (df[\"Country\"] == \"United States\") | (df[\"Country\"] == \"Canada\")\n",
        "us_or_canada_df = df.loc[filter]\n",
        "us_or_canada_df"
      ],
      "id": "dcfb3900",
      "execution_count": null,
      "outputs": [
        {
          "output_type": "execute_result",
          "data": {
            "text/html": [
              "<div>\n",
              "<style scoped>\n",
              "    .dataframe tbody tr th:only-of-type {\n",
              "        vertical-align: middle;\n",
              "    }\n",
              "\n",
              "    .dataframe tbody tr th {\n",
              "        vertical-align: top;\n",
              "    }\n",
              "\n",
              "    .dataframe thead th {\n",
              "        text-align: right;\n",
              "    }\n",
              "</style>\n",
              "<table border=\"1\" class=\"dataframe\">\n",
              "  <thead>\n",
              "    <tr style=\"text-align: right;\">\n",
              "      <th></th>\n",
              "      <th>Rank</th>\n",
              "      <th>City</th>\n",
              "      <th>Country</th>\n",
              "      <th>Population</th>\n",
              "    </tr>\n",
              "  </thead>\n",
              "  <tbody>\n",
              "    <tr>\n",
              "      <th>1</th>\n",
              "      <td>1</td>\n",
              "      <td>New York City</td>\n",
              "      <td>United States</td>\n",
              "      <td>8550405</td>\n",
              "    </tr>\n",
              "    <tr>\n",
              "      <th>2</th>\n",
              "      <td>2</td>\n",
              "      <td>Los Angeles</td>\n",
              "      <td>United States</td>\n",
              "      <td>3971883</td>\n",
              "    </tr>\n",
              "    <tr>\n",
              "      <th>3</th>\n",
              "      <td>3</td>\n",
              "      <td>Toronto</td>\n",
              "      <td>Canada</td>\n",
              "      <td>2826498</td>\n",
              "    </tr>\n",
              "    <tr>\n",
              "      <th>4</th>\n",
              "      <td>4</td>\n",
              "      <td>Chicago</td>\n",
              "      <td>United States</td>\n",
              "      <td>2720546</td>\n",
              "    </tr>\n",
              "    <tr>\n",
              "      <th>5</th>\n",
              "      <td>5</td>\n",
              "      <td>Houston</td>\n",
              "      <td>United States</td>\n",
              "      <td>2296224</td>\n",
              "    </tr>\n",
              "    <tr>\n",
              "      <th>7</th>\n",
              "      <td>7</td>\n",
              "      <td>Montreal</td>\n",
              "      <td>Canada</td>\n",
              "      <td>1753034</td>\n",
              "    </tr>\n",
              "    <tr>\n",
              "      <th>9</th>\n",
              "      <td>9</td>\n",
              "      <td>Philadelphia</td>\n",
              "      <td>United States</td>\n",
              "      <td>1567442</td>\n",
              "    </tr>\n",
              "    <tr>\n",
              "      <th>10</th>\n",
              "      <td>10</td>\n",
              "      <td>Phoenix</td>\n",
              "      <td>United States</td>\n",
              "      <td>1563025</td>\n",
              "    </tr>\n",
              "    <tr>\n",
              "      <th>11</th>\n",
              "      <td>11</td>\n",
              "      <td>San Antonio</td>\n",
              "      <td>United States</td>\n",
              "      <td>1469845</td>\n",
              "    </tr>\n",
              "    <tr>\n",
              "      <th>14</th>\n",
              "      <td>14</td>\n",
              "      <td>San Diego</td>\n",
              "      <td>United States</td>\n",
              "      <td>1394928</td>\n",
              "    </tr>\n",
              "    <tr>\n",
              "      <th>17</th>\n",
              "      <td>17</td>\n",
              "      <td>Dallas</td>\n",
              "      <td>United States</td>\n",
              "      <td>1300092</td>\n",
              "    </tr>\n",
              "    <tr>\n",
              "      <th>19</th>\n",
              "      <td>19</td>\n",
              "      <td>Calgary</td>\n",
              "      <td>Canada</td>\n",
              "      <td>1230915</td>\n",
              "    </tr>\n",
              "    <tr>\n",
              "      <th>25</th>\n",
              "      <td>25</td>\n",
              "      <td>San Jose</td>\n",
              "      <td>United States</td>\n",
              "      <td>1026908</td>\n",
              "    </tr>\n",
              "    <tr>\n",
              "      <th>30</th>\n",
              "      <td>30</td>\n",
              "      <td>Ottawa</td>\n",
              "      <td>Canada</td>\n",
              "      <td>956710</td>\n",
              "    </tr>\n",
              "    <tr>\n",
              "      <th>31</th>\n",
              "      <td>31</td>\n",
              "      <td>Austin</td>\n",
              "      <td>United States</td>\n",
              "      <td>931830</td>\n",
              "    </tr>\n",
              "    <tr>\n",
              "      <th>32</th>\n",
              "      <td>32</td>\n",
              "      <td>Edmonton</td>\n",
              "      <td>Canada</td>\n",
              "      <td>899447</td>\n",
              "    </tr>\n",
              "    <tr>\n",
              "      <th>36</th>\n",
              "      <td>36</td>\n",
              "      <td>Jacksonville</td>\n",
              "      <td>United States</td>\n",
              "      <td>868031</td>\n",
              "    </tr>\n",
              "    <tr>\n",
              "      <th>38</th>\n",
              "      <td>38</td>\n",
              "      <td>San Francisco</td>\n",
              "      <td>United States</td>\n",
              "      <td>864816</td>\n",
              "    </tr>\n",
              "    <tr>\n",
              "      <th>39</th>\n",
              "      <td>39</td>\n",
              "      <td>Indianapolis</td>\n",
              "      <td>United States</td>\n",
              "      <td>853173</td>\n",
              "    </tr>\n",
              "    <tr>\n",
              "      <th>40</th>\n",
              "      <td>40</td>\n",
              "      <td>Columbus</td>\n",
              "      <td>United States</td>\n",
              "      <td>850106</td>\n",
              "    </tr>\n",
              "    <tr>\n",
              "      <th>41</th>\n",
              "      <td>41</td>\n",
              "      <td>Fort Worth</td>\n",
              "      <td>United States</td>\n",
              "      <td>833319</td>\n",
              "    </tr>\n",
              "    <tr>\n",
              "      <th>42</th>\n",
              "      <td>42</td>\n",
              "      <td>Charlotte</td>\n",
              "      <td>United States</td>\n",
              "      <td>827097</td>\n",
              "    </tr>\n",
              "    <tr>\n",
              "      <th>46</th>\n",
              "      <td>46</td>\n",
              "      <td>Mississauga</td>\n",
              "      <td>Canada</td>\n",
              "      <td>761300</td>\n",
              "    </tr>\n",
              "    <tr>\n",
              "      <th>52</th>\n",
              "      <td>52</td>\n",
              "      <td>Winnipeg</td>\n",
              "      <td>Canada</td>\n",
              "      <td>718400</td>\n",
              "    </tr>\n",
              "    <tr>\n",
              "      <th>57</th>\n",
              "      <td>57</td>\n",
              "      <td>Seattle</td>\n",
              "      <td>United States</td>\n",
              "      <td>684451</td>\n",
              "    </tr>\n",
              "    <tr>\n",
              "      <th>59</th>\n",
              "      <td>59</td>\n",
              "      <td>Denver</td>\n",
              "      <td>United States</td>\n",
              "      <td>682545</td>\n",
              "    </tr>\n",
              "    <tr>\n",
              "      <th>60</th>\n",
              "      <td>60</td>\n",
              "      <td>El Paso</td>\n",
              "      <td>United States</td>\n",
              "      <td>681124</td>\n",
              "    </tr>\n",
              "    <tr>\n",
              "      <th>62</th>\n",
              "      <td>62</td>\n",
              "      <td>Detroit</td>\n",
              "      <td>United States</td>\n",
              "      <td>677116</td>\n",
              "    </tr>\n",
              "    <tr>\n",
              "      <th>63</th>\n",
              "      <td>63</td>\n",
              "      <td>Washington, D.C.</td>\n",
              "      <td>United States</td>\n",
              "      <td>672228</td>\n",
              "    </tr>\n",
              "    <tr>\n",
              "      <th>65</th>\n",
              "      <td>65</td>\n",
              "      <td>Boston</td>\n",
              "      <td>United States</td>\n",
              "      <td>667137</td>\n",
              "    </tr>\n",
              "    <tr>\n",
              "      <th>67</th>\n",
              "      <td>67</td>\n",
              "      <td>Memphis</td>\n",
              "      <td>United States</td>\n",
              "      <td>655770</td>\n",
              "    </tr>\n",
              "    <tr>\n",
              "      <th>68</th>\n",
              "      <td>68</td>\n",
              "      <td>Nashville</td>\n",
              "      <td>United States</td>\n",
              "      <td>654610</td>\n",
              "    </tr>\n",
              "    <tr>\n",
              "      <th>70</th>\n",
              "      <td>70</td>\n",
              "      <td>Vancouver</td>\n",
              "      <td>Canada</td>\n",
              "      <td>648608</td>\n",
              "    </tr>\n",
              "    <tr>\n",
              "      <th>71</th>\n",
              "      <td>71</td>\n",
              "      <td>Portland</td>\n",
              "      <td>United States</td>\n",
              "      <td>632309</td>\n",
              "    </tr>\n",
              "    <tr>\n",
              "      <th>73</th>\n",
              "      <td>73</td>\n",
              "      <td>Oklahoma City</td>\n",
              "      <td>United States</td>\n",
              "      <td>631346</td>\n",
              "    </tr>\n",
              "    <tr>\n",
              "      <th>74</th>\n",
              "      <td>74</td>\n",
              "      <td>Las Vegas</td>\n",
              "      <td>United States</td>\n",
              "      <td>623747</td>\n",
              "    </tr>\n",
              "    <tr>\n",
              "      <th>75</th>\n",
              "      <td>75</td>\n",
              "      <td>Baltimore</td>\n",
              "      <td>United States</td>\n",
              "      <td>621849</td>\n",
              "    </tr>\n",
              "    <tr>\n",
              "      <th>76</th>\n",
              "      <td>76</td>\n",
              "      <td>Brampton</td>\n",
              "      <td>Canada</td>\n",
              "      <td>620700</td>\n",
              "    </tr>\n",
              "    <tr>\n",
              "      <th>77</th>\n",
              "      <td>77</td>\n",
              "      <td>Louisville</td>\n",
              "      <td>United States</td>\n",
              "      <td>615366</td>\n",
              "    </tr>\n",
              "    <tr>\n",
              "      <th>79</th>\n",
              "      <td>79</td>\n",
              "      <td>Milwaukee</td>\n",
              "      <td>United States</td>\n",
              "      <td>600155</td>\n",
              "    </tr>\n",
              "    <tr>\n",
              "      <th>84</th>\n",
              "      <td>84</td>\n",
              "      <td>Albuquerque</td>\n",
              "      <td>United States</td>\n",
              "      <td>559121</td>\n",
              "    </tr>\n",
              "    <tr>\n",
              "      <th>85</th>\n",
              "      <td>85</td>\n",
              "      <td>Hamilton</td>\n",
              "      <td>Canada</td>\n",
              "      <td>556359</td>\n",
              "    </tr>\n",
              "    <tr>\n",
              "      <th>86</th>\n",
              "      <td>86</td>\n",
              "      <td>Quebec City</td>\n",
              "      <td>Canada</td>\n",
              "      <td>540994</td>\n",
              "    </tr>\n",
              "    <tr>\n",
              "      <th>88</th>\n",
              "      <td>88</td>\n",
              "      <td>Tucson</td>\n",
              "      <td>United States</td>\n",
              "      <td>531641</td>\n",
              "    </tr>\n",
              "    <tr>\n",
              "      <th>90</th>\n",
              "      <td>90</td>\n",
              "      <td>Surrey</td>\n",
              "      <td>Canada</td>\n",
              "      <td>526004</td>\n",
              "    </tr>\n",
              "    <tr>\n",
              "      <th>93</th>\n",
              "      <td>93</td>\n",
              "      <td>Fresno</td>\n",
              "      <td>United States</td>\n",
              "      <td>520052</td>\n",
              "    </tr>\n",
              "  </tbody>\n",
              "</table>\n",
              "</div>"
            ],
            "text/plain": [
              "    Rank              City        Country  Population\n",
              "1      1     New York City  United States     8550405\n",
              "2      2       Los Angeles  United States     3971883\n",
              "3      3           Toronto         Canada     2826498\n",
              "4      4           Chicago  United States     2720546\n",
              "5      5           Houston  United States     2296224\n",
              "7      7          Montreal         Canada     1753034\n",
              "9      9      Philadelphia  United States     1567442\n",
              "10    10           Phoenix  United States     1563025\n",
              "11    11       San Antonio  United States     1469845\n",
              "14    14         San Diego  United States     1394928\n",
              "17    17            Dallas  United States     1300092\n",
              "19    19           Calgary         Canada     1230915\n",
              "25    25          San Jose  United States     1026908\n",
              "30    30            Ottawa         Canada      956710\n",
              "31    31            Austin  United States      931830\n",
              "32    32          Edmonton         Canada      899447\n",
              "36    36      Jacksonville  United States      868031\n",
              "38    38     San Francisco  United States      864816\n",
              "39    39      Indianapolis  United States      853173\n",
              "40    40          Columbus  United States      850106\n",
              "41    41        Fort Worth  United States      833319\n",
              "42    42         Charlotte  United States      827097\n",
              "46    46       Mississauga         Canada      761300\n",
              "52    52          Winnipeg         Canada      718400\n",
              "57    57           Seattle  United States      684451\n",
              "59    59            Denver  United States      682545\n",
              "60    60           El Paso  United States      681124\n",
              "62    62           Detroit  United States      677116\n",
              "63    63  Washington, D.C.  United States      672228\n",
              "65    65            Boston  United States      667137\n",
              "67    67           Memphis  United States      655770\n",
              "68    68         Nashville  United States      654610\n",
              "70    70         Vancouver         Canada      648608\n",
              "71    71          Portland  United States      632309\n",
              "73    73     Oklahoma City  United States      631346\n",
              "74    74         Las Vegas  United States      623747\n",
              "75    75         Baltimore  United States      621849\n",
              "76    76          Brampton         Canada      620700\n",
              "77    77        Louisville  United States      615366\n",
              "79    79         Milwaukee  United States      600155\n",
              "84    84       Albuquerque  United States      559121\n",
              "85    85          Hamilton         Canada      556359\n",
              "86    86       Quebec City         Canada      540994\n",
              "88    88            Tucson  United States      531641\n",
              "90    90            Surrey         Canada      526004\n",
              "93    93            Fresno  United States      520052"
            ]
          },
          "metadata": {
            "tags": []
          },
          "execution_count": 126
        }
      ]
    },
    {
      "cell_type": "markdown",
      "metadata": {
        "id": "67f63990"
      },
      "source": [
        "👩‍🎓**Student Question: How many of the cities are in the US or Canada?**"
      ],
      "id": "67f63990"
    },
    {
      "cell_type": "code",
      "metadata": {
        "execution": {
          "iopub.execute_input": "2021-06-21T19:17:18.389964Z",
          "iopub.status.busy": "2021-06-21T19:17:18.389086Z",
          "iopub.status.idle": "2021-06-21T19:17:18.392116Z",
          "shell.execute_reply": "2021-06-21T19:17:18.391232Z"
        },
        "id": "189f5a67",
        "colab": {
          "base_uri": "https://localhost:8080/"
        },
        "outputId": "dab51caa-3041-4bba-b069-7e91b5e43cf7"
      },
      "source": [
        "#📝📝📝📝 FILLME\n",
        "us_or_canada_df[\"City\"].count()"
      ],
      "id": "189f5a67",
      "execution_count": null,
      "outputs": [
        {
          "output_type": "execute_result",
          "data": {
            "text/plain": [
              "46"
            ]
          },
          "metadata": {
            "tags": []
          },
          "execution_count": 127
        }
      ]
    },
    {
      "cell_type": "markdown",
      "metadata": {
        "id": "9d464aff"
      },
      "source": [
        "Here is a list of the different statements that we commonly use."
      ],
      "id": "9d464aff"
    },
    {
      "cell_type": "markdown",
      "metadata": {
        "id": "7e570e08"
      },
      "source": [
        "| Filter | Symbol |\n",
        "|--------|--------|\n",
        "| Or     | \\|     |\n",
        "| And    | &      |\n",
        "| Not    | ~      |\n",
        "| Equal  | ==     |\n",
        "| Less   | <      |\n",
        "| Greater| >      |\n",
        "| Greater| >      |\n",
        "| In     | .str.contains      |\n",
        "| Is one of     | .isin      |"
      ],
      "id": "7e570e08"
    },
    {
      "cell_type": "markdown",
      "metadata": {
        "id": "2b4da14e"
      },
      "source": [
        "Note: I didn't know many of these by heart.\n",
        "Don't be afraid to google \"how to filter by ... in pandas\" if you get stuck."
      ],
      "id": "2b4da14e"
    },
    {
      "cell_type": "markdown",
      "metadata": {
        "id": "86a7cd8a"
      },
      "source": [
        "# Group Exercise A"
      ],
      "id": "86a7cd8a"
    },
    {
      "cell_type": "markdown",
      "metadata": {
        "id": "Elg1zLCVaF8x"
      },
      "source": [
        "## Question 0\n",
        "\n",
        "Group: Orange (Lyra, Stephanie, Sahar)\n",
        "\n",
        "Three things we have in common: We all prefer Python as a coding language, we all go to college in New York State, and we all like to do fun hobbies like reading or drawing when we have the time."
      ],
      "id": "Elg1zLCVaF8x"
    },
    {
      "cell_type": "markdown",
      "metadata": {
        "id": "f639d337"
      },
      "source": [
        "## Question 1 "
      ],
      "id": "f639d337"
    },
    {
      "cell_type": "markdown",
      "metadata": {
        "id": "fa926bc1"
      },
      "source": [
        "Filters can be of many different types. For instance, when working\n",
        "with numerical fields we can have filters based on greater-than and\n",
        "less-than comparisons."
      ],
      "id": "fa926bc1"
    },
    {
      "cell_type": "markdown",
      "metadata": {
        "id": "24ee614c"
      },
      "source": [
        "Write a filter that keeps only cities with greater than a\n",
        "million people."
      ],
      "id": "24ee614c"
    },
    {
      "cell_type": "code",
      "metadata": {
        "execution": {
          "iopub.execute_input": "2021-06-21T19:17:18.397452Z",
          "iopub.status.busy": "2021-06-21T19:17:18.396559Z",
          "iopub.status.idle": "2021-06-21T19:17:18.400187Z",
          "shell.execute_reply": "2021-06-21T19:17:18.399451Z"
        },
        "id": "846c3252",
        "colab": {
          "base_uri": "https://localhost:8080/",
          "height": 886
        },
        "outputId": "16da082e-1552-43bb-b875-b483fde2ae04"
      },
      "source": [
        "#📝📝📝📝 FILLME\n",
        "filter = df[\"Population\"] > 1000000\n",
        "big_cities_df = df.loc[filter]\n",
        "big_cities_df\n"
      ],
      "id": "846c3252",
      "execution_count": null,
      "outputs": [
        {
          "output_type": "execute_result",
          "data": {
            "text/html": [
              "<div>\n",
              "<style scoped>\n",
              "    .dataframe tbody tr th:only-of-type {\n",
              "        vertical-align: middle;\n",
              "    }\n",
              "\n",
              "    .dataframe tbody tr th {\n",
              "        vertical-align: top;\n",
              "    }\n",
              "\n",
              "    .dataframe thead th {\n",
              "        text-align: right;\n",
              "    }\n",
              "</style>\n",
              "<table border=\"1\" class=\"dataframe\">\n",
              "  <thead>\n",
              "    <tr style=\"text-align: right;\">\n",
              "      <th></th>\n",
              "      <th>Rank</th>\n",
              "      <th>City</th>\n",
              "      <th>Country</th>\n",
              "      <th>Population</th>\n",
              "    </tr>\n",
              "  </thead>\n",
              "  <tbody>\n",
              "    <tr>\n",
              "      <th>0</th>\n",
              "      <td>0</td>\n",
              "      <td>Mexico City</td>\n",
              "      <td>Mexico</td>\n",
              "      <td>8918653</td>\n",
              "    </tr>\n",
              "    <tr>\n",
              "      <th>1</th>\n",
              "      <td>1</td>\n",
              "      <td>New York City</td>\n",
              "      <td>United States</td>\n",
              "      <td>8550405</td>\n",
              "    </tr>\n",
              "    <tr>\n",
              "      <th>2</th>\n",
              "      <td>2</td>\n",
              "      <td>Los Angeles</td>\n",
              "      <td>United States</td>\n",
              "      <td>3971883</td>\n",
              "    </tr>\n",
              "    <tr>\n",
              "      <th>3</th>\n",
              "      <td>3</td>\n",
              "      <td>Toronto</td>\n",
              "      <td>Canada</td>\n",
              "      <td>2826498</td>\n",
              "    </tr>\n",
              "    <tr>\n",
              "      <th>4</th>\n",
              "      <td>4</td>\n",
              "      <td>Chicago</td>\n",
              "      <td>United States</td>\n",
              "      <td>2720546</td>\n",
              "    </tr>\n",
              "    <tr>\n",
              "      <th>5</th>\n",
              "      <td>5</td>\n",
              "      <td>Houston</td>\n",
              "      <td>United States</td>\n",
              "      <td>2296224</td>\n",
              "    </tr>\n",
              "    <tr>\n",
              "      <th>6</th>\n",
              "      <td>6</td>\n",
              "      <td>Havana</td>\n",
              "      <td>Cuba</td>\n",
              "      <td>2117625</td>\n",
              "    </tr>\n",
              "    <tr>\n",
              "      <th>7</th>\n",
              "      <td>7</td>\n",
              "      <td>Montreal</td>\n",
              "      <td>Canada</td>\n",
              "      <td>1753034</td>\n",
              "    </tr>\n",
              "    <tr>\n",
              "      <th>8</th>\n",
              "      <td>8</td>\n",
              "      <td>Ecatepec de Morelos</td>\n",
              "      <td>Mexico</td>\n",
              "      <td>1677678</td>\n",
              "    </tr>\n",
              "    <tr>\n",
              "      <th>9</th>\n",
              "      <td>9</td>\n",
              "      <td>Philadelphia</td>\n",
              "      <td>United States</td>\n",
              "      <td>1567442</td>\n",
              "    </tr>\n",
              "    <tr>\n",
              "      <th>10</th>\n",
              "      <td>10</td>\n",
              "      <td>Phoenix</td>\n",
              "      <td>United States</td>\n",
              "      <td>1563025</td>\n",
              "    </tr>\n",
              "    <tr>\n",
              "      <th>11</th>\n",
              "      <td>11</td>\n",
              "      <td>San Antonio</td>\n",
              "      <td>United States</td>\n",
              "      <td>1469845</td>\n",
              "    </tr>\n",
              "    <tr>\n",
              "      <th>12</th>\n",
              "      <td>12</td>\n",
              "      <td>Guadalajara</td>\n",
              "      <td>Mexico</td>\n",
              "      <td>1460148</td>\n",
              "    </tr>\n",
              "    <tr>\n",
              "      <th>13</th>\n",
              "      <td>13</td>\n",
              "      <td>Puebla</td>\n",
              "      <td>Mexico</td>\n",
              "      <td>1437939</td>\n",
              "    </tr>\n",
              "    <tr>\n",
              "      <th>14</th>\n",
              "      <td>14</td>\n",
              "      <td>San Diego</td>\n",
              "      <td>United States</td>\n",
              "      <td>1394928</td>\n",
              "    </tr>\n",
              "    <tr>\n",
              "      <th>15</th>\n",
              "      <td>15</td>\n",
              "      <td>Juárez</td>\n",
              "      <td>Mexico</td>\n",
              "      <td>1382753</td>\n",
              "    </tr>\n",
              "    <tr>\n",
              "      <th>16</th>\n",
              "      <td>16</td>\n",
              "      <td>León</td>\n",
              "      <td>Mexico</td>\n",
              "      <td>1349224</td>\n",
              "    </tr>\n",
              "    <tr>\n",
              "      <th>17</th>\n",
              "      <td>17</td>\n",
              "      <td>Dallas</td>\n",
              "      <td>United States</td>\n",
              "      <td>1300092</td>\n",
              "    </tr>\n",
              "    <tr>\n",
              "      <th>18</th>\n",
              "      <td>18</td>\n",
              "      <td>Tijuana</td>\n",
              "      <td>Mexico</td>\n",
              "      <td>1298475</td>\n",
              "    </tr>\n",
              "    <tr>\n",
              "      <th>19</th>\n",
              "      <td>19</td>\n",
              "      <td>Calgary</td>\n",
              "      <td>Canada</td>\n",
              "      <td>1230915</td>\n",
              "    </tr>\n",
              "    <tr>\n",
              "      <th>20</th>\n",
              "      <td>20</td>\n",
              "      <td>Tegucigalpa</td>\n",
              "      <td>Honduras</td>\n",
              "      <td>1190230</td>\n",
              "    </tr>\n",
              "    <tr>\n",
              "      <th>21</th>\n",
              "      <td>21</td>\n",
              "      <td>Zapopan</td>\n",
              "      <td>Mexico</td>\n",
              "      <td>1179681</td>\n",
              "    </tr>\n",
              "    <tr>\n",
              "      <th>22</th>\n",
              "      <td>22</td>\n",
              "      <td>Monterrey</td>\n",
              "      <td>Mexico</td>\n",
              "      <td>1109171</td>\n",
              "    </tr>\n",
              "    <tr>\n",
              "      <th>23</th>\n",
              "      <td>23</td>\n",
              "      <td>Managua</td>\n",
              "      <td>Nicaragua</td>\n",
              "      <td>1048134</td>\n",
              "    </tr>\n",
              "    <tr>\n",
              "      <th>24</th>\n",
              "      <td>24</td>\n",
              "      <td>Nezahualcóyotl</td>\n",
              "      <td>Mexico</td>\n",
              "      <td>1039867</td>\n",
              "    </tr>\n",
              "    <tr>\n",
              "      <th>25</th>\n",
              "      <td>25</td>\n",
              "      <td>San Jose</td>\n",
              "      <td>United States</td>\n",
              "      <td>1026908</td>\n",
              "    </tr>\n",
              "    <tr>\n",
              "      <th>26</th>\n",
              "      <td>26</td>\n",
              "      <td>Santo Domingo</td>\n",
              "      <td>Dominican Republic</td>\n",
              "      <td>1007997</td>\n",
              "    </tr>\n",
              "  </tbody>\n",
              "</table>\n",
              "</div>"
            ],
            "text/plain": [
              "    Rank                 City             Country  Population\n",
              "0      0          Mexico City              Mexico     8918653\n",
              "1      1        New York City       United States     8550405\n",
              "2      2          Los Angeles       United States     3971883\n",
              "3      3              Toronto              Canada     2826498\n",
              "4      4              Chicago       United States     2720546\n",
              "5      5              Houston       United States     2296224\n",
              "6      6               Havana                Cuba     2117625\n",
              "7      7             Montreal              Canada     1753034\n",
              "8      8  Ecatepec de Morelos              Mexico     1677678\n",
              "9      9         Philadelphia       United States     1567442\n",
              "10    10              Phoenix       United States     1563025\n",
              "11    11          San Antonio       United States     1469845\n",
              "12    12          Guadalajara              Mexico     1460148\n",
              "13    13               Puebla              Mexico     1437939\n",
              "14    14            San Diego       United States     1394928\n",
              "15    15               Juárez              Mexico     1382753\n",
              "16    16                 León              Mexico     1349224\n",
              "17    17               Dallas       United States     1300092\n",
              "18    18              Tijuana              Mexico     1298475\n",
              "19    19              Calgary              Canada     1230915\n",
              "20    20          Tegucigalpa            Honduras     1190230\n",
              "21    21              Zapopan              Mexico     1179681\n",
              "22    22            Monterrey              Mexico     1109171\n",
              "23    23              Managua           Nicaragua     1048134\n",
              "24    24       Nezahualcóyotl              Mexico     1039867\n",
              "25    25             San Jose       United States     1026908\n",
              "26    26        Santo Domingo  Dominican Republic     1007997"
            ]
          },
          "metadata": {
            "tags": []
          },
          "execution_count": 128
        }
      ]
    },
    {
      "cell_type": "markdown",
      "metadata": {
        "id": "115228ed"
      },
      "source": [
        "How many are there?"
      ],
      "id": "115228ed"
    },
    {
      "cell_type": "code",
      "metadata": {
        "execution": {
          "iopub.execute_input": "2021-06-21T19:17:18.405575Z",
          "iopub.status.busy": "2021-06-21T19:17:18.404746Z",
          "iopub.status.idle": "2021-06-21T19:17:18.408315Z",
          "shell.execute_reply": "2021-06-21T19:17:18.407439Z"
        },
        "id": "b196b275",
        "colab": {
          "base_uri": "https://localhost:8080/"
        },
        "outputId": "fec1d4cb-9eb5-4645-d16f-1a0b6c6b6d28"
      },
      "source": [
        "#📝📝📝📝 FILLME\n",
        "big_cities_df[\"City\"].count()"
      ],
      "id": "b196b275",
      "execution_count": null,
      "outputs": [
        {
          "output_type": "execute_result",
          "data": {
            "text/plain": [
              "27"
            ]
          },
          "metadata": {
            "tags": []
          },
          "execution_count": 129
        }
      ]
    },
    {
      "cell_type": "markdown",
      "metadata": {
        "id": "358145b7"
      },
      "source": [
        "(Be sure to print it out to check that it worked!)"
      ],
      "id": "358145b7"
    },
    {
      "cell_type": "markdown",
      "metadata": {
        "id": "d5ca355b"
      },
      "source": [
        "## Question 2"
      ],
      "id": "d5ca355b"
    },
    {
      "cell_type": "markdown",
      "metadata": {
        "id": "95f3a232"
      },
      "source": [
        "Several cities in North America include the word \"City\" in their name. \n",
        "Write a filter to find the cities that have \"City\" in their name. "
      ],
      "id": "95f3a232"
    },
    {
      "cell_type": "code",
      "metadata": {
        "execution": {
          "iopub.execute_input": "2021-06-21T19:17:18.413893Z",
          "iopub.status.busy": "2021-06-21T19:17:18.413054Z",
          "iopub.status.idle": "2021-06-21T19:17:18.416623Z",
          "shell.execute_reply": "2021-06-21T19:17:18.415928Z"
        },
        "id": "70e6ad39",
        "colab": {
          "base_uri": "https://localhost:8080/",
          "height": 204
        },
        "outputId": "9fe180fd-b75d-4906-9078-403410141d11"
      },
      "source": [
        "#📝📝📝📝 FILLME\n",
        "filter = df[\"City\"].str.contains(\"City\")\n",
        "city_with_city_df = df.loc[filter]\n",
        "city_with_city_df"
      ],
      "id": "70e6ad39",
      "execution_count": null,
      "outputs": [
        {
          "output_type": "execute_result",
          "data": {
            "text/html": [
              "<div>\n",
              "<style scoped>\n",
              "    .dataframe tbody tr th:only-of-type {\n",
              "        vertical-align: middle;\n",
              "    }\n",
              "\n",
              "    .dataframe tbody tr th {\n",
              "        vertical-align: top;\n",
              "    }\n",
              "\n",
              "    .dataframe thead th {\n",
              "        text-align: right;\n",
              "    }\n",
              "</style>\n",
              "<table border=\"1\" class=\"dataframe\">\n",
              "  <thead>\n",
              "    <tr style=\"text-align: right;\">\n",
              "      <th></th>\n",
              "      <th>Rank</th>\n",
              "      <th>City</th>\n",
              "      <th>Country</th>\n",
              "      <th>Population</th>\n",
              "    </tr>\n",
              "  </thead>\n",
              "  <tbody>\n",
              "    <tr>\n",
              "      <th>0</th>\n",
              "      <td>0</td>\n",
              "      <td>Mexico City</td>\n",
              "      <td>Mexico</td>\n",
              "      <td>8918653</td>\n",
              "    </tr>\n",
              "    <tr>\n",
              "      <th>1</th>\n",
              "      <td>1</td>\n",
              "      <td>New York City</td>\n",
              "      <td>United States</td>\n",
              "      <td>8550405</td>\n",
              "    </tr>\n",
              "    <tr>\n",
              "      <th>27</th>\n",
              "      <td>27</td>\n",
              "      <td>Guatemala City</td>\n",
              "      <td>Guatemala</td>\n",
              "      <td>994078</td>\n",
              "    </tr>\n",
              "    <tr>\n",
              "      <th>73</th>\n",
              "      <td>73</td>\n",
              "      <td>Oklahoma City</td>\n",
              "      <td>United States</td>\n",
              "      <td>631346</td>\n",
              "    </tr>\n",
              "    <tr>\n",
              "      <th>86</th>\n",
              "      <td>86</td>\n",
              "      <td>Quebec City</td>\n",
              "      <td>Canada</td>\n",
              "      <td>540994</td>\n",
              "    </tr>\n",
              "  </tbody>\n",
              "</table>\n",
              "</div>"
            ],
            "text/plain": [
              "    Rank            City        Country  Population\n",
              "0      0     Mexico City         Mexico     8918653\n",
              "1      1   New York City  United States     8550405\n",
              "27    27  Guatemala City      Guatemala      994078\n",
              "73    73   Oklahoma City  United States      631346\n",
              "86    86     Quebec City         Canada      540994"
            ]
          },
          "metadata": {
            "tags": []
          },
          "execution_count": 130
        }
      ]
    },
    {
      "cell_type": "markdown",
      "metadata": {
        "id": "5c2fb999"
      },
      "source": [
        "What is the smallest city on this list?"
      ],
      "id": "5c2fb999"
    },
    {
      "cell_type": "code",
      "metadata": {
        "execution": {
          "iopub.execute_input": "2021-06-21T19:17:18.421970Z",
          "iopub.status.busy": "2021-06-21T19:17:18.421178Z",
          "iopub.status.idle": "2021-06-21T19:17:18.424639Z",
          "shell.execute_reply": "2021-06-21T19:17:18.423939Z"
        },
        "id": "034405ce",
        "colab": {
          "base_uri": "https://localhost:8080/",
          "height": 80
        },
        "outputId": "a11be700-b873-4d8d-fa84-3c2e68ecd8bf"
      },
      "source": [
        "#📝📝📝📝 FILLME\n",
        "smallest = city_with_city_df[\"Population\"] == city_with_city_df[\"Population\"].min()\n",
        "city_with_city_df[smallest]"
      ],
      "id": "034405ce",
      "execution_count": null,
      "outputs": [
        {
          "output_type": "execute_result",
          "data": {
            "text/html": [
              "<div>\n",
              "<style scoped>\n",
              "    .dataframe tbody tr th:only-of-type {\n",
              "        vertical-align: middle;\n",
              "    }\n",
              "\n",
              "    .dataframe tbody tr th {\n",
              "        vertical-align: top;\n",
              "    }\n",
              "\n",
              "    .dataframe thead th {\n",
              "        text-align: right;\n",
              "    }\n",
              "</style>\n",
              "<table border=\"1\" class=\"dataframe\">\n",
              "  <thead>\n",
              "    <tr style=\"text-align: right;\">\n",
              "      <th></th>\n",
              "      <th>Rank</th>\n",
              "      <th>City</th>\n",
              "      <th>Country</th>\n",
              "      <th>Population</th>\n",
              "    </tr>\n",
              "  </thead>\n",
              "  <tbody>\n",
              "    <tr>\n",
              "      <th>86</th>\n",
              "      <td>86</td>\n",
              "      <td>Quebec City</td>\n",
              "      <td>Canada</td>\n",
              "      <td>540994</td>\n",
              "    </tr>\n",
              "  </tbody>\n",
              "</table>\n",
              "</div>"
            ],
            "text/plain": [
              "    Rank         City Country  Population\n",
              "86    86  Quebec City  Canada      540994"
            ]
          },
          "metadata": {
            "tags": []
          },
          "execution_count": 131
        }
      ]
    },
    {
      "cell_type": "markdown",
      "metadata": {
        "id": "0d1ec52d"
      },
      "source": [
        "## Question 3"
      ],
      "id": "0d1ec52d"
    },
    {
      "cell_type": "markdown",
      "metadata": {
        "id": "49943642"
      },
      "source": [
        "Most of the cities on the list are in Canada, Mexico or the US."
      ],
      "id": "49943642"
    },
    {
      "cell_type": "markdown",
      "metadata": {
        "id": "94584813"
      },
      "source": [
        "Can you write a filter to find the cities that are not in any of these countries?"
      ],
      "id": "94584813"
    },
    {
      "cell_type": "code",
      "metadata": {
        "execution": {
          "iopub.execute_input": "2021-06-21T19:17:18.430261Z",
          "iopub.status.busy": "2021-06-21T19:17:18.429372Z",
          "iopub.status.idle": "2021-06-21T19:17:18.432929Z",
          "shell.execute_reply": "2021-06-21T19:17:18.432180Z"
        },
        "id": "fa0d0239",
        "colab": {
          "base_uri": "https://localhost:8080/",
          "height": 390
        },
        "outputId": "a25f317c-764a-4198-d5b8-fd5e8efdcdcd"
      },
      "source": [
        "#📝📝📝📝 FILLME\n",
        "filter = ~((df[\"Country\"] == \"Mexico\") | (df[\"Country\"] == \"United States\") | (df[\"Country\"] == \"Canada\"))\n",
        "not_us_or_canada_df = df[filter]\n",
        "not_us_or_canada_df"
      ],
      "id": "fa0d0239",
      "execution_count": null,
      "outputs": [
        {
          "output_type": "execute_result",
          "data": {
            "text/html": [
              "<div>\n",
              "<style scoped>\n",
              "    .dataframe tbody tr th:only-of-type {\n",
              "        vertical-align: middle;\n",
              "    }\n",
              "\n",
              "    .dataframe tbody tr th {\n",
              "        vertical-align: top;\n",
              "    }\n",
              "\n",
              "    .dataframe thead th {\n",
              "        text-align: right;\n",
              "    }\n",
              "</style>\n",
              "<table border=\"1\" class=\"dataframe\">\n",
              "  <thead>\n",
              "    <tr style=\"text-align: right;\">\n",
              "      <th></th>\n",
              "      <th>Rank</th>\n",
              "      <th>City</th>\n",
              "      <th>Country</th>\n",
              "      <th>Population</th>\n",
              "    </tr>\n",
              "  </thead>\n",
              "  <tbody>\n",
              "    <tr>\n",
              "      <th>6</th>\n",
              "      <td>6</td>\n",
              "      <td>Havana</td>\n",
              "      <td>Cuba</td>\n",
              "      <td>2117625</td>\n",
              "    </tr>\n",
              "    <tr>\n",
              "      <th>20</th>\n",
              "      <td>20</td>\n",
              "      <td>Tegucigalpa</td>\n",
              "      <td>Honduras</td>\n",
              "      <td>1190230</td>\n",
              "    </tr>\n",
              "    <tr>\n",
              "      <th>23</th>\n",
              "      <td>23</td>\n",
              "      <td>Managua</td>\n",
              "      <td>Nicaragua</td>\n",
              "      <td>1048134</td>\n",
              "    </tr>\n",
              "    <tr>\n",
              "      <th>26</th>\n",
              "      <td>26</td>\n",
              "      <td>Santo Domingo</td>\n",
              "      <td>Dominican Republic</td>\n",
              "      <td>1007997</td>\n",
              "    </tr>\n",
              "    <tr>\n",
              "      <th>27</th>\n",
              "      <td>27</td>\n",
              "      <td>Guatemala City</td>\n",
              "      <td>Guatemala</td>\n",
              "      <td>994078</td>\n",
              "    </tr>\n",
              "    <tr>\n",
              "      <th>28</th>\n",
              "      <td>28</td>\n",
              "      <td>Port-au-Prince</td>\n",
              "      <td>Haiti</td>\n",
              "      <td>987310</td>\n",
              "    </tr>\n",
              "    <tr>\n",
              "      <th>49</th>\n",
              "      <td>49</td>\n",
              "      <td>San Pedro Sula</td>\n",
              "      <td>Honduras</td>\n",
              "      <td>742118</td>\n",
              "    </tr>\n",
              "    <tr>\n",
              "      <th>50</th>\n",
              "      <td>50</td>\n",
              "      <td>Santiago de los Caballeros</td>\n",
              "      <td>Dominican Republic</td>\n",
              "      <td>723162</td>\n",
              "    </tr>\n",
              "    <tr>\n",
              "      <th>64</th>\n",
              "      <td>64</td>\n",
              "      <td>Kingston</td>\n",
              "      <td>Jamaica</td>\n",
              "      <td>669627</td>\n",
              "    </tr>\n",
              "    <tr>\n",
              "      <th>83</th>\n",
              "      <td>83</td>\n",
              "      <td>Villa Nueva</td>\n",
              "      <td>Guatemala</td>\n",
              "      <td>564686</td>\n",
              "    </tr>\n",
              "    <tr>\n",
              "      <th>94</th>\n",
              "      <td>94</td>\n",
              "      <td>Carrefour</td>\n",
              "      <td>Haiti</td>\n",
              "      <td>501768</td>\n",
              "    </tr>\n",
              "  </tbody>\n",
              "</table>\n",
              "</div>"
            ],
            "text/plain": [
              "    Rank                        City             Country  Population\n",
              "6      6                      Havana                Cuba     2117625\n",
              "20    20                 Tegucigalpa            Honduras     1190230\n",
              "23    23                     Managua           Nicaragua     1048134\n",
              "26    26               Santo Domingo  Dominican Republic     1007997\n",
              "27    27              Guatemala City           Guatemala      994078\n",
              "28    28              Port-au-Prince               Haiti      987310\n",
              "49    49              San Pedro Sula            Honduras      742118\n",
              "50    50  Santiago de los Caballeros  Dominican Republic      723162\n",
              "64    64                    Kingston             Jamaica      669627\n",
              "83    83                 Villa Nueva           Guatemala      564686\n",
              "94    94                   Carrefour               Haiti      501768"
            ]
          },
          "metadata": {
            "tags": []
          },
          "execution_count": 132
        }
      ]
    },
    {
      "cell_type": "markdown",
      "metadata": {
        "id": "8369fe4c"
      },
      "source": [
        "What is the largest city in this list?"
      ],
      "id": "8369fe4c"
    },
    {
      "cell_type": "code",
      "metadata": {
        "execution": {
          "iopub.execute_input": "2021-06-21T19:17:18.438567Z",
          "iopub.status.busy": "2021-06-21T19:17:18.437672Z",
          "iopub.status.idle": "2021-06-21T19:17:18.441302Z",
          "shell.execute_reply": "2021-06-21T19:17:18.440405Z"
        },
        "id": "f8d6666d",
        "colab": {
          "base_uri": "https://localhost:8080/",
          "height": 80
        },
        "outputId": "0b7a9a95-67ce-495d-cde4-63888303a6fb"
      },
      "source": [
        "#📝📝📝📝 FILLME\n",
        "largest = not_us_or_canada_df[\"Population\"] == not_us_or_canada_df[\"Population\"].max()\n",
        "not_us_or_canada_df[largest]"
      ],
      "id": "f8d6666d",
      "execution_count": null,
      "outputs": [
        {
          "output_type": "execute_result",
          "data": {
            "text/html": [
              "<div>\n",
              "<style scoped>\n",
              "    .dataframe tbody tr th:only-of-type {\n",
              "        vertical-align: middle;\n",
              "    }\n",
              "\n",
              "    .dataframe tbody tr th {\n",
              "        vertical-align: top;\n",
              "    }\n",
              "\n",
              "    .dataframe thead th {\n",
              "        text-align: right;\n",
              "    }\n",
              "</style>\n",
              "<table border=\"1\" class=\"dataframe\">\n",
              "  <thead>\n",
              "    <tr style=\"text-align: right;\">\n",
              "      <th></th>\n",
              "      <th>Rank</th>\n",
              "      <th>City</th>\n",
              "      <th>Country</th>\n",
              "      <th>Population</th>\n",
              "    </tr>\n",
              "  </thead>\n",
              "  <tbody>\n",
              "    <tr>\n",
              "      <th>6</th>\n",
              "      <td>6</td>\n",
              "      <td>Havana</td>\n",
              "      <td>Cuba</td>\n",
              "      <td>2117625</td>\n",
              "    </tr>\n",
              "  </tbody>\n",
              "</table>\n",
              "</div>"
            ],
            "text/plain": [
              "   Rank    City Country  Population\n",
              "6     6  Havana    Cuba     2117625"
            ]
          },
          "metadata": {
            "tags": []
          },
          "execution_count": 133
        }
      ]
    },
    {
      "cell_type": "markdown",
      "metadata": {
        "id": "7137aeb0"
      },
      "source": [
        "## Question 4"
      ],
      "id": "7137aeb0"
    },
    {
      "cell_type": "markdown",
      "metadata": {
        "id": "76f2abae"
      },
      "source": [
        "We can also apply filters that look for two properties at the same time. "
      ],
      "id": "76f2abae"
    },
    {
      "cell_type": "markdown",
      "metadata": {
        "id": "c19b96f8"
      },
      "source": [
        "Can you write a filter to find the cities in the US of over a million people?"
      ],
      "id": "c19b96f8"
    },
    {
      "cell_type": "code",
      "metadata": {
        "execution": {
          "iopub.execute_input": "2021-06-21T19:17:18.447061Z",
          "iopub.status.busy": "2021-06-21T19:17:18.446151Z",
          "iopub.status.idle": "2021-06-21T19:17:18.449743Z",
          "shell.execute_reply": "2021-06-21T19:17:18.448956Z"
        },
        "id": "43967799",
        "colab": {
          "base_uri": "https://localhost:8080/",
          "height": 359
        },
        "outputId": "5bc4bcbf-69bb-456c-af12-2ff9a1871bff"
      },
      "source": [
        "#📝📝📝📝 FILLME\n",
        "filter = (df[\"Country\"] == \"United States\") & (df[\"Population\"] > 1000000)\n",
        "big_us_city_df = df[filter]\n",
        "big_us_city_df"
      ],
      "id": "43967799",
      "execution_count": null,
      "outputs": [
        {
          "output_type": "execute_result",
          "data": {
            "text/html": [
              "<div>\n",
              "<style scoped>\n",
              "    .dataframe tbody tr th:only-of-type {\n",
              "        vertical-align: middle;\n",
              "    }\n",
              "\n",
              "    .dataframe tbody tr th {\n",
              "        vertical-align: top;\n",
              "    }\n",
              "\n",
              "    .dataframe thead th {\n",
              "        text-align: right;\n",
              "    }\n",
              "</style>\n",
              "<table border=\"1\" class=\"dataframe\">\n",
              "  <thead>\n",
              "    <tr style=\"text-align: right;\">\n",
              "      <th></th>\n",
              "      <th>Rank</th>\n",
              "      <th>City</th>\n",
              "      <th>Country</th>\n",
              "      <th>Population</th>\n",
              "    </tr>\n",
              "  </thead>\n",
              "  <tbody>\n",
              "    <tr>\n",
              "      <th>1</th>\n",
              "      <td>1</td>\n",
              "      <td>New York City</td>\n",
              "      <td>United States</td>\n",
              "      <td>8550405</td>\n",
              "    </tr>\n",
              "    <tr>\n",
              "      <th>2</th>\n",
              "      <td>2</td>\n",
              "      <td>Los Angeles</td>\n",
              "      <td>United States</td>\n",
              "      <td>3971883</td>\n",
              "    </tr>\n",
              "    <tr>\n",
              "      <th>4</th>\n",
              "      <td>4</td>\n",
              "      <td>Chicago</td>\n",
              "      <td>United States</td>\n",
              "      <td>2720546</td>\n",
              "    </tr>\n",
              "    <tr>\n",
              "      <th>5</th>\n",
              "      <td>5</td>\n",
              "      <td>Houston</td>\n",
              "      <td>United States</td>\n",
              "      <td>2296224</td>\n",
              "    </tr>\n",
              "    <tr>\n",
              "      <th>9</th>\n",
              "      <td>9</td>\n",
              "      <td>Philadelphia</td>\n",
              "      <td>United States</td>\n",
              "      <td>1567442</td>\n",
              "    </tr>\n",
              "    <tr>\n",
              "      <th>10</th>\n",
              "      <td>10</td>\n",
              "      <td>Phoenix</td>\n",
              "      <td>United States</td>\n",
              "      <td>1563025</td>\n",
              "    </tr>\n",
              "    <tr>\n",
              "      <th>11</th>\n",
              "      <td>11</td>\n",
              "      <td>San Antonio</td>\n",
              "      <td>United States</td>\n",
              "      <td>1469845</td>\n",
              "    </tr>\n",
              "    <tr>\n",
              "      <th>14</th>\n",
              "      <td>14</td>\n",
              "      <td>San Diego</td>\n",
              "      <td>United States</td>\n",
              "      <td>1394928</td>\n",
              "    </tr>\n",
              "    <tr>\n",
              "      <th>17</th>\n",
              "      <td>17</td>\n",
              "      <td>Dallas</td>\n",
              "      <td>United States</td>\n",
              "      <td>1300092</td>\n",
              "    </tr>\n",
              "    <tr>\n",
              "      <th>25</th>\n",
              "      <td>25</td>\n",
              "      <td>San Jose</td>\n",
              "      <td>United States</td>\n",
              "      <td>1026908</td>\n",
              "    </tr>\n",
              "  </tbody>\n",
              "</table>\n",
              "</div>"
            ],
            "text/plain": [
              "    Rank           City        Country  Population\n",
              "1      1  New York City  United States     8550405\n",
              "2      2    Los Angeles  United States     3971883\n",
              "4      4        Chicago  United States     2720546\n",
              "5      5        Houston  United States     2296224\n",
              "9      9   Philadelphia  United States     1567442\n",
              "10    10        Phoenix  United States     1563025\n",
              "11    11    San Antonio  United States     1469845\n",
              "14    14      San Diego  United States     1394928\n",
              "17    17         Dallas  United States     1300092\n",
              "25    25       San Jose  United States     1026908"
            ]
          },
          "metadata": {
            "tags": []
          },
          "execution_count": 134
        }
      ]
    },
    {
      "cell_type": "markdown",
      "metadata": {
        "id": "74409343"
      },
      "source": [
        "How many are there?"
      ],
      "id": "74409343"
    },
    {
      "cell_type": "code",
      "metadata": {
        "execution": {
          "iopub.execute_input": "2021-06-21T19:17:18.455538Z",
          "iopub.status.busy": "2021-06-21T19:17:18.454614Z",
          "iopub.status.idle": "2021-06-21T19:17:18.458275Z",
          "shell.execute_reply": "2021-06-21T19:17:18.457533Z"
        },
        "id": "6627ba7a",
        "colab": {
          "base_uri": "https://localhost:8080/"
        },
        "outputId": "c0fc9ea3-c8e8-4919-86e6-0e80febedbbc"
      },
      "source": [
        "#📝📝📝📝 FILLME\n",
        "big_us_city_df[\"City\"].count()"
      ],
      "id": "6627ba7a",
      "execution_count": null,
      "outputs": [
        {
          "output_type": "execute_result",
          "data": {
            "text/plain": [
              "10"
            ]
          },
          "metadata": {
            "tags": []
          },
          "execution_count": 135
        }
      ]
    },
    {
      "cell_type": "markdown",
      "metadata": {
        "id": "30f834b0"
      },
      "source": [
        "# Unit B"
      ],
      "id": "30f834b0"
    },
    {
      "cell_type": "markdown",
      "metadata": {
        "id": "d58a6d40"
      },
      "source": [
        "In this unit we will look at three more advanced Pandas functions.\n",
        "Unlike filters, which just remove rows, these will allow use to manipute\n",
        "our data to compute new properties and even new columns. "
      ],
      "id": "d58a6d40"
    },
    {
      "cell_type": "markdown",
      "metadata": {
        "id": "8eebfd1e"
      },
      "source": [
        "## Group By's"
      ],
      "id": "8eebfd1e"
    },
    {
      "cell_type": "markdown",
      "metadata": {
        "id": "ed2ba4fc"
      },
      "source": [
        "We saw above how to compute the total number of cities in Mexico on\n",
        "our list. We did this by first filtering and then \"aggregating\" by\n",
        "calling `count()`. Here is a reminder. "
      ],
      "id": "ed2ba4fc"
    },
    {
      "cell_type": "code",
      "metadata": {
        "execution": {
          "iopub.execute_input": "2021-06-21T19:17:18.467075Z",
          "iopub.status.busy": "2021-06-21T19:17:18.466145Z",
          "iopub.status.idle": "2021-06-21T19:17:18.469479Z",
          "shell.execute_reply": "2021-06-21T19:17:18.470201Z"
        },
        "id": "d3a90e29",
        "colab": {
          "base_uri": "https://localhost:8080/"
        },
        "outputId": "4445dce2-5b23-4954-ec92-12ef04586468"
      },
      "source": [
        "filter = df[\"Country\"] == \"Mexico\"\n",
        "cities_in_mexico_df = df.loc[filter]\n",
        "total_cities_in_mexico = cities_in_mexico_df[\"City\"].count()\n",
        "total_cities_in_mexico"
      ],
      "id": "d3a90e29",
      "execution_count": null,
      "outputs": [
        {
          "output_type": "execute_result",
          "data": {
            "text/plain": [
              "38"
            ]
          },
          "metadata": {
            "tags": []
          },
          "execution_count": 136
        }
      ]
    },
    {
      "cell_type": "markdown",
      "metadata": {
        "id": "73b4e912"
      },
      "source": [
        "However, what if we also want to know the number of cities\n",
        "in Canada and US and all the other countries on our list.\n",
        "We can do this with a group-by operation"
      ],
      "id": "73b4e912"
    },
    {
      "cell_type": "markdown",
      "metadata": {
        "id": "0a88330f"
      },
      "source": [
        "**GroupBy**\n",
        "\n",
        "1. GroupBy - Determine the subset of data to use\n",
        "2. Aggregation - Compute a property over the group"
      ],
      "id": "0a88330f"
    },
    {
      "cell_type": "markdown",
      "metadata": {
        "id": "9f847775"
      },
      "source": [
        "Step 1. Group By"
      ],
      "id": "9f847775"
    },
    {
      "cell_type": "code",
      "metadata": {
        "execution": {
          "iopub.execute_input": "2021-06-21T19:17:18.476337Z",
          "iopub.status.busy": "2021-06-21T19:17:18.475441Z",
          "iopub.status.idle": "2021-06-21T19:17:18.479072Z",
          "shell.execute_reply": "2021-06-21T19:17:18.478249Z"
        },
        "id": "7d07b4a5"
      },
      "source": [
        "grouped_by_country = df.groupby([\"Country\"], as_index = False)"
      ],
      "id": "7d07b4a5",
      "execution_count": null,
      "outputs": []
    },
    {
      "cell_type": "markdown",
      "metadata": {
        "id": "4c2310b2"
      },
      "source": [
        "Step 2. Aggregate"
      ],
      "id": "4c2310b2"
    },
    {
      "cell_type": "code",
      "metadata": {
        "execution": {
          "iopub.execute_input": "2021-06-21T19:17:18.489729Z",
          "iopub.status.busy": "2021-06-21T19:17:18.488837Z",
          "iopub.status.idle": "2021-06-21T19:17:18.492904Z",
          "shell.execute_reply": "2021-06-21T19:17:18.493589Z"
        },
        "id": "f2866f47",
        "colab": {
          "base_uri": "https://localhost:8080/",
          "height": 359
        },
        "outputId": "17132421-b358-4c9b-a227-78882f3029ab"
      },
      "source": [
        "count_of_cities = grouped_by_country[\"City\"].count()\n",
        "count_of_cities"
      ],
      "id": "f2866f47",
      "execution_count": null,
      "outputs": [
        {
          "output_type": "execute_result",
          "data": {
            "text/html": [
              "<div>\n",
              "<style scoped>\n",
              "    .dataframe tbody tr th:only-of-type {\n",
              "        vertical-align: middle;\n",
              "    }\n",
              "\n",
              "    .dataframe tbody tr th {\n",
              "        vertical-align: top;\n",
              "    }\n",
              "\n",
              "    .dataframe thead th {\n",
              "        text-align: right;\n",
              "    }\n",
              "</style>\n",
              "<table border=\"1\" class=\"dataframe\">\n",
              "  <thead>\n",
              "    <tr style=\"text-align: right;\">\n",
              "      <th></th>\n",
              "      <th>Country</th>\n",
              "      <th>City</th>\n",
              "    </tr>\n",
              "  </thead>\n",
              "  <tbody>\n",
              "    <tr>\n",
              "      <th>0</th>\n",
              "      <td>Canada</td>\n",
              "      <td>12</td>\n",
              "    </tr>\n",
              "    <tr>\n",
              "      <th>1</th>\n",
              "      <td>Cuba</td>\n",
              "      <td>1</td>\n",
              "    </tr>\n",
              "    <tr>\n",
              "      <th>2</th>\n",
              "      <td>Dominican Republic</td>\n",
              "      <td>2</td>\n",
              "    </tr>\n",
              "    <tr>\n",
              "      <th>3</th>\n",
              "      <td>Guatemala</td>\n",
              "      <td>2</td>\n",
              "    </tr>\n",
              "    <tr>\n",
              "      <th>4</th>\n",
              "      <td>Haiti</td>\n",
              "      <td>2</td>\n",
              "    </tr>\n",
              "    <tr>\n",
              "      <th>5</th>\n",
              "      <td>Honduras</td>\n",
              "      <td>2</td>\n",
              "    </tr>\n",
              "    <tr>\n",
              "      <th>6</th>\n",
              "      <td>Jamaica</td>\n",
              "      <td>1</td>\n",
              "    </tr>\n",
              "    <tr>\n",
              "      <th>7</th>\n",
              "      <td>Mexico</td>\n",
              "      <td>38</td>\n",
              "    </tr>\n",
              "    <tr>\n",
              "      <th>8</th>\n",
              "      <td>Nicaragua</td>\n",
              "      <td>1</td>\n",
              "    </tr>\n",
              "    <tr>\n",
              "      <th>9</th>\n",
              "      <td>United States</td>\n",
              "      <td>34</td>\n",
              "    </tr>\n",
              "  </tbody>\n",
              "</table>\n",
              "</div>"
            ],
            "text/plain": [
              "              Country  City\n",
              "0              Canada    12\n",
              "1                Cuba     1\n",
              "2  Dominican Republic     2\n",
              "3           Guatemala     2\n",
              "4               Haiti     2\n",
              "5            Honduras     2\n",
              "6             Jamaica     1\n",
              "7              Mexico    38\n",
              "8           Nicaragua     1\n",
              "9       United States    34"
            ]
          },
          "metadata": {
            "tags": []
          },
          "execution_count": 138
        }
      ]
    },
    {
      "cell_type": "markdown",
      "metadata": {
        "id": "3a16999c"
      },
      "source": [
        "Here is another example. This one computes the population of the\n",
        "largest city in each country. "
      ],
      "id": "3a16999c"
    },
    {
      "cell_type": "code",
      "metadata": {
        "execution": {
          "iopub.execute_input": "2021-06-21T19:17:18.501455Z",
          "iopub.status.busy": "2021-06-21T19:17:18.500583Z",
          "iopub.status.idle": "2021-06-21T19:17:18.505036Z",
          "shell.execute_reply": "2021-06-21T19:17:18.504133Z"
        },
        "id": "b32006aa",
        "colab": {
          "base_uri": "https://localhost:8080/",
          "height": 359
        },
        "outputId": "edf6b394-2948-4689-d696-97dbb45e1601"
      },
      "source": [
        "max_pop = grouped_by_country[\"Population\"].max()\n",
        "max_pop"
      ],
      "id": "b32006aa",
      "execution_count": null,
      "outputs": [
        {
          "output_type": "execute_result",
          "data": {
            "text/html": [
              "<div>\n",
              "<style scoped>\n",
              "    .dataframe tbody tr th:only-of-type {\n",
              "        vertical-align: middle;\n",
              "    }\n",
              "\n",
              "    .dataframe tbody tr th {\n",
              "        vertical-align: top;\n",
              "    }\n",
              "\n",
              "    .dataframe thead th {\n",
              "        text-align: right;\n",
              "    }\n",
              "</style>\n",
              "<table border=\"1\" class=\"dataframe\">\n",
              "  <thead>\n",
              "    <tr style=\"text-align: right;\">\n",
              "      <th></th>\n",
              "      <th>Country</th>\n",
              "      <th>Population</th>\n",
              "    </tr>\n",
              "  </thead>\n",
              "  <tbody>\n",
              "    <tr>\n",
              "      <th>0</th>\n",
              "      <td>Canada</td>\n",
              "      <td>2826498</td>\n",
              "    </tr>\n",
              "    <tr>\n",
              "      <th>1</th>\n",
              "      <td>Cuba</td>\n",
              "      <td>2117625</td>\n",
              "    </tr>\n",
              "    <tr>\n",
              "      <th>2</th>\n",
              "      <td>Dominican Republic</td>\n",
              "      <td>1007997</td>\n",
              "    </tr>\n",
              "    <tr>\n",
              "      <th>3</th>\n",
              "      <td>Guatemala</td>\n",
              "      <td>994078</td>\n",
              "    </tr>\n",
              "    <tr>\n",
              "      <th>4</th>\n",
              "      <td>Haiti</td>\n",
              "      <td>987310</td>\n",
              "    </tr>\n",
              "    <tr>\n",
              "      <th>5</th>\n",
              "      <td>Honduras</td>\n",
              "      <td>1190230</td>\n",
              "    </tr>\n",
              "    <tr>\n",
              "      <th>6</th>\n",
              "      <td>Jamaica</td>\n",
              "      <td>669627</td>\n",
              "    </tr>\n",
              "    <tr>\n",
              "      <th>7</th>\n",
              "      <td>Mexico</td>\n",
              "      <td>8918653</td>\n",
              "    </tr>\n",
              "    <tr>\n",
              "      <th>8</th>\n",
              "      <td>Nicaragua</td>\n",
              "      <td>1048134</td>\n",
              "    </tr>\n",
              "    <tr>\n",
              "      <th>9</th>\n",
              "      <td>United States</td>\n",
              "      <td>8550405</td>\n",
              "    </tr>\n",
              "  </tbody>\n",
              "</table>\n",
              "</div>"
            ],
            "text/plain": [
              "              Country  Population\n",
              "0              Canada     2826498\n",
              "1                Cuba     2117625\n",
              "2  Dominican Republic     1007997\n",
              "3           Guatemala      994078\n",
              "4               Haiti      987310\n",
              "5            Honduras     1190230\n",
              "6             Jamaica      669627\n",
              "7              Mexico     8918653\n",
              "8           Nicaragua     1048134\n",
              "9       United States     8550405"
            ]
          },
          "metadata": {
            "tags": []
          },
          "execution_count": 139
        }
      ]
    },
    {
      "cell_type": "markdown",
      "metadata": {
        "id": "8d8489c1"
      },
      "source": [
        "👩‍🎓 ** Student Question: Can you compute the city with the minimum population on the list for each country? **"
      ],
      "id": "8d8489c1"
    },
    {
      "cell_type": "code",
      "metadata": {
        "execution": {
          "iopub.execute_input": "2021-06-21T19:17:18.510183Z",
          "iopub.status.busy": "2021-06-21T19:17:18.509290Z",
          "iopub.status.idle": "2021-06-21T19:17:18.512775Z",
          "shell.execute_reply": "2021-06-21T19:17:18.512043Z"
        },
        "lines_to_next_cell": 1,
        "id": "7507a092",
        "colab": {
          "base_uri": "https://localhost:8080/",
          "height": 359
        },
        "outputId": "fb241aa5-2c97-440a-e7d3-7f8ad2ba760c"
      },
      "source": [
        "#📝📝📝📝 FILLME\n",
        "min_pop = grouped_by_country[\"Population\"].min()\n",
        "min_pop"
      ],
      "id": "7507a092",
      "execution_count": null,
      "outputs": [
        {
          "output_type": "execute_result",
          "data": {
            "text/html": [
              "<div>\n",
              "<style scoped>\n",
              "    .dataframe tbody tr th:only-of-type {\n",
              "        vertical-align: middle;\n",
              "    }\n",
              "\n",
              "    .dataframe tbody tr th {\n",
              "        vertical-align: top;\n",
              "    }\n",
              "\n",
              "    .dataframe thead th {\n",
              "        text-align: right;\n",
              "    }\n",
              "</style>\n",
              "<table border=\"1\" class=\"dataframe\">\n",
              "  <thead>\n",
              "    <tr style=\"text-align: right;\">\n",
              "      <th></th>\n",
              "      <th>Country</th>\n",
              "      <th>Population</th>\n",
              "    </tr>\n",
              "  </thead>\n",
              "  <tbody>\n",
              "    <tr>\n",
              "      <th>0</th>\n",
              "      <td>Canada</td>\n",
              "      <td>526004</td>\n",
              "    </tr>\n",
              "    <tr>\n",
              "      <th>1</th>\n",
              "      <td>Cuba</td>\n",
              "      <td>2117625</td>\n",
              "    </tr>\n",
              "    <tr>\n",
              "      <th>2</th>\n",
              "      <td>Dominican Republic</td>\n",
              "      <td>723162</td>\n",
              "    </tr>\n",
              "    <tr>\n",
              "      <th>3</th>\n",
              "      <td>Guatemala</td>\n",
              "      <td>564686</td>\n",
              "    </tr>\n",
              "    <tr>\n",
              "      <th>4</th>\n",
              "      <td>Haiti</td>\n",
              "      <td>501768</td>\n",
              "    </tr>\n",
              "    <tr>\n",
              "      <th>5</th>\n",
              "      <td>Honduras</td>\n",
              "      <td>742118</td>\n",
              "    </tr>\n",
              "    <tr>\n",
              "      <th>6</th>\n",
              "      <td>Jamaica</td>\n",
              "      <td>669627</td>\n",
              "    </tr>\n",
              "    <tr>\n",
              "      <th>7</th>\n",
              "      <td>Mexico</td>\n",
              "      <td>520557</td>\n",
              "    </tr>\n",
              "    <tr>\n",
              "      <th>8</th>\n",
              "      <td>Nicaragua</td>\n",
              "      <td>1048134</td>\n",
              "    </tr>\n",
              "    <tr>\n",
              "      <th>9</th>\n",
              "      <td>United States</td>\n",
              "      <td>520052</td>\n",
              "    </tr>\n",
              "  </tbody>\n",
              "</table>\n",
              "</div>"
            ],
            "text/plain": [
              "              Country  Population\n",
              "0              Canada      526004\n",
              "1                Cuba     2117625\n",
              "2  Dominican Republic      723162\n",
              "3           Guatemala      564686\n",
              "4               Haiti      501768\n",
              "5            Honduras      742118\n",
              "6             Jamaica      669627\n",
              "7              Mexico      520557\n",
              "8           Nicaragua     1048134\n",
              "9       United States      520052"
            ]
          },
          "metadata": {
            "tags": []
          },
          "execution_count": 140
        }
      ]
    },
    {
      "cell_type": "markdown",
      "metadata": {
        "id": "49cf4ee5"
      },
      "source": [
        "## Manipulating Tables"
      ],
      "id": "49cf4ee5"
    },
    {
      "cell_type": "markdown",
      "metadata": {
        "id": "9511af8c"
      },
      "source": [
        "Another useful aspect of tables is is to add in new columns.\n",
        "Adding new columns allows us to group by additional properties,\n",
        "create advanced filters, or make pretty graphs."
      ],
      "id": "9511af8c"
    },
    {
      "cell_type": "markdown",
      "metadata": {
        "id": "ef146c46"
      },
      "source": [
        "The easiest way to add a new column in pandas is to write a function\n",
        "that tells us how to create the new column from the other columns in\n",
        "the table."
      ],
      "id": "ef146c46"
    },
    {
      "cell_type": "markdown",
      "metadata": {
        "id": "c74ca76e"
      },
      "source": [
        "In order to add a new column, we need to write a function.\n",
        "If you remember last class, a function looked something like this."
      ],
      "id": "c74ca76e"
    },
    {
      "cell_type": "code",
      "metadata": {
        "execution": {
          "iopub.execute_input": "2021-06-21T19:17:18.519526Z",
          "iopub.status.busy": "2021-06-21T19:17:18.518612Z",
          "iopub.status.idle": "2021-06-21T19:17:18.522480Z",
          "shell.execute_reply": "2021-06-21T19:17:18.521507Z"
        },
        "lines_to_next_cell": 1,
        "id": "109f5837"
      },
      "source": [
        "# Returns if the country is in US or Canada\n",
        "def in_us_or_canada(country):\n",
        "    if country == \"United States\":\n",
        "        return \"US/Canada\"\n",
        "    if country == \"Canada\":\n",
        "        return \"US/Canada\"\n",
        "    return \"Not US/Canada\""
      ],
      "id": "109f5837",
      "execution_count": null,
      "outputs": []
    },
    {
      "cell_type": "markdown",
      "metadata": {
        "id": "71a339ea"
      },
      "source": [
        "Now we can add a new column by setting that column equal to\n",
        "the country. We do this by calling Pandas `map` with the function\n",
        "and the column of interest. This line of code will call our function\n",
        "for each row of the Country column. Notice how it creates a new column."
      ],
      "id": "71a339ea"
    },
    {
      "cell_type": "code",
      "metadata": {
        "execution": {
          "iopub.execute_input": "2021-06-21T19:17:18.547360Z",
          "iopub.status.busy": "2021-06-21T19:17:18.546445Z",
          "iopub.status.idle": "2021-06-21T19:17:18.550903Z",
          "shell.execute_reply": "2021-06-21T19:17:18.550002Z"
        },
        "id": "b99e184d",
        "colab": {
          "base_uri": "https://localhost:8080/",
          "height": 419
        },
        "outputId": "13f3ff8d-7896-45d1-f4e5-934588faa3c4"
      },
      "source": [
        "df[\"US_or_Canada\"] = df[\"Country\"].map(in_us_or_canada)\n",
        "df"
      ],
      "id": "b99e184d",
      "execution_count": null,
      "outputs": [
        {
          "output_type": "execute_result",
          "data": {
            "text/html": [
              "<div>\n",
              "<style scoped>\n",
              "    .dataframe tbody tr th:only-of-type {\n",
              "        vertical-align: middle;\n",
              "    }\n",
              "\n",
              "    .dataframe tbody tr th {\n",
              "        vertical-align: top;\n",
              "    }\n",
              "\n",
              "    .dataframe thead th {\n",
              "        text-align: right;\n",
              "    }\n",
              "</style>\n",
              "<table border=\"1\" class=\"dataframe\">\n",
              "  <thead>\n",
              "    <tr style=\"text-align: right;\">\n",
              "      <th></th>\n",
              "      <th>Rank</th>\n",
              "      <th>City</th>\n",
              "      <th>Country</th>\n",
              "      <th>Population</th>\n",
              "      <th>US_or_Canada</th>\n",
              "    </tr>\n",
              "  </thead>\n",
              "  <tbody>\n",
              "    <tr>\n",
              "      <th>0</th>\n",
              "      <td>0</td>\n",
              "      <td>Mexico City</td>\n",
              "      <td>Mexico</td>\n",
              "      <td>8918653</td>\n",
              "      <td>Not US/Canada</td>\n",
              "    </tr>\n",
              "    <tr>\n",
              "      <th>1</th>\n",
              "      <td>1</td>\n",
              "      <td>New York City</td>\n",
              "      <td>United States</td>\n",
              "      <td>8550405</td>\n",
              "      <td>US/Canada</td>\n",
              "    </tr>\n",
              "    <tr>\n",
              "      <th>2</th>\n",
              "      <td>2</td>\n",
              "      <td>Los Angeles</td>\n",
              "      <td>United States</td>\n",
              "      <td>3971883</td>\n",
              "      <td>US/Canada</td>\n",
              "    </tr>\n",
              "    <tr>\n",
              "      <th>3</th>\n",
              "      <td>3</td>\n",
              "      <td>Toronto</td>\n",
              "      <td>Canada</td>\n",
              "      <td>2826498</td>\n",
              "      <td>US/Canada</td>\n",
              "    </tr>\n",
              "    <tr>\n",
              "      <th>4</th>\n",
              "      <td>4</td>\n",
              "      <td>Chicago</td>\n",
              "      <td>United States</td>\n",
              "      <td>2720546</td>\n",
              "      <td>US/Canada</td>\n",
              "    </tr>\n",
              "    <tr>\n",
              "      <th>...</th>\n",
              "      <td>...</td>\n",
              "      <td>...</td>\n",
              "      <td>...</td>\n",
              "      <td>...</td>\n",
              "      <td>...</td>\n",
              "    </tr>\n",
              "    <tr>\n",
              "      <th>90</th>\n",
              "      <td>90</td>\n",
              "      <td>Surrey</td>\n",
              "      <td>Canada</td>\n",
              "      <td>526004</td>\n",
              "      <td>US/Canada</td>\n",
              "    </tr>\n",
              "    <tr>\n",
              "      <th>91</th>\n",
              "      <td>91</td>\n",
              "      <td>Ciudad López Mateos</td>\n",
              "      <td>Mexico</td>\n",
              "      <td>523296</td>\n",
              "      <td>Not US/Canada</td>\n",
              "    </tr>\n",
              "    <tr>\n",
              "      <th>92</th>\n",
              "      <td>92</td>\n",
              "      <td>Tultitlán</td>\n",
              "      <td>Mexico</td>\n",
              "      <td>520557</td>\n",
              "      <td>Not US/Canada</td>\n",
              "    </tr>\n",
              "    <tr>\n",
              "      <th>93</th>\n",
              "      <td>93</td>\n",
              "      <td>Fresno</td>\n",
              "      <td>United States</td>\n",
              "      <td>520052</td>\n",
              "      <td>US/Canada</td>\n",
              "    </tr>\n",
              "    <tr>\n",
              "      <th>94</th>\n",
              "      <td>94</td>\n",
              "      <td>Carrefour</td>\n",
              "      <td>Haiti</td>\n",
              "      <td>501768</td>\n",
              "      <td>Not US/Canada</td>\n",
              "    </tr>\n",
              "  </tbody>\n",
              "</table>\n",
              "<p>95 rows × 5 columns</p>\n",
              "</div>"
            ],
            "text/plain": [
              "    Rank                 City        Country  Population   US_or_Canada\n",
              "0      0          Mexico City         Mexico     8918653  Not US/Canada\n",
              "1      1        New York City  United States     8550405      US/Canada\n",
              "2      2          Los Angeles  United States     3971883      US/Canada\n",
              "3      3              Toronto         Canada     2826498      US/Canada\n",
              "4      4              Chicago  United States     2720546      US/Canada\n",
              "..   ...                  ...            ...         ...            ...\n",
              "90    90               Surrey         Canada      526004      US/Canada\n",
              "91    91  Ciudad López Mateos         Mexico      523296  Not US/Canada\n",
              "92    92            Tultitlán         Mexico      520557  Not US/Canada\n",
              "93    93               Fresno  United States      520052      US/Canada\n",
              "94    94            Carrefour          Haiti      501768  Not US/Canada\n",
              "\n",
              "[95 rows x 5 columns]"
            ]
          },
          "metadata": {
            "tags": []
          },
          "execution_count": 142
        }
      ]
    },
    {
      "cell_type": "code",
      "metadata": {
        "execution": {
          "iopub.execute_input": "2021-06-21T19:17:18.556623Z",
          "iopub.status.busy": "2021-06-21T19:17:18.555755Z",
          "iopub.status.idle": "2021-06-21T19:17:18.558815Z",
          "shell.execute_reply": "2021-06-21T19:17:18.559549Z"
        },
        "id": "da12ded1",
        "colab": {
          "base_uri": "https://localhost:8080/"
        },
        "outputId": "d8a7d34f-68c9-4642-e0ce-2c288ec36d8d"
      },
      "source": [
        "df.columns"
      ],
      "id": "da12ded1",
      "execution_count": null,
      "outputs": [
        {
          "output_type": "execute_result",
          "data": {
            "text/plain": [
              "Index(['Rank', 'City', 'Country', 'Population', 'US_or_Canada'], dtype='object')"
            ]
          },
          "metadata": {
            "tags": []
          },
          "execution_count": 143
        }
      ]
    },
    {
      "cell_type": "markdown",
      "metadata": {
        "id": "a5a2291d"
      },
      "source": [
        "We can then use this column in a group by."
      ],
      "id": "a5a2291d"
    },
    {
      "cell_type": "code",
      "metadata": {
        "execution": {
          "iopub.execute_input": "2021-06-21T19:17:18.567720Z",
          "iopub.status.busy": "2021-06-21T19:17:18.565001Z",
          "iopub.status.idle": "2021-06-21T19:17:18.571279Z",
          "shell.execute_reply": "2021-06-21T19:17:18.572035Z"
        },
        "lines_to_next_cell": 1,
        "id": "3950c26d",
        "colab": {
          "base_uri": "https://localhost:8080/"
        },
        "outputId": "11e06390-3990-4086-888a-4a38b20779d9"
      },
      "source": [
        "grouped = df.groupby([\"US_or_Canada\"])\n",
        "count_of_cities = grouped[\"City\"].count()\n",
        "count_of_cities"
      ],
      "id": "3950c26d",
      "execution_count": null,
      "outputs": [
        {
          "output_type": "execute_result",
          "data": {
            "text/plain": [
              "US_or_Canada\n",
              "Not US/Canada    49\n",
              "US/Canada        46\n",
              "Name: City, dtype: int64"
            ]
          },
          "metadata": {
            "tags": []
          },
          "execution_count": 144
        }
      ]
    },
    {
      "cell_type": "markdown",
      "metadata": {
        "id": "1533e4c4"
      },
      "source": [
        "A similar technique can be used to manipulate the data in a\n",
        "column to change certain values. For instance, we might want to\n",
        "remove the final \" City\" from cities like \"New York\" "
      ],
      "id": "1533e4c4"
    },
    {
      "cell_type": "code",
      "metadata": {
        "execution": {
          "iopub.execute_input": "2021-06-21T19:17:18.578080Z",
          "iopub.status.busy": "2021-06-21T19:17:18.577197Z",
          "iopub.status.idle": "2021-06-21T19:17:18.580958Z",
          "shell.execute_reply": "2021-06-21T19:17:18.580195Z"
        },
        "lines_to_next_cell": 1,
        "id": "e4e77a14"
      },
      "source": [
        "def change_name(str1):\n",
        "    return str1.replace(\" City\", \"\")"
      ],
      "id": "e4e77a14",
      "execution_count": null,
      "outputs": []
    },
    {
      "cell_type": "code",
      "metadata": {
        "execution": {
          "iopub.execute_input": "2021-06-21T19:17:18.605093Z",
          "iopub.status.busy": "2021-06-21T19:17:18.604218Z",
          "iopub.status.idle": "2021-06-21T19:17:18.608758Z",
          "shell.execute_reply": "2021-06-21T19:17:18.607986Z"
        },
        "id": "99f0a722",
        "colab": {
          "base_uri": "https://localhost:8080/",
          "height": 419
        },
        "outputId": "b7a7b389-b8a8-4bb9-9c20-fe4c643cd13d"
      },
      "source": [
        "df[\"City\"] = df[\"City\"].map(change_name)\n",
        "df"
      ],
      "id": "99f0a722",
      "execution_count": null,
      "outputs": [
        {
          "output_type": "execute_result",
          "data": {
            "text/html": [
              "<div>\n",
              "<style scoped>\n",
              "    .dataframe tbody tr th:only-of-type {\n",
              "        vertical-align: middle;\n",
              "    }\n",
              "\n",
              "    .dataframe tbody tr th {\n",
              "        vertical-align: top;\n",
              "    }\n",
              "\n",
              "    .dataframe thead th {\n",
              "        text-align: right;\n",
              "    }\n",
              "</style>\n",
              "<table border=\"1\" class=\"dataframe\">\n",
              "  <thead>\n",
              "    <tr style=\"text-align: right;\">\n",
              "      <th></th>\n",
              "      <th>Rank</th>\n",
              "      <th>City</th>\n",
              "      <th>Country</th>\n",
              "      <th>Population</th>\n",
              "      <th>US_or_Canada</th>\n",
              "    </tr>\n",
              "  </thead>\n",
              "  <tbody>\n",
              "    <tr>\n",
              "      <th>0</th>\n",
              "      <td>0</td>\n",
              "      <td>Mexico</td>\n",
              "      <td>Mexico</td>\n",
              "      <td>8918653</td>\n",
              "      <td>Not US/Canada</td>\n",
              "    </tr>\n",
              "    <tr>\n",
              "      <th>1</th>\n",
              "      <td>1</td>\n",
              "      <td>New York</td>\n",
              "      <td>United States</td>\n",
              "      <td>8550405</td>\n",
              "      <td>US/Canada</td>\n",
              "    </tr>\n",
              "    <tr>\n",
              "      <th>2</th>\n",
              "      <td>2</td>\n",
              "      <td>Los Angeles</td>\n",
              "      <td>United States</td>\n",
              "      <td>3971883</td>\n",
              "      <td>US/Canada</td>\n",
              "    </tr>\n",
              "    <tr>\n",
              "      <th>3</th>\n",
              "      <td>3</td>\n",
              "      <td>Toronto</td>\n",
              "      <td>Canada</td>\n",
              "      <td>2826498</td>\n",
              "      <td>US/Canada</td>\n",
              "    </tr>\n",
              "    <tr>\n",
              "      <th>4</th>\n",
              "      <td>4</td>\n",
              "      <td>Chicago</td>\n",
              "      <td>United States</td>\n",
              "      <td>2720546</td>\n",
              "      <td>US/Canada</td>\n",
              "    </tr>\n",
              "    <tr>\n",
              "      <th>...</th>\n",
              "      <td>...</td>\n",
              "      <td>...</td>\n",
              "      <td>...</td>\n",
              "      <td>...</td>\n",
              "      <td>...</td>\n",
              "    </tr>\n",
              "    <tr>\n",
              "      <th>90</th>\n",
              "      <td>90</td>\n",
              "      <td>Surrey</td>\n",
              "      <td>Canada</td>\n",
              "      <td>526004</td>\n",
              "      <td>US/Canada</td>\n",
              "    </tr>\n",
              "    <tr>\n",
              "      <th>91</th>\n",
              "      <td>91</td>\n",
              "      <td>Ciudad López Mateos</td>\n",
              "      <td>Mexico</td>\n",
              "      <td>523296</td>\n",
              "      <td>Not US/Canada</td>\n",
              "    </tr>\n",
              "    <tr>\n",
              "      <th>92</th>\n",
              "      <td>92</td>\n",
              "      <td>Tultitlán</td>\n",
              "      <td>Mexico</td>\n",
              "      <td>520557</td>\n",
              "      <td>Not US/Canada</td>\n",
              "    </tr>\n",
              "    <tr>\n",
              "      <th>93</th>\n",
              "      <td>93</td>\n",
              "      <td>Fresno</td>\n",
              "      <td>United States</td>\n",
              "      <td>520052</td>\n",
              "      <td>US/Canada</td>\n",
              "    </tr>\n",
              "    <tr>\n",
              "      <th>94</th>\n",
              "      <td>94</td>\n",
              "      <td>Carrefour</td>\n",
              "      <td>Haiti</td>\n",
              "      <td>501768</td>\n",
              "      <td>Not US/Canada</td>\n",
              "    </tr>\n",
              "  </tbody>\n",
              "</table>\n",
              "<p>95 rows × 5 columns</p>\n",
              "</div>"
            ],
            "text/plain": [
              "    Rank                 City        Country  Population   US_or_Canada\n",
              "0      0               Mexico         Mexico     8918653  Not US/Canada\n",
              "1      1             New York  United States     8550405      US/Canada\n",
              "2      2          Los Angeles  United States     3971883      US/Canada\n",
              "3      3              Toronto         Canada     2826498      US/Canada\n",
              "4      4              Chicago  United States     2720546      US/Canada\n",
              "..   ...                  ...            ...         ...            ...\n",
              "90    90               Surrey         Canada      526004      US/Canada\n",
              "91    91  Ciudad López Mateos         Mexico      523296  Not US/Canada\n",
              "92    92            Tultitlán         Mexico      520557  Not US/Canada\n",
              "93    93               Fresno  United States      520052      US/Canada\n",
              "94    94            Carrefour          Haiti      501768  Not US/Canada\n",
              "\n",
              "[95 rows x 5 columns]"
            ]
          },
          "metadata": {
            "tags": []
          },
          "execution_count": 146
        }
      ]
    },
    {
      "cell_type": "markdown",
      "metadata": {
        "id": "b0879fa2"
      },
      "source": [
        "## Joining Together Tables"
      ],
      "id": "b0879fa2"
    },
    {
      "cell_type": "markdown",
      "metadata": {
        "id": "e23745ea"
      },
      "source": [
        "Pandas becomes much more powerful when we start to have many\n",
        "different tables that relate to each other. For this example we will\n",
        "consider another table that provides the locations about these\n",
        "cities. You can see that here: "
      ],
      "id": "e23745ea"
    },
    {
      "cell_type": "markdown",
      "metadata": {
        "id": "143d2cd0"
      },
      "source": [
        "[City Location Spreadsheet](https://docs.google.com/spreadsheets/d/1Jwcr6IBJbOT1G4Vq7VqaZ7S1V9gRmUb5ALkJPaG5fxI/edit?usp=sharing)"
      ],
      "id": "143d2cd0"
    },
    {
      "cell_type": "markdown",
      "metadata": {
        "id": "6ccf0570"
      },
      "source": [
        "Lets load this table into a new variable."
      ],
      "id": "6ccf0570"
    },
    {
      "cell_type": "code",
      "metadata": {
        "execution": {
          "iopub.execute_input": "2021-06-21T19:17:18.615810Z",
          "iopub.status.busy": "2021-06-21T19:17:18.614872Z",
          "iopub.status.idle": "2021-06-21T19:17:18.705837Z",
          "shell.execute_reply": "2021-06-21T19:17:18.705051Z"
        },
        "id": "46e50596",
        "colab": {
          "base_uri": "https://localhost:8080/",
          "height": 419
        },
        "outputId": "f2c1935c-adc5-4fe4-9bd9-7e59292c80fb"
      },
      "source": [
        "all_cities_df = pd.read_csv(\"https://srush.github.io/BT-AI/notebooks/AllCities.csv\")\n",
        "all_cities_df"
      ],
      "id": "46e50596",
      "execution_count": null,
      "outputs": [
        {
          "output_type": "execute_result",
          "data": {
            "text/html": [
              "<div>\n",
              "<style scoped>\n",
              "    .dataframe tbody tr th:only-of-type {\n",
              "        vertical-align: middle;\n",
              "    }\n",
              "\n",
              "    .dataframe tbody tr th {\n",
              "        vertical-align: top;\n",
              "    }\n",
              "\n",
              "    .dataframe thead th {\n",
              "        text-align: right;\n",
              "    }\n",
              "</style>\n",
              "<table border=\"1\" class=\"dataframe\">\n",
              "  <thead>\n",
              "    <tr style=\"text-align: right;\">\n",
              "      <th></th>\n",
              "      <th>Id</th>\n",
              "      <th>City</th>\n",
              "      <th>Country</th>\n",
              "      <th>Longitude</th>\n",
              "      <th>Latitude</th>\n",
              "    </tr>\n",
              "  </thead>\n",
              "  <tbody>\n",
              "    <tr>\n",
              "      <th>0</th>\n",
              "      <td>0</td>\n",
              "      <td>A Coruña</td>\n",
              "      <td>Spain</td>\n",
              "      <td>8.73W</td>\n",
              "      <td>42.59N</td>\n",
              "    </tr>\n",
              "    <tr>\n",
              "      <th>1</th>\n",
              "      <td>1</td>\n",
              "      <td>Aachen</td>\n",
              "      <td>Germany</td>\n",
              "      <td>6.34E</td>\n",
              "      <td>50.63N</td>\n",
              "    </tr>\n",
              "    <tr>\n",
              "      <th>2</th>\n",
              "      <td>2</td>\n",
              "      <td>Aalborg</td>\n",
              "      <td>Denmark</td>\n",
              "      <td>10.33E</td>\n",
              "      <td>57.05N</td>\n",
              "    </tr>\n",
              "    <tr>\n",
              "      <th>3</th>\n",
              "      <td>3</td>\n",
              "      <td>Aba</td>\n",
              "      <td>Nigeria</td>\n",
              "      <td>8.07E</td>\n",
              "      <td>5.63N</td>\n",
              "    </tr>\n",
              "    <tr>\n",
              "      <th>4</th>\n",
              "      <td>4</td>\n",
              "      <td>Abadan</td>\n",
              "      <td>Iran</td>\n",
              "      <td>48.00E</td>\n",
              "      <td>29.74N</td>\n",
              "    </tr>\n",
              "    <tr>\n",
              "      <th>...</th>\n",
              "      <td>...</td>\n",
              "      <td>...</td>\n",
              "      <td>...</td>\n",
              "      <td>...</td>\n",
              "      <td>...</td>\n",
              "    </tr>\n",
              "    <tr>\n",
              "      <th>3505</th>\n",
              "      <td>3505</td>\n",
              "      <td>Århus</td>\n",
              "      <td>Denmark</td>\n",
              "      <td>10.33E</td>\n",
              "      <td>57.05N</td>\n",
              "    </tr>\n",
              "    <tr>\n",
              "      <th>3506</th>\n",
              "      <td>3506</td>\n",
              "      <td>Çorlu</td>\n",
              "      <td>Turkey</td>\n",
              "      <td>27.69E</td>\n",
              "      <td>40.99N</td>\n",
              "    </tr>\n",
              "    <tr>\n",
              "      <th>3507</th>\n",
              "      <td>3507</td>\n",
              "      <td>Çorum</td>\n",
              "      <td>Turkey</td>\n",
              "      <td>34.08E</td>\n",
              "      <td>40.99N</td>\n",
              "    </tr>\n",
              "    <tr>\n",
              "      <th>3508</th>\n",
              "      <td>3508</td>\n",
              "      <td>Öskemen</td>\n",
              "      <td>Kazakhstan</td>\n",
              "      <td>82.39E</td>\n",
              "      <td>50.63N</td>\n",
              "    </tr>\n",
              "    <tr>\n",
              "      <th>3509</th>\n",
              "      <td>3509</td>\n",
              "      <td>Ürümqi</td>\n",
              "      <td>China</td>\n",
              "      <td>87.20E</td>\n",
              "      <td>44.20N</td>\n",
              "    </tr>\n",
              "  </tbody>\n",
              "</table>\n",
              "<p>3510 rows × 5 columns</p>\n",
              "</div>"
            ],
            "text/plain": [
              "        Id      City     Country Longitude Latitude\n",
              "0        0  A Coruña       Spain     8.73W   42.59N\n",
              "1        1    Aachen     Germany     6.34E   50.63N\n",
              "2        2   Aalborg     Denmark    10.33E   57.05N\n",
              "3        3       Aba     Nigeria     8.07E    5.63N\n",
              "4        4    Abadan        Iran    48.00E   29.74N\n",
              "...    ...       ...         ...       ...      ...\n",
              "3505  3505     Århus     Denmark    10.33E   57.05N\n",
              "3506  3506     Çorlu      Turkey    27.69E   40.99N\n",
              "3507  3507     Çorum      Turkey    34.08E   40.99N\n",
              "3508  3508   Öskemen  Kazakhstan    82.39E   50.63N\n",
              "3509  3509    Ürümqi       China    87.20E   44.20N\n",
              "\n",
              "[3510 rows x 5 columns]"
            ]
          },
          "metadata": {
            "tags": []
          },
          "execution_count": 147
        }
      ]
    },
    {
      "cell_type": "markdown",
      "metadata": {
        "id": "a0d81d41"
      },
      "source": [
        "This table has most of the cities in our dataset.\n",
        "But there are also a lot of other cities in this table outside of North America. "
      ],
      "id": "a0d81d41"
    },
    {
      "cell_type": "code",
      "metadata": {
        "execution": {
          "iopub.execute_input": "2021-06-21T19:17:18.725755Z",
          "iopub.status.busy": "2021-06-21T19:17:18.712057Z",
          "iopub.status.idle": "2021-06-21T19:17:18.729033Z",
          "shell.execute_reply": "2021-06-21T19:17:18.729761Z"
        },
        "id": "b5258c41",
        "colab": {
          "base_uri": "https://localhost:8080/",
          "height": 419
        },
        "outputId": "3d998eda-09b7-4a99-a0a4-0ee91f14aebc"
      },
      "source": [
        "filter = all_cities_df[\"Country\"] == \"Germany\" \n",
        "europe_df = all_cities_df.loc[filter]\n",
        "europe_df"
      ],
      "id": "b5258c41",
      "execution_count": null,
      "outputs": [
        {
          "output_type": "execute_result",
          "data": {
            "text/html": [
              "<div>\n",
              "<style scoped>\n",
              "    .dataframe tbody tr th:only-of-type {\n",
              "        vertical-align: middle;\n",
              "    }\n",
              "\n",
              "    .dataframe tbody tr th {\n",
              "        vertical-align: top;\n",
              "    }\n",
              "\n",
              "    .dataframe thead th {\n",
              "        text-align: right;\n",
              "    }\n",
              "</style>\n",
              "<table border=\"1\" class=\"dataframe\">\n",
              "  <thead>\n",
              "    <tr style=\"text-align: right;\">\n",
              "      <th></th>\n",
              "      <th>Id</th>\n",
              "      <th>City</th>\n",
              "      <th>Country</th>\n",
              "      <th>Longitude</th>\n",
              "      <th>Latitude</th>\n",
              "    </tr>\n",
              "  </thead>\n",
              "  <tbody>\n",
              "    <tr>\n",
              "      <th>1</th>\n",
              "      <td>1</td>\n",
              "      <td>Aachen</td>\n",
              "      <td>Germany</td>\n",
              "      <td>6.34E</td>\n",
              "      <td>50.63N</td>\n",
              "    </tr>\n",
              "    <tr>\n",
              "      <th>187</th>\n",
              "      <td>187</td>\n",
              "      <td>Augsburg</td>\n",
              "      <td>Germany</td>\n",
              "      <td>10.66E</td>\n",
              "      <td>47.42N</td>\n",
              "    </tr>\n",
              "    <tr>\n",
              "      <th>338</th>\n",
              "      <td>338</td>\n",
              "      <td>Bergisch Gladbach</td>\n",
              "      <td>Germany</td>\n",
              "      <td>6.34E</td>\n",
              "      <td>50.63N</td>\n",
              "    </tr>\n",
              "    <tr>\n",
              "      <th>340</th>\n",
              "      <td>340</td>\n",
              "      <td>Berlin</td>\n",
              "      <td>Germany</td>\n",
              "      <td>13.14E</td>\n",
              "      <td>52.24N</td>\n",
              "    </tr>\n",
              "    <tr>\n",
              "      <th>370</th>\n",
              "      <td>370</td>\n",
              "      <td>Bielefeld</td>\n",
              "      <td>Germany</td>\n",
              "      <td>7.88E</td>\n",
              "      <td>52.24N</td>\n",
              "    </tr>\n",
              "    <tr>\n",
              "      <th>...</th>\n",
              "      <td>...</td>\n",
              "      <td>...</td>\n",
              "      <td>...</td>\n",
              "      <td>...</td>\n",
              "      <td>...</td>\n",
              "    </tr>\n",
              "    <tr>\n",
              "      <th>3343</th>\n",
              "      <td>3343</td>\n",
              "      <td>Wiesbaden</td>\n",
              "      <td>Germany</td>\n",
              "      <td>8.87E</td>\n",
              "      <td>50.63N</td>\n",
              "    </tr>\n",
              "    <tr>\n",
              "      <th>3349</th>\n",
              "      <td>3349</td>\n",
              "      <td>Witten</td>\n",
              "      <td>Germany</td>\n",
              "      <td>7.88E</td>\n",
              "      <td>52.24N</td>\n",
              "    </tr>\n",
              "    <tr>\n",
              "      <th>3351</th>\n",
              "      <td>3351</td>\n",
              "      <td>Wolfsburg</td>\n",
              "      <td>Germany</td>\n",
              "      <td>10.51E</td>\n",
              "      <td>52.24N</td>\n",
              "    </tr>\n",
              "    <tr>\n",
              "      <th>3364</th>\n",
              "      <td>3364</td>\n",
              "      <td>Wuppertal</td>\n",
              "      <td>Germany</td>\n",
              "      <td>6.34E</td>\n",
              "      <td>50.63N</td>\n",
              "    </tr>\n",
              "    <tr>\n",
              "      <th>3369</th>\n",
              "      <td>3369</td>\n",
              "      <td>Würzburg</td>\n",
              "      <td>Germany</td>\n",
              "      <td>9.80E</td>\n",
              "      <td>49.03N</td>\n",
              "    </tr>\n",
              "  </tbody>\n",
              "</table>\n",
              "<p>81 rows × 5 columns</p>\n",
              "</div>"
            ],
            "text/plain": [
              "        Id               City  Country Longitude Latitude\n",
              "1        1             Aachen  Germany     6.34E   50.63N\n",
              "187    187           Augsburg  Germany    10.66E   47.42N\n",
              "338    338  Bergisch Gladbach  Germany     6.34E   50.63N\n",
              "340    340             Berlin  Germany    13.14E   52.24N\n",
              "370    370          Bielefeld  Germany     7.88E   52.24N\n",
              "...    ...                ...      ...       ...      ...\n",
              "3343  3343          Wiesbaden  Germany     8.87E   50.63N\n",
              "3349  3349             Witten  Germany     7.88E   52.24N\n",
              "3351  3351          Wolfsburg  Germany    10.51E   52.24N\n",
              "3364  3364          Wuppertal  Germany     6.34E   50.63N\n",
              "3369  3369           Würzburg  Germany     9.80E   49.03N\n",
              "\n",
              "[81 rows x 5 columns]"
            ]
          },
          "metadata": {
            "tags": []
          },
          "execution_count": 148
        }
      ]
    },
    {
      "cell_type": "markdown",
      "metadata": {
        "id": "5d1a86ff"
      },
      "source": [
        "In order to use this new information let's merge since it in to our table. \n",
        "We just need to tell pandas which are the shared columns\n",
        "between the two tables. "
      ],
      "id": "5d1a86ff"
    },
    {
      "cell_type": "code",
      "metadata": {
        "execution": {
          "iopub.execute_input": "2021-06-21T19:17:18.739835Z",
          "iopub.status.busy": "2021-06-21T19:17:18.738930Z",
          "iopub.status.idle": "2021-06-21T19:17:18.768849Z",
          "shell.execute_reply": "2021-06-21T19:17:18.767929Z"
        },
        "id": "b521f997",
        "colab": {
          "base_uri": "https://localhost:8080/",
          "height": 419
        },
        "outputId": "2ce992c8-3286-4491-91be-2f8b767b9e67"
      },
      "source": [
        "df = df.merge(all_cities_df, on=[\"City\", \"Country\"])\n",
        "df"
      ],
      "id": "b521f997",
      "execution_count": null,
      "outputs": [
        {
          "output_type": "execute_result",
          "data": {
            "text/html": [
              "<div>\n",
              "<style scoped>\n",
              "    .dataframe tbody tr th:only-of-type {\n",
              "        vertical-align: middle;\n",
              "    }\n",
              "\n",
              "    .dataframe tbody tr th {\n",
              "        vertical-align: top;\n",
              "    }\n",
              "\n",
              "    .dataframe thead th {\n",
              "        text-align: right;\n",
              "    }\n",
              "</style>\n",
              "<table border=\"1\" class=\"dataframe\">\n",
              "  <thead>\n",
              "    <tr style=\"text-align: right;\">\n",
              "      <th></th>\n",
              "      <th>Rank</th>\n",
              "      <th>City</th>\n",
              "      <th>Country</th>\n",
              "      <th>Population</th>\n",
              "      <th>US_or_Canada</th>\n",
              "      <th>Id</th>\n",
              "      <th>Longitude</th>\n",
              "      <th>Latitude</th>\n",
              "    </tr>\n",
              "  </thead>\n",
              "  <tbody>\n",
              "    <tr>\n",
              "      <th>0</th>\n",
              "      <td>0</td>\n",
              "      <td>Mexico</td>\n",
              "      <td>Mexico</td>\n",
              "      <td>8918653</td>\n",
              "      <td>Not US/Canada</td>\n",
              "      <td>1955</td>\n",
              "      <td>98.96W</td>\n",
              "      <td>20.09N</td>\n",
              "    </tr>\n",
              "    <tr>\n",
              "      <th>1</th>\n",
              "      <td>1</td>\n",
              "      <td>New York</td>\n",
              "      <td>United States</td>\n",
              "      <td>8550405</td>\n",
              "      <td>US/Canada</td>\n",
              "      <td>2126</td>\n",
              "      <td>74.56W</td>\n",
              "      <td>40.99N</td>\n",
              "    </tr>\n",
              "    <tr>\n",
              "      <th>2</th>\n",
              "      <td>2</td>\n",
              "      <td>Los Angeles</td>\n",
              "      <td>United States</td>\n",
              "      <td>3971883</td>\n",
              "      <td>US/Canada</td>\n",
              "      <td>1775</td>\n",
              "      <td>118.70W</td>\n",
              "      <td>34.56N</td>\n",
              "    </tr>\n",
              "    <tr>\n",
              "      <th>3</th>\n",
              "      <td>3</td>\n",
              "      <td>Toronto</td>\n",
              "      <td>Canada</td>\n",
              "      <td>2826498</td>\n",
              "      <td>US/Canada</td>\n",
              "      <td>3140</td>\n",
              "      <td>80.50W</td>\n",
              "      <td>44.20N</td>\n",
              "    </tr>\n",
              "    <tr>\n",
              "      <th>4</th>\n",
              "      <td>4</td>\n",
              "      <td>Chicago</td>\n",
              "      <td>United States</td>\n",
              "      <td>2720546</td>\n",
              "      <td>US/Canada</td>\n",
              "      <td>608</td>\n",
              "      <td>87.27W</td>\n",
              "      <td>42.59N</td>\n",
              "    </tr>\n",
              "    <tr>\n",
              "      <th>...</th>\n",
              "      <td>...</td>\n",
              "      <td>...</td>\n",
              "      <td>...</td>\n",
              "      <td>...</td>\n",
              "      <td>...</td>\n",
              "      <td>...</td>\n",
              "      <td>...</td>\n",
              "      <td>...</td>\n",
              "    </tr>\n",
              "    <tr>\n",
              "      <th>79</th>\n",
              "      <td>87</td>\n",
              "      <td>Tonalá</td>\n",
              "      <td>Mexico</td>\n",
              "      <td>536111</td>\n",
              "      <td>Not US/Canada</td>\n",
              "      <td>3132</td>\n",
              "      <td>104.08W</td>\n",
              "      <td>20.09N</td>\n",
              "    </tr>\n",
              "    <tr>\n",
              "      <th>80</th>\n",
              "      <td>88</td>\n",
              "      <td>Tucson</td>\n",
              "      <td>United States</td>\n",
              "      <td>531641</td>\n",
              "      <td>US/Canada</td>\n",
              "      <td>3171</td>\n",
              "      <td>111.20W</td>\n",
              "      <td>31.35N</td>\n",
              "    </tr>\n",
              "    <tr>\n",
              "      <th>81</th>\n",
              "      <td>89</td>\n",
              "      <td>Cuautitlán Izcalli</td>\n",
              "      <td>Mexico</td>\n",
              "      <td>531041</td>\n",
              "      <td>Not US/Canada</td>\n",
              "      <td>719</td>\n",
              "      <td>98.96W</td>\n",
              "      <td>20.09N</td>\n",
              "    </tr>\n",
              "    <tr>\n",
              "      <th>82</th>\n",
              "      <td>93</td>\n",
              "      <td>Fresno</td>\n",
              "      <td>United States</td>\n",
              "      <td>520052</td>\n",
              "      <td>US/Canada</td>\n",
              "      <td>960</td>\n",
              "      <td>119.34W</td>\n",
              "      <td>36.17N</td>\n",
              "    </tr>\n",
              "    <tr>\n",
              "      <th>83</th>\n",
              "      <td>94</td>\n",
              "      <td>Carrefour</td>\n",
              "      <td>Haiti</td>\n",
              "      <td>501768</td>\n",
              "      <td>Not US/Canada</td>\n",
              "      <td>542</td>\n",
              "      <td>72.68W</td>\n",
              "      <td>18.48N</td>\n",
              "    </tr>\n",
              "  </tbody>\n",
              "</table>\n",
              "<p>84 rows × 8 columns</p>\n",
              "</div>"
            ],
            "text/plain": [
              "    Rank                City        Country  ...    Id Longitude  Latitude\n",
              "0      0              Mexico         Mexico  ...  1955    98.96W    20.09N\n",
              "1      1            New York  United States  ...  2126    74.56W    40.99N\n",
              "2      2         Los Angeles  United States  ...  1775   118.70W    34.56N\n",
              "3      3             Toronto         Canada  ...  3140    80.50W    44.20N\n",
              "4      4             Chicago  United States  ...   608    87.27W    42.59N\n",
              "..   ...                 ...            ...  ...   ...       ...       ...\n",
              "79    87              Tonalá         Mexico  ...  3132   104.08W    20.09N\n",
              "80    88              Tucson  United States  ...  3171   111.20W    31.35N\n",
              "81    89  Cuautitlán Izcalli         Mexico  ...   719    98.96W    20.09N\n",
              "82    93              Fresno  United States  ...   960   119.34W    36.17N\n",
              "83    94           Carrefour          Haiti  ...   542    72.68W    18.48N\n",
              "\n",
              "[84 rows x 8 columns]"
            ]
          },
          "metadata": {
            "tags": []
          },
          "execution_count": 149
        }
      ]
    },
    {
      "cell_type": "markdown",
      "metadata": {
        "id": "cf4cdb04"
      },
      "source": [
        "# Group Exercise B"
      ],
      "id": "cf4cdb04"
    },
    {
      "cell_type": "markdown",
      "metadata": {
        "id": "ff7b63a0"
      },
      "source": [
        "## Question 1"
      ],
      "id": "ff7b63a0"
    },
    {
      "cell_type": "markdown",
      "metadata": {
        "id": "58f2c3b5"
      },
      "source": [
        "The following website has the official abbreviation codes for all countries.\n",
        "https://en.wikipedia.org/wiki/List_of_ISO_3166_country_codes"
      ],
      "id": "58f2c3b5"
    },
    {
      "cell_type": "markdown",
      "metadata": {
        "id": "d216535a"
      },
      "source": [
        "To get all of the unique entries of a series you can use https://pandas.pydata.org/docs/reference/api/pandas.unique.html"
      ],
      "id": "d216535a"
    },
    {
      "cell_type": "markdown",
      "metadata": {
        "id": "82d4dd18"
      },
      "source": [
        "Using a table mapping countries to their codes.  Can you add a new column to the table called \"Abbrev\" that lists the abbreviation code for that city?"
      ],
      "id": "82d4dd18"
    },
    {
      "cell_type": "code",
      "metadata": {
        "execution": {
          "iopub.execute_input": "2021-06-21T19:17:18.774224Z",
          "iopub.status.busy": "2021-06-21T19:17:18.773324Z",
          "iopub.status.idle": "2021-06-21T19:17:18.776518Z",
          "shell.execute_reply": "2021-06-21T19:17:18.775615Z"
        },
        "lines_to_next_cell": 1,
        "id": "cbd38897",
        "colab": {
          "base_uri": "https://localhost:8080/",
          "height": 419
        },
        "outputId": "8e95c61f-ea81-4cef-f465-44e53a841a57"
      },
      "source": [
        "#📝📝📝📝 FILLME\n",
        "countries = df[\"Country\"].unique()\n",
        "countries\n",
        "country_code = {\"Mexico\": \"MEX\", \"United States\" : \"USA\", \"Canada\": \"CAN\", \"Cuba\" : \"CUB\", \"Honduras\": \"HND\", \"Nicaragua\": \"NIC\", \"Dominican Republic\" : \"DOM\", \"Guatemala\": \"GTM\", \"Haiti\" :\"HTI\", \"Jamaica\": \"JAM\"}\n",
        "df[\"Abbrev\"] = df[\"Country\"].map(country_code)\n",
        "df"
      ],
      "id": "cbd38897",
      "execution_count": null,
      "outputs": [
        {
          "output_type": "execute_result",
          "data": {
            "text/html": [
              "<div>\n",
              "<style scoped>\n",
              "    .dataframe tbody tr th:only-of-type {\n",
              "        vertical-align: middle;\n",
              "    }\n",
              "\n",
              "    .dataframe tbody tr th {\n",
              "        vertical-align: top;\n",
              "    }\n",
              "\n",
              "    .dataframe thead th {\n",
              "        text-align: right;\n",
              "    }\n",
              "</style>\n",
              "<table border=\"1\" class=\"dataframe\">\n",
              "  <thead>\n",
              "    <tr style=\"text-align: right;\">\n",
              "      <th></th>\n",
              "      <th>Rank</th>\n",
              "      <th>City</th>\n",
              "      <th>Country</th>\n",
              "      <th>Population</th>\n",
              "      <th>US_or_Canada</th>\n",
              "      <th>Id</th>\n",
              "      <th>Longitude</th>\n",
              "      <th>Latitude</th>\n",
              "      <th>Abbrev</th>\n",
              "    </tr>\n",
              "  </thead>\n",
              "  <tbody>\n",
              "    <tr>\n",
              "      <th>0</th>\n",
              "      <td>0</td>\n",
              "      <td>Mexico</td>\n",
              "      <td>Mexico</td>\n",
              "      <td>8918653</td>\n",
              "      <td>Not US/Canada</td>\n",
              "      <td>1955</td>\n",
              "      <td>98.96W</td>\n",
              "      <td>20.09N</td>\n",
              "      <td>MEX</td>\n",
              "    </tr>\n",
              "    <tr>\n",
              "      <th>1</th>\n",
              "      <td>1</td>\n",
              "      <td>New York</td>\n",
              "      <td>United States</td>\n",
              "      <td>8550405</td>\n",
              "      <td>US/Canada</td>\n",
              "      <td>2126</td>\n",
              "      <td>74.56W</td>\n",
              "      <td>40.99N</td>\n",
              "      <td>USA</td>\n",
              "    </tr>\n",
              "    <tr>\n",
              "      <th>2</th>\n",
              "      <td>2</td>\n",
              "      <td>Los Angeles</td>\n",
              "      <td>United States</td>\n",
              "      <td>3971883</td>\n",
              "      <td>US/Canada</td>\n",
              "      <td>1775</td>\n",
              "      <td>118.70W</td>\n",
              "      <td>34.56N</td>\n",
              "      <td>USA</td>\n",
              "    </tr>\n",
              "    <tr>\n",
              "      <th>3</th>\n",
              "      <td>3</td>\n",
              "      <td>Toronto</td>\n",
              "      <td>Canada</td>\n",
              "      <td>2826498</td>\n",
              "      <td>US/Canada</td>\n",
              "      <td>3140</td>\n",
              "      <td>80.50W</td>\n",
              "      <td>44.20N</td>\n",
              "      <td>CAN</td>\n",
              "    </tr>\n",
              "    <tr>\n",
              "      <th>4</th>\n",
              "      <td>4</td>\n",
              "      <td>Chicago</td>\n",
              "      <td>United States</td>\n",
              "      <td>2720546</td>\n",
              "      <td>US/Canada</td>\n",
              "      <td>608</td>\n",
              "      <td>87.27W</td>\n",
              "      <td>42.59N</td>\n",
              "      <td>USA</td>\n",
              "    </tr>\n",
              "    <tr>\n",
              "      <th>...</th>\n",
              "      <td>...</td>\n",
              "      <td>...</td>\n",
              "      <td>...</td>\n",
              "      <td>...</td>\n",
              "      <td>...</td>\n",
              "      <td>...</td>\n",
              "      <td>...</td>\n",
              "      <td>...</td>\n",
              "      <td>...</td>\n",
              "    </tr>\n",
              "    <tr>\n",
              "      <th>79</th>\n",
              "      <td>87</td>\n",
              "      <td>Tonalá</td>\n",
              "      <td>Mexico</td>\n",
              "      <td>536111</td>\n",
              "      <td>Not US/Canada</td>\n",
              "      <td>3132</td>\n",
              "      <td>104.08W</td>\n",
              "      <td>20.09N</td>\n",
              "      <td>MEX</td>\n",
              "    </tr>\n",
              "    <tr>\n",
              "      <th>80</th>\n",
              "      <td>88</td>\n",
              "      <td>Tucson</td>\n",
              "      <td>United States</td>\n",
              "      <td>531641</td>\n",
              "      <td>US/Canada</td>\n",
              "      <td>3171</td>\n",
              "      <td>111.20W</td>\n",
              "      <td>31.35N</td>\n",
              "      <td>USA</td>\n",
              "    </tr>\n",
              "    <tr>\n",
              "      <th>81</th>\n",
              "      <td>89</td>\n",
              "      <td>Cuautitlán Izcalli</td>\n",
              "      <td>Mexico</td>\n",
              "      <td>531041</td>\n",
              "      <td>Not US/Canada</td>\n",
              "      <td>719</td>\n",
              "      <td>98.96W</td>\n",
              "      <td>20.09N</td>\n",
              "      <td>MEX</td>\n",
              "    </tr>\n",
              "    <tr>\n",
              "      <th>82</th>\n",
              "      <td>93</td>\n",
              "      <td>Fresno</td>\n",
              "      <td>United States</td>\n",
              "      <td>520052</td>\n",
              "      <td>US/Canada</td>\n",
              "      <td>960</td>\n",
              "      <td>119.34W</td>\n",
              "      <td>36.17N</td>\n",
              "      <td>USA</td>\n",
              "    </tr>\n",
              "    <tr>\n",
              "      <th>83</th>\n",
              "      <td>94</td>\n",
              "      <td>Carrefour</td>\n",
              "      <td>Haiti</td>\n",
              "      <td>501768</td>\n",
              "      <td>Not US/Canada</td>\n",
              "      <td>542</td>\n",
              "      <td>72.68W</td>\n",
              "      <td>18.48N</td>\n",
              "      <td>HTI</td>\n",
              "    </tr>\n",
              "  </tbody>\n",
              "</table>\n",
              "<p>84 rows × 9 columns</p>\n",
              "</div>"
            ],
            "text/plain": [
              "    Rank                City        Country  ...  Longitude Latitude  Abbrev\n",
              "0      0              Mexico         Mexico  ...     98.96W   20.09N     MEX\n",
              "1      1            New York  United States  ...     74.56W   40.99N     USA\n",
              "2      2         Los Angeles  United States  ...    118.70W   34.56N     USA\n",
              "3      3             Toronto         Canada  ...     80.50W   44.20N     CAN\n",
              "4      4             Chicago  United States  ...     87.27W   42.59N     USA\n",
              "..   ...                 ...            ...  ...        ...      ...     ...\n",
              "79    87              Tonalá         Mexico  ...    104.08W   20.09N     MEX\n",
              "80    88              Tucson  United States  ...    111.20W   31.35N     USA\n",
              "81    89  Cuautitlán Izcalli         Mexico  ...     98.96W   20.09N     MEX\n",
              "82    93              Fresno  United States  ...    119.34W   36.17N     USA\n",
              "83    94           Carrefour          Haiti  ...     72.68W   18.48N     HTI\n",
              "\n",
              "[84 rows x 9 columns]"
            ]
          },
          "metadata": {
            "tags": []
          },
          "execution_count": 150
        }
      ]
    },
    {
      "cell_type": "markdown",
      "metadata": {
        "id": "ff61dbc7"
      },
      "source": [
        "## Question 2"
      ],
      "id": "ff61dbc7"
    },
    {
      "cell_type": "markdown",
      "metadata": {
        "id": "1b1e9e6c"
      },
      "source": [
        "Our table has the Latitude and Longitude of all the major North American Cities. "
      ],
      "id": "1b1e9e6c"
    },
    {
      "cell_type": "markdown",
      "metadata": {
        "id": "c49b03b0"
      },
      "source": [
        "Can you find out where New York is located? How about Detroit, Las Vegas, and Portland?"
      ],
      "id": "c49b03b0"
    },
    {
      "cell_type": "code",
      "metadata": {
        "colab": {
          "base_uri": "https://localhost:8080/",
          "height": 142
        },
        "id": "Y14iR1OLrrfu",
        "outputId": "5b724976-ce65-4d7f-bae2-c98229b964f5"
      },
      "source": [
        "filter = ((df[\"City\"] == \"New York\") | (df[\"City\"] == \"Las Vegas\") | (df[\"City\"] == \"Portland\"))\n",
        "new_cits = df.loc[filter]\n",
        "new_cits[[\"City\", \"Latitude\", \"Longitude\"]]\n"
      ],
      "id": "Y14iR1OLrrfu",
      "execution_count": null,
      "outputs": [
        {
          "output_type": "execute_result",
          "data": {
            "text/html": [
              "<div>\n",
              "<style scoped>\n",
              "    .dataframe tbody tr th:only-of-type {\n",
              "        vertical-align: middle;\n",
              "    }\n",
              "\n",
              "    .dataframe tbody tr th {\n",
              "        vertical-align: top;\n",
              "    }\n",
              "\n",
              "    .dataframe thead th {\n",
              "        text-align: right;\n",
              "    }\n",
              "</style>\n",
              "<table border=\"1\" class=\"dataframe\">\n",
              "  <thead>\n",
              "    <tr style=\"text-align: right;\">\n",
              "      <th></th>\n",
              "      <th>City</th>\n",
              "      <th>Latitude</th>\n",
              "      <th>Longitude</th>\n",
              "    </tr>\n",
              "  </thead>\n",
              "  <tbody>\n",
              "    <tr>\n",
              "      <th>1</th>\n",
              "      <td>New York</td>\n",
              "      <td>40.99N</td>\n",
              "      <td>74.56W</td>\n",
              "    </tr>\n",
              "    <tr>\n",
              "      <th>65</th>\n",
              "      <td>Portland</td>\n",
              "      <td>45.81N</td>\n",
              "      <td>123.46W</td>\n",
              "    </tr>\n",
              "    <tr>\n",
              "      <th>67</th>\n",
              "      <td>Las Vegas</td>\n",
              "      <td>36.17N</td>\n",
              "      <td>115.36W</td>\n",
              "    </tr>\n",
              "  </tbody>\n",
              "</table>\n",
              "</div>"
            ],
            "text/plain": [
              "         City Latitude Longitude\n",
              "1    New York   40.99N    74.56W\n",
              "65   Portland   45.81N   123.46W\n",
              "67  Las Vegas   36.17N   115.36W"
            ]
          },
          "metadata": {
            "tags": []
          },
          "execution_count": 151
        }
      ]
    },
    {
      "cell_type": "markdown",
      "metadata": {
        "id": "6dadb980"
      },
      "source": [
        "## Question 3"
      ],
      "id": "6dadb980"
    },
    {
      "cell_type": "markdown",
      "metadata": {
        "id": "2300919a"
      },
      "source": [
        "Currently in the table the latitude and longitude are represented as string types, because they\n",
        "have N / S and E / W in their values."
      ],
      "id": "2300919a"
    },
    {
      "cell_type": "markdown",
      "metadata": {
        "id": "1914976e"
      },
      "source": [
        "Instead we would for longitude E to be positive and W negative, for example 100W -> -100\n",
        "For latitude we would like N to be positive and S to be negative, for example 100N -> 100  "
      ],
      "id": "1914976e"
    },
    {
      "cell_type": "code",
      "metadata": {
        "execution": {
          "iopub.execute_input": "2021-06-21T19:17:18.782546Z",
          "iopub.status.busy": "2021-06-21T19:17:18.781654Z",
          "iopub.status.idle": "2021-06-21T19:17:18.784839Z",
          "shell.execute_reply": "2021-06-21T19:17:18.783962Z"
        },
        "lines_to_next_cell": 1,
        "id": "cdc6e15f"
      },
      "source": [
        "def latitude_to_number(latitude_string):\n",
        "    if \"N\" in latitude_string:\n",
        "      return float(latitude_string[:-1])\n",
        "    else:\n",
        "      return -int(latitude_string[:-1])\n",
        "\n",
        "def longitude_to_number(longitude_string):\n",
        "    if \"E\" in longitude_string:\n",
        "      return float(latitude_string[:-1])\n",
        "    else:\n",
        "      return -float(longitude_string[:-1])"
      ],
      "id": "cdc6e15f",
      "execution_count": null,
      "outputs": []
    },
    {
      "cell_type": "code",
      "metadata": {
        "execution": {
          "iopub.execute_input": "2021-06-21T19:17:18.790500Z",
          "iopub.status.busy": "2021-06-21T19:17:18.789615Z",
          "iopub.status.idle": "2021-06-21T19:17:18.793197Z",
          "shell.execute_reply": "2021-06-21T19:17:18.792360Z"
        },
        "id": "bc28dbda",
        "colab": {
          "base_uri": "https://localhost:8080/"
        },
        "outputId": "0d53f1f0-1822-49db-d8d0-dab405ef7af6"
      },
      "source": [
        "lat = latitude_to_number(\"190N\")\n",
        "lat"
      ],
      "id": "bc28dbda",
      "execution_count": null,
      "outputs": [
        {
          "output_type": "execute_result",
          "data": {
            "text/plain": [
              "190.0"
            ]
          },
          "metadata": {
            "tags": []
          },
          "execution_count": 153
        }
      ]
    },
    {
      "cell_type": "markdown",
      "metadata": {
        "id": "560101ae"
      },
      "source": [
        "Can you use these functions to fix the Latitude and Longitude columns to instead use numeric values?"
      ],
      "id": "560101ae"
    },
    {
      "cell_type": "code",
      "metadata": {
        "execution": {
          "iopub.execute_input": "2021-06-21T19:17:18.798738Z",
          "iopub.status.busy": "2021-06-21T19:17:18.797842Z",
          "iopub.status.idle": "2021-06-21T19:17:18.800210Z",
          "shell.execute_reply": "2021-06-21T19:17:18.800931Z"
        },
        "id": "3373da7f",
        "colab": {
          "base_uri": "https://localhost:8080/",
          "height": 419
        },
        "outputId": "150f46c7-8653-4dd6-bbc8-bd6ed9e8443e"
      },
      "source": [
        "#📝📝📝📝 FILLME\n",
        "df[\"Latitude\"] = df[\"Latitude\"].map(latitude_to_number)\n",
        "df[\"Longitude\"] = df[\"Longitude\"].map(longitude_to_number)\n",
        "df"
      ],
      "id": "3373da7f",
      "execution_count": null,
      "outputs": [
        {
          "output_type": "execute_result",
          "data": {
            "text/html": [
              "<div>\n",
              "<style scoped>\n",
              "    .dataframe tbody tr th:only-of-type {\n",
              "        vertical-align: middle;\n",
              "    }\n",
              "\n",
              "    .dataframe tbody tr th {\n",
              "        vertical-align: top;\n",
              "    }\n",
              "\n",
              "    .dataframe thead th {\n",
              "        text-align: right;\n",
              "    }\n",
              "</style>\n",
              "<table border=\"1\" class=\"dataframe\">\n",
              "  <thead>\n",
              "    <tr style=\"text-align: right;\">\n",
              "      <th></th>\n",
              "      <th>Rank</th>\n",
              "      <th>City</th>\n",
              "      <th>Country</th>\n",
              "      <th>Population</th>\n",
              "      <th>US_or_Canada</th>\n",
              "      <th>Id</th>\n",
              "      <th>Longitude</th>\n",
              "      <th>Latitude</th>\n",
              "      <th>Abbrev</th>\n",
              "    </tr>\n",
              "  </thead>\n",
              "  <tbody>\n",
              "    <tr>\n",
              "      <th>0</th>\n",
              "      <td>0</td>\n",
              "      <td>Mexico</td>\n",
              "      <td>Mexico</td>\n",
              "      <td>8918653</td>\n",
              "      <td>Not US/Canada</td>\n",
              "      <td>1955</td>\n",
              "      <td>-98.96</td>\n",
              "      <td>20.09</td>\n",
              "      <td>MEX</td>\n",
              "    </tr>\n",
              "    <tr>\n",
              "      <th>1</th>\n",
              "      <td>1</td>\n",
              "      <td>New York</td>\n",
              "      <td>United States</td>\n",
              "      <td>8550405</td>\n",
              "      <td>US/Canada</td>\n",
              "      <td>2126</td>\n",
              "      <td>-74.56</td>\n",
              "      <td>40.99</td>\n",
              "      <td>USA</td>\n",
              "    </tr>\n",
              "    <tr>\n",
              "      <th>2</th>\n",
              "      <td>2</td>\n",
              "      <td>Los Angeles</td>\n",
              "      <td>United States</td>\n",
              "      <td>3971883</td>\n",
              "      <td>US/Canada</td>\n",
              "      <td>1775</td>\n",
              "      <td>-118.70</td>\n",
              "      <td>34.56</td>\n",
              "      <td>USA</td>\n",
              "    </tr>\n",
              "    <tr>\n",
              "      <th>3</th>\n",
              "      <td>3</td>\n",
              "      <td>Toronto</td>\n",
              "      <td>Canada</td>\n",
              "      <td>2826498</td>\n",
              "      <td>US/Canada</td>\n",
              "      <td>3140</td>\n",
              "      <td>-80.50</td>\n",
              "      <td>44.20</td>\n",
              "      <td>CAN</td>\n",
              "    </tr>\n",
              "    <tr>\n",
              "      <th>4</th>\n",
              "      <td>4</td>\n",
              "      <td>Chicago</td>\n",
              "      <td>United States</td>\n",
              "      <td>2720546</td>\n",
              "      <td>US/Canada</td>\n",
              "      <td>608</td>\n",
              "      <td>-87.27</td>\n",
              "      <td>42.59</td>\n",
              "      <td>USA</td>\n",
              "    </tr>\n",
              "    <tr>\n",
              "      <th>...</th>\n",
              "      <td>...</td>\n",
              "      <td>...</td>\n",
              "      <td>...</td>\n",
              "      <td>...</td>\n",
              "      <td>...</td>\n",
              "      <td>...</td>\n",
              "      <td>...</td>\n",
              "      <td>...</td>\n",
              "      <td>...</td>\n",
              "    </tr>\n",
              "    <tr>\n",
              "      <th>79</th>\n",
              "      <td>87</td>\n",
              "      <td>Tonalá</td>\n",
              "      <td>Mexico</td>\n",
              "      <td>536111</td>\n",
              "      <td>Not US/Canada</td>\n",
              "      <td>3132</td>\n",
              "      <td>-104.08</td>\n",
              "      <td>20.09</td>\n",
              "      <td>MEX</td>\n",
              "    </tr>\n",
              "    <tr>\n",
              "      <th>80</th>\n",
              "      <td>88</td>\n",
              "      <td>Tucson</td>\n",
              "      <td>United States</td>\n",
              "      <td>531641</td>\n",
              "      <td>US/Canada</td>\n",
              "      <td>3171</td>\n",
              "      <td>-111.20</td>\n",
              "      <td>31.35</td>\n",
              "      <td>USA</td>\n",
              "    </tr>\n",
              "    <tr>\n",
              "      <th>81</th>\n",
              "      <td>89</td>\n",
              "      <td>Cuautitlán Izcalli</td>\n",
              "      <td>Mexico</td>\n",
              "      <td>531041</td>\n",
              "      <td>Not US/Canada</td>\n",
              "      <td>719</td>\n",
              "      <td>-98.96</td>\n",
              "      <td>20.09</td>\n",
              "      <td>MEX</td>\n",
              "    </tr>\n",
              "    <tr>\n",
              "      <th>82</th>\n",
              "      <td>93</td>\n",
              "      <td>Fresno</td>\n",
              "      <td>United States</td>\n",
              "      <td>520052</td>\n",
              "      <td>US/Canada</td>\n",
              "      <td>960</td>\n",
              "      <td>-119.34</td>\n",
              "      <td>36.17</td>\n",
              "      <td>USA</td>\n",
              "    </tr>\n",
              "    <tr>\n",
              "      <th>83</th>\n",
              "      <td>94</td>\n",
              "      <td>Carrefour</td>\n",
              "      <td>Haiti</td>\n",
              "      <td>501768</td>\n",
              "      <td>Not US/Canada</td>\n",
              "      <td>542</td>\n",
              "      <td>-72.68</td>\n",
              "      <td>18.48</td>\n",
              "      <td>HTI</td>\n",
              "    </tr>\n",
              "  </tbody>\n",
              "</table>\n",
              "<p>84 rows × 9 columns</p>\n",
              "</div>"
            ],
            "text/plain": [
              "    Rank                City        Country  ...  Longitude Latitude  Abbrev\n",
              "0      0              Mexico         Mexico  ...     -98.96    20.09     MEX\n",
              "1      1            New York  United States  ...     -74.56    40.99     USA\n",
              "2      2         Los Angeles  United States  ...    -118.70    34.56     USA\n",
              "3      3             Toronto         Canada  ...     -80.50    44.20     CAN\n",
              "4      4             Chicago  United States  ...     -87.27    42.59     USA\n",
              "..   ...                 ...            ...  ...        ...      ...     ...\n",
              "79    87              Tonalá         Mexico  ...    -104.08    20.09     MEX\n",
              "80    88              Tucson  United States  ...    -111.20    31.35     USA\n",
              "81    89  Cuautitlán Izcalli         Mexico  ...     -98.96    20.09     MEX\n",
              "82    93              Fresno  United States  ...    -119.34    36.17     USA\n",
              "83    94           Carrefour          Haiti  ...     -72.68    18.48     HTI\n",
              "\n",
              "[84 rows x 9 columns]"
            ]
          },
          "metadata": {
            "tags": []
          },
          "execution_count": 154
        }
      ]
    },
    {
      "cell_type": "markdown",
      "metadata": {
        "id": "f8ec8ec9"
      },
      "source": [
        "## Question 4"
      ],
      "id": "f8ec8ec9"
    },
    {
      "cell_type": "markdown",
      "metadata": {
        "id": "e50b1630"
      },
      "source": [
        "After completing question 3 use group by and compute the Latitude of \n",
        "most southern city in each country of the table."
      ],
      "id": "e50b1630"
    },
    {
      "cell_type": "code",
      "metadata": {
        "execution": {
          "iopub.execute_input": "2021-06-21T19:17:18.806507Z",
          "iopub.status.busy": "2021-06-21T19:17:18.805661Z",
          "iopub.status.idle": "2021-06-21T19:17:18.809215Z",
          "shell.execute_reply": "2021-06-21T19:17:18.808513Z"
        },
        "id": "23824536",
        "colab": {
          "base_uri": "https://localhost:8080/",
          "height": 328
        },
        "outputId": "fea4af98-6097-49a9-f497-a9ba3005dacf"
      },
      "source": [
        "#📝📝📝📝 FILLME\n",
        "grouped_by_country = df.groupby([\"Country\"], as_index = False)\n",
        "southern_cits = grouped_by_country[\"Latitude\"].min()\n",
        "southern_cits"
      ],
      "id": "23824536",
      "execution_count": null,
      "outputs": [
        {
          "output_type": "execute_result",
          "data": {
            "text/html": [
              "<div>\n",
              "<style scoped>\n",
              "    .dataframe tbody tr th:only-of-type {\n",
              "        vertical-align: middle;\n",
              "    }\n",
              "\n",
              "    .dataframe tbody tr th {\n",
              "        vertical-align: top;\n",
              "    }\n",
              "\n",
              "    .dataframe thead th {\n",
              "        text-align: right;\n",
              "    }\n",
              "</style>\n",
              "<table border=\"1\" class=\"dataframe\">\n",
              "  <thead>\n",
              "    <tr style=\"text-align: right;\">\n",
              "      <th></th>\n",
              "      <th>Country</th>\n",
              "      <th>Latitude</th>\n",
              "    </tr>\n",
              "  </thead>\n",
              "  <tbody>\n",
              "    <tr>\n",
              "      <th>0</th>\n",
              "      <td>Canada</td>\n",
              "      <td>42.59</td>\n",
              "    </tr>\n",
              "    <tr>\n",
              "      <th>1</th>\n",
              "      <td>Dominican Republic</td>\n",
              "      <td>18.48</td>\n",
              "    </tr>\n",
              "    <tr>\n",
              "      <th>2</th>\n",
              "      <td>Guatemala</td>\n",
              "      <td>15.27</td>\n",
              "    </tr>\n",
              "    <tr>\n",
              "      <th>3</th>\n",
              "      <td>Haiti</td>\n",
              "      <td>18.48</td>\n",
              "    </tr>\n",
              "    <tr>\n",
              "      <th>4</th>\n",
              "      <td>Honduras</td>\n",
              "      <td>13.66</td>\n",
              "    </tr>\n",
              "    <tr>\n",
              "      <th>5</th>\n",
              "      <td>Jamaica</td>\n",
              "      <td>18.48</td>\n",
              "    </tr>\n",
              "    <tr>\n",
              "      <th>6</th>\n",
              "      <td>Mexico</td>\n",
              "      <td>16.87</td>\n",
              "    </tr>\n",
              "    <tr>\n",
              "      <th>7</th>\n",
              "      <td>Nicaragua</td>\n",
              "      <td>12.05</td>\n",
              "    </tr>\n",
              "    <tr>\n",
              "      <th>8</th>\n",
              "      <td>United States</td>\n",
              "      <td>29.74</td>\n",
              "    </tr>\n",
              "  </tbody>\n",
              "</table>\n",
              "</div>"
            ],
            "text/plain": [
              "              Country  Latitude\n",
              "0              Canada     42.59\n",
              "1  Dominican Republic     18.48\n",
              "2           Guatemala     15.27\n",
              "3               Haiti     18.48\n",
              "4            Honduras     13.66\n",
              "5             Jamaica     18.48\n",
              "6              Mexico     16.87\n",
              "7           Nicaragua     12.05\n",
              "8       United States     29.74"
            ]
          },
          "metadata": {
            "tags": []
          },
          "execution_count": 155
        }
      ]
    },
    {
      "cell_type": "markdown",
      "metadata": {
        "id": "af867bbb"
      },
      "source": [
        "# Visualization"
      ],
      "id": "af867bbb"
    },
    {
      "cell_type": "markdown",
      "metadata": {
        "id": "a07a27fb"
      },
      "source": [
        "Next class we will dive deeper into plotting and visualization. But\n",
        "let's finish with a little demo to show off all the tables we created."
      ],
      "id": "a07a27fb"
    },
    {
      "cell_type": "markdown",
      "metadata": {
        "id": "9e78eb2c"
      },
      "source": [
        "First we import some libraries"
      ],
      "id": "9e78eb2c"
    },
    {
      "cell_type": "code",
      "metadata": {
        "execution": {
          "iopub.execute_input": "2021-06-21T19:17:18.815149Z",
          "iopub.status.busy": "2021-06-21T19:17:18.814236Z",
          "iopub.status.idle": "2021-06-21T19:17:18.928598Z",
          "shell.execute_reply": "2021-06-21T19:17:18.929311Z"
        },
        "id": "c4dab054"
      },
      "source": [
        "import altair as alt\n",
        "from vega_datasets import data"
      ],
      "id": "c4dab054",
      "execution_count": null,
      "outputs": []
    },
    {
      "cell_type": "code",
      "metadata": {
        "execution": {
          "iopub.execute_input": "2021-06-21T19:17:18.934855Z",
          "iopub.status.busy": "2021-06-21T19:17:18.933983Z",
          "iopub.status.idle": "2021-06-21T19:17:18.935783Z",
          "shell.execute_reply": "2021-06-21T19:17:18.936471Z"
        },
        "id": "65a94fce"
      },
      "source": [
        "states = alt.topo_feature(data.us_10m.url, feature='states')\n",
        "background = alt.Chart(states).mark_geoshape().project('albersUsa')"
      ],
      "id": "65a94fce",
      "execution_count": null,
      "outputs": []
    },
    {
      "cell_type": "markdown",
      "metadata": {
        "id": "2a8ae5ec"
      },
      "source": [
        "Now we can plot"
      ],
      "id": "2a8ae5ec"
    },
    {
      "cell_type": "code",
      "metadata": {
        "execution": {
          "iopub.execute_input": "2021-06-21T19:17:18.946267Z",
          "iopub.status.busy": "2021-06-21T19:17:18.945349Z",
          "iopub.status.idle": "2021-06-21T19:17:18.948680Z",
          "shell.execute_reply": "2021-06-21T19:17:18.949399Z"
        },
        "id": "6da1d0dc",
        "colab": {
          "base_uri": "https://localhost:8080/",
          "height": 17
        },
        "outputId": "b52045a2-def1-41d8-8b3a-2a387286bcf8"
      },
      "source": [
        "states = alt.topo_feature(data.world_110m.url, feature='countries')\n",
        "chart = alt.Chart(states).mark_geoshape(\n",
        "        fill='lightgray',\n",
        "        stroke='white'\n",
        "    ).properties(\n",
        "        width=500,\n",
        "        height=300\n",
        "    ).project('orthographic', rotate= [95, -42, 0])\n",
        "if True:\n",
        "    points = alt.Chart(df).mark_circle().encode(\n",
        "        longitude='Longitude',\n",
        "        latitude='Latitude',\n",
        "        size=\"Population\",\n",
        "        tooltip=['City','Population']\n",
        "    )\n",
        "    chart += points\n",
        "chart"
      ],
      "id": "6da1d0dc",
      "execution_count": null,
      "outputs": [
        {
          "output_type": "execute_result",
          "data": {
            "text/plain": [
              "alt.LayerChart(...)"
            ],
            "text/html": [
              "\n",
              "<div id=\"altair-viz-90c8aec370044d5d85651d5aac697f7b\"></div>\n",
              "<script type=\"text/javascript\">\n",
              "  (function(spec, embedOpt){\n",
              "    let outputDiv = document.currentScript.previousElementSibling;\n",
              "    if (outputDiv.id !== \"altair-viz-90c8aec370044d5d85651d5aac697f7b\") {\n",
              "      outputDiv = document.getElementById(\"altair-viz-90c8aec370044d5d85651d5aac697f7b\");\n",
              "    }\n",
              "    const paths = {\n",
              "      \"vega\": \"https://cdn.jsdelivr.net/npm//vega@5?noext\",\n",
              "      \"vega-lib\": \"https://cdn.jsdelivr.net/npm//vega-lib?noext\",\n",
              "      \"vega-lite\": \"https://cdn.jsdelivr.net/npm//vega-lite@4.8.1?noext\",\n",
              "      \"vega-embed\": \"https://cdn.jsdelivr.net/npm//vega-embed@6?noext\",\n",
              "    };\n",
              "\n",
              "    function loadScript(lib) {\n",
              "      return new Promise(function(resolve, reject) {\n",
              "        var s = document.createElement('script');\n",
              "        s.src = paths[lib];\n",
              "        s.async = true;\n",
              "        s.onload = () => resolve(paths[lib]);\n",
              "        s.onerror = () => reject(`Error loading script: ${paths[lib]}`);\n",
              "        document.getElementsByTagName(\"head\")[0].appendChild(s);\n",
              "      });\n",
              "    }\n",
              "\n",
              "    function showError(err) {\n",
              "      outputDiv.innerHTML = `<div class=\"error\" style=\"color:red;\">${err}</div>`;\n",
              "      throw err;\n",
              "    }\n",
              "\n",
              "    function displayChart(vegaEmbed) {\n",
              "      vegaEmbed(outputDiv, spec, embedOpt)\n",
              "        .catch(err => showError(`Javascript Error: ${err.message}<br>This usually means there's a typo in your chart specification. See the javascript console for the full traceback.`));\n",
              "    }\n",
              "\n",
              "    if(typeof define === \"function\" && define.amd) {\n",
              "      requirejs.config({paths});\n",
              "      require([\"vega-embed\"], displayChart, err => showError(`Error loading script: ${err.message}`));\n",
              "    } else if (typeof vegaEmbed === \"function\") {\n",
              "      displayChart(vegaEmbed);\n",
              "    } else {\n",
              "      loadScript(\"vega\")\n",
              "        .then(() => loadScript(\"vega-lite\"))\n",
              "        .then(() => loadScript(\"vega-embed\"))\n",
              "        .catch(showError)\n",
              "        .then(() => displayChart(vegaEmbed));\n",
              "    }\n",
              "  })({\"config\": {\"view\": {\"continuousWidth\": 400, \"continuousHeight\": 300}}, \"layer\": [{\"data\": {\"url\": \"https://cdn.jsdelivr.net/npm/vega-datasets@v1.29.0/data/world-110m.json\", \"format\": {\"feature\": \"countries\", \"type\": \"topojson\"}}, \"mark\": {\"type\": \"geoshape\", \"fill\": \"lightgray\", \"stroke\": \"white\"}, \"height\": 300, \"projection\": {\"rotate\": [95, -42, 0], \"type\": \"orthographic\"}, \"width\": 500}, {\"data\": {\"name\": \"data-54a21f89f1b1eeb3066a318859d6d624\"}, \"mark\": \"circle\", \"encoding\": {\"latitude\": {\"field\": \"Latitude\", \"type\": \"quantitative\"}, \"longitude\": {\"field\": \"Longitude\", \"type\": \"quantitative\"}, \"size\": {\"type\": \"quantitative\", \"field\": \"Population\"}, \"tooltip\": [{\"type\": \"nominal\", \"field\": \"City\"}, {\"type\": \"quantitative\", \"field\": \"Population\"}]}}], \"$schema\": \"https://vega.github.io/schema/vega-lite/v4.8.1.json\", \"datasets\": {\"data-54a21f89f1b1eeb3066a318859d6d624\": [{\"Rank\": 0, \"City\": \"Mexico\", \"Country\": \"Mexico\", \"Population\": 8918653, \"US_or_Canada\": \"Not US/Canada\", \"Id\": 1955, \"Longitude\": -98.96, \"Latitude\": 20.09, \"Abbrev\": \"MEX\"}, {\"Rank\": 1, \"City\": \"New York\", \"Country\": \"United States\", \"Population\": 8550405, \"US_or_Canada\": \"US/Canada\", \"Id\": 2126, \"Longitude\": -74.56, \"Latitude\": 40.99, \"Abbrev\": \"USA\"}, {\"Rank\": 2, \"City\": \"Los Angeles\", \"Country\": \"United States\", \"Population\": 3971883, \"US_or_Canada\": \"US/Canada\", \"Id\": 1775, \"Longitude\": -118.7, \"Latitude\": 34.56, \"Abbrev\": \"USA\"}, {\"Rank\": 3, \"City\": \"Toronto\", \"Country\": \"Canada\", \"Population\": 2826498, \"US_or_Canada\": \"US/Canada\", \"Id\": 3140, \"Longitude\": -80.5, \"Latitude\": 44.2, \"Abbrev\": \"CAN\"}, {\"Rank\": 4, \"City\": \"Chicago\", \"Country\": \"United States\", \"Population\": 2720546, \"US_or_Canada\": \"US/Canada\", \"Id\": 608, \"Longitude\": -87.27, \"Latitude\": 42.59, \"Abbrev\": \"USA\"}, {\"Rank\": 5, \"City\": \"Houston\", \"Country\": \"United States\", \"Population\": 2296224, \"US_or_Canada\": \"US/Canada\", \"Id\": 1211, \"Longitude\": -96.0, \"Latitude\": 29.74, \"Abbrev\": \"USA\"}, {\"Rank\": 7, \"City\": \"Montreal\", \"Country\": \"Canada\", \"Population\": 1753034, \"US_or_Canada\": \"US/Canada\", \"Id\": 2005, \"Longitude\": -72.69, \"Latitude\": 45.81, \"Abbrev\": \"CAN\"}, {\"Rank\": 9, \"City\": \"Philadelphia\", \"Country\": \"United States\", \"Population\": 1567442, \"US_or_Canada\": \"US/Canada\", \"Id\": 2379, \"Longitude\": -74.91, \"Latitude\": 39.38, \"Abbrev\": \"USA\"}, {\"Rank\": 10, \"City\": \"Phoenix\", \"Country\": \"United States\", \"Population\": 1563025, \"US_or_Canada\": \"US/Canada\", \"Id\": 2382, \"Longitude\": -112.02, \"Latitude\": 32.95, \"Abbrev\": \"USA\"}, {\"Rank\": 11, \"City\": \"San Antonio\", \"Country\": \"United States\", \"Population\": 1469845, \"US_or_Canada\": \"US/Canada\", \"Id\": 2681, \"Longitude\": -97.85, \"Latitude\": 29.74, \"Abbrev\": \"USA\"}, {\"Rank\": 12, \"City\": \"Guadalajara\", \"Country\": \"Mexico\", \"Population\": 1460148, \"US_or_Canada\": \"Not US/Canada\", \"Id\": 1066, \"Longitude\": -104.08, \"Latitude\": 20.09, \"Abbrev\": \"MEX\"}, {\"Rank\": 13, \"City\": \"Puebla\", \"Country\": \"Mexico\", \"Population\": 1437939, \"US_or_Canada\": \"Not US/Canada\", \"Id\": 2467, \"Longitude\": -98.03, \"Latitude\": 18.48, \"Abbrev\": \"MEX\"}, {\"Rank\": 14, \"City\": \"San Diego\", \"Country\": \"United States\", \"Population\": 1394928, \"US_or_Canada\": \"US/Canada\", \"Id\": 2687, \"Longitude\": -117.77, \"Latitude\": 32.95, \"Abbrev\": \"USA\"}, {\"Rank\": 16, \"City\": \"Le\\u00f3n\", \"Country\": \"Mexico\", \"Population\": 1349224, \"US_or_Canada\": \"Not US/Canada\", \"Id\": 1722, \"Longitude\": -101.25, \"Latitude\": 21.7, \"Abbrev\": \"MEX\"}, {\"Rank\": 17, \"City\": \"Dallas\", \"Country\": \"United States\", \"Population\": 1300092, \"US_or_Canada\": \"US/Canada\", \"Id\": 751, \"Longitude\": -96.7, \"Latitude\": 32.95, \"Abbrev\": \"USA\"}, {\"Rank\": 18, \"City\": \"Tijuana\", \"Country\": \"Mexico\", \"Population\": 1298475, \"US_or_Canada\": \"Not US/Canada\", \"Id\": 3104, \"Longitude\": -117.77, \"Latitude\": 32.95, \"Abbrev\": \"MEX\"}, {\"Rank\": 19, \"City\": \"Calgary\", \"Country\": \"Canada\", \"Population\": 1230915, \"US_or_Canada\": \"US/Canada\", \"Id\": 512, \"Longitude\": -112.82, \"Latitude\": 50.63, \"Abbrev\": \"CAN\"}, {\"Rank\": 20, \"City\": \"Tegucigalpa\", \"Country\": \"Honduras\", \"Population\": 1190230, \"US_or_Canada\": \"Not US/Canada\", \"Id\": 3062, \"Longitude\": -86.7, \"Latitude\": 13.66, \"Abbrev\": \"HND\"}, {\"Rank\": 21, \"City\": \"Zapopan\", \"Country\": \"Mexico\", \"Population\": 1179681, \"US_or_Canada\": \"Not US/Canada\", \"Id\": 3462, \"Longitude\": -104.08, \"Latitude\": 20.09, \"Abbrev\": \"MEX\"}, {\"Rank\": 22, \"City\": \"Monterrey\", \"Country\": \"Mexico\", \"Population\": 1109171, \"US_or_Canada\": \"Not US/Canada\", \"Id\": 1999, \"Longitude\": -100.3, \"Latitude\": 26.52, \"Abbrev\": \"MEX\"}, {\"Rank\": 23, \"City\": \"Managua\", \"Country\": \"Nicaragua\", \"Population\": 1048134, \"US_or_Canada\": \"Not US/Canada\", \"Id\": 1862, \"Longitude\": -85.48, \"Latitude\": 12.05, \"Abbrev\": \"NIC\"}, {\"Rank\": 24, \"City\": \"Nezahualc\\u00f3yotl\", \"Country\": \"Mexico\", \"Population\": 1039867, \"US_or_Canada\": \"Not US/Canada\", \"Id\": 2136, \"Longitude\": -98.96, \"Latitude\": 20.09, \"Abbrev\": \"MEX\"}, {\"Rank\": 25, \"City\": \"San Jose\", \"Country\": \"United States\", \"Population\": 1026908, \"US_or_Canada\": \"US/Canada\", \"Id\": 2691, \"Longitude\": -122.03, \"Latitude\": 37.78, \"Abbrev\": \"USA\"}, {\"Rank\": 26, \"City\": \"Santo Domingo\", \"Country\": \"Dominican Republic\", \"Population\": 1007997, \"US_or_Canada\": \"Not US/Canada\", \"Id\": 2748, \"Longitude\": -69.3, \"Latitude\": 18.48, \"Abbrev\": \"DOM\"}, {\"Rank\": 27, \"City\": \"Guatemala\", \"Country\": \"Guatemala\", \"Population\": 994078, \"US_or_Canada\": \"Not US/Canada\", \"Id\": 1079, \"Longitude\": -90.83, \"Latitude\": 15.27, \"Abbrev\": \"GTM\"}, {\"Rank\": 29, \"City\": \"Naucalpan\", \"Country\": \"Mexico\", \"Population\": 970012, \"US_or_Canada\": \"Not US/Canada\", \"Id\": 2102, \"Longitude\": -98.96, \"Latitude\": 20.09, \"Abbrev\": \"MEX\"}, {\"Rank\": 30, \"City\": \"Ottawa\", \"Country\": \"Canada\", \"Population\": 956710, \"US_or_Canada\": \"US/Canada\", \"Id\": 2264, \"Longitude\": -75.0, \"Latitude\": 45.81, \"Abbrev\": \"CAN\"}, {\"Rank\": 31, \"City\": \"Austin\", \"Country\": \"United States\", \"Population\": 931830, \"US_or_Canada\": \"US/Canada\", \"Id\": 191, \"Longitude\": -97.85, \"Latitude\": 29.74, \"Abbrev\": \"USA\"}, {\"Rank\": 32, \"City\": \"Edmonton\", \"Country\": \"Canada\", \"Population\": 899447, \"US_or_Canada\": \"US/Canada\", \"Id\": 869, \"Longitude\": -113.18, \"Latitude\": 53.84, \"Abbrev\": \"CAN\"}, {\"Rank\": 33, \"City\": \"M\\u00e9rida\", \"Country\": \"Mexico\", \"Population\": 892363, \"US_or_Canada\": \"Not US/Canada\", \"Id\": 2049, \"Longitude\": -89.13, \"Latitude\": 21.7, \"Abbrev\": \"MEX\"}, {\"Rank\": 34, \"City\": \"Quer\\u00e9taro\", \"Country\": \"Mexico\", \"Population\": 878931, \"US_or_Canada\": \"Not US/Canada\", \"Id\": 2518, \"Longitude\": -100.66, \"Latitude\": 20.09, \"Abbrev\": \"MEX\"}, {\"Rank\": 35, \"City\": \"Toluca\", \"Country\": \"Mexico\", \"Population\": 873536, \"US_or_Canada\": \"Not US/Canada\", \"Id\": 3127, \"Longitude\": -99.72, \"Latitude\": 18.48, \"Abbrev\": \"MEX\"}, {\"Rank\": 36, \"City\": \"Jacksonville\", \"Country\": \"United States\", \"Population\": 868031, \"US_or_Canada\": \"US/Canada\", \"Id\": 1347, \"Longitude\": -81.23, \"Latitude\": 29.74, \"Abbrev\": \"USA\"}, {\"Rank\": 37, \"City\": \"Chihuahua\", \"Country\": \"Mexico\", \"Population\": 867736, \"US_or_Canada\": \"Not US/Canada\", \"Id\": 612, \"Longitude\": -106.36, \"Latitude\": 28.13, \"Abbrev\": \"MEX\"}, {\"Rank\": 38, \"City\": \"San Francisco\", \"Country\": \"United States\", \"Population\": 864816, \"US_or_Canada\": \"US/Canada\", \"Id\": 2689, \"Longitude\": -122.03, \"Latitude\": 37.78, \"Abbrev\": \"USA\"}, {\"Rank\": 39, \"City\": \"Indianapolis\", \"Country\": \"United States\", \"Population\": 853173, \"US_or_Canada\": \"US/Canada\", \"Id\": 1286, \"Longitude\": -85.32, \"Latitude\": 39.38, \"Abbrev\": \"USA\"}, {\"Rank\": 40, \"City\": \"Columbus\", \"Country\": \"United States\", \"Population\": 850106, \"US_or_Canada\": \"US/Canada\", \"Id\": 687, \"Longitude\": -83.24, \"Latitude\": 39.38, \"Abbrev\": \"USA\"}, {\"Rank\": 40, \"City\": \"Columbus\", \"Country\": \"United States\", \"Population\": 850106, \"US_or_Canada\": \"US/Canada\", \"Id\": 688, \"Longitude\": -85.21, \"Latitude\": 32.95, \"Abbrev\": \"USA\"}, {\"Rank\": 41, \"City\": \"Fort Worth\", \"Country\": \"United States\", \"Population\": 833319, \"US_or_Canada\": \"US/Canada\", \"Id\": 948, \"Longitude\": -96.7, \"Latitude\": 32.95, \"Abbrev\": \"USA\"}, {\"Rank\": 42, \"City\": \"Charlotte\", \"Country\": \"United States\", \"Population\": 827097, \"US_or_Canada\": \"US/Canada\", \"Id\": 584, \"Longitude\": -81.73, \"Latitude\": 34.56, \"Abbrev\": \"USA\"}, {\"Rank\": 43, \"City\": \"Hermosillo\", \"Country\": \"Mexico\", \"Population\": 819999, \"US_or_Canada\": \"Not US/Canada\", \"Id\": 1178, \"Longitude\": -110.77, \"Latitude\": 29.74, \"Abbrev\": \"MEX\"}, {\"Rank\": 44, \"City\": \"Saltillo\", \"Country\": \"Mexico\", \"Population\": 791074, \"US_or_Canada\": \"Not US/Canada\", \"Id\": 2669, \"Longitude\": -101.08, \"Latitude\": 24.92, \"Abbrev\": \"MEX\"}, {\"Rank\": 45, \"City\": \"Aguascalientes\", \"Country\": \"Mexico\", \"Population\": 785942, \"US_or_Canada\": \"Not US/Canada\", \"Id\": 39, \"Longitude\": -102.98, \"Latitude\": 21.7, \"Abbrev\": \"MEX\"}, {\"Rank\": 47, \"City\": \"San Luis Potos\\u00ed\", \"Country\": \"Mexico\", \"Population\": 759854, \"US_or_Canada\": \"Not US/Canada\", \"Id\": 2699, \"Longitude\": -101.25, \"Latitude\": 21.7, \"Abbrev\": \"MEX\"}, {\"Rank\": 48, \"City\": \"Veracruz\", \"Country\": \"Mexico\", \"Population\": 752171, \"US_or_Canada\": \"Not US/Canada\", \"Id\": 3255, \"Longitude\": -96.34, \"Latitude\": 18.48, \"Abbrev\": \"MEX\"}, {\"Rank\": 49, \"City\": \"San Pedro Sula\", \"Country\": \"Honduras\", \"Population\": 742118, \"US_or_Canada\": \"Not US/Canada\", \"Id\": 2710, \"Longitude\": -87.5, \"Latitude\": 15.27, \"Abbrev\": \"HND\"}, {\"Rank\": 51, \"City\": \"Culiac\\u00e1n\", \"Country\": \"Mexico\", \"Population\": 720798, \"US_or_Canada\": \"Not US/Canada\", \"Id\": 726, \"Longitude\": -108.18, \"Latitude\": 24.92, \"Abbrev\": \"MEX\"}, {\"Rank\": 52, \"City\": \"Winnipeg\", \"Country\": \"Canada\", \"Population\": 718400, \"US_or_Canada\": \"US/Canada\", \"Id\": 3346, \"Longitude\": -97.61, \"Latitude\": 50.63, \"Abbrev\": \"CAN\"}, {\"Rank\": 53, \"City\": \"Mexicali\", \"Country\": \"Mexico\", \"Population\": 717628, \"US_or_Canada\": \"Not US/Canada\", \"Id\": 1954, \"Longitude\": -115.85, \"Latitude\": 32.95, \"Abbrev\": \"MEX\"}, {\"Rank\": 54, \"City\": \"Canc\\u00fan\", \"Country\": \"Mexico\", \"Population\": 711682, \"US_or_Canada\": \"Not US/Canada\", \"Id\": 528, \"Longitude\": -87.4, \"Latitude\": 21.7, \"Abbrev\": \"MEX\"}, {\"Rank\": 55, \"City\": \"Acapulco\", \"Country\": \"Mexico\", \"Population\": 710261, \"US_or_Canada\": \"Not US/Canada\", \"Id\": 19, \"Longitude\": -100.47, \"Latitude\": 16.87, \"Abbrev\": \"MEX\"}, {\"Rank\": 56, \"City\": \"Tlalnepantla\", \"Country\": \"Mexico\", \"Population\": 700734, \"US_or_Canada\": \"Not US/Canada\", \"Id\": 3116, \"Longitude\": -98.96, \"Latitude\": 20.09, \"Abbrev\": \"MEX\"}, {\"Rank\": 57, \"City\": \"Seattle\", \"Country\": \"United States\", \"Population\": 684451, \"US_or_Canada\": \"US/Canada\", \"Id\": 2775, \"Longitude\": -121.97, \"Latitude\": 47.42, \"Abbrev\": \"USA\"}, {\"Rank\": 58, \"City\": \"Guadalupe\", \"Country\": \"Mexico\", \"Population\": 682880, \"US_or_Canada\": \"Not US/Canada\", \"Id\": 1067, \"Longitude\": -100.3, \"Latitude\": 26.52, \"Abbrev\": \"MEX\"}, {\"Rank\": 59, \"City\": \"Denver\", \"Country\": \"United States\", \"Population\": 682545, \"US_or_Canada\": \"US/Canada\", \"Id\": 784, \"Longitude\": -104.05, \"Latitude\": 39.38, \"Abbrev\": \"USA\"}, {\"Rank\": 60, \"City\": \"El Paso\", \"Country\": \"United States\", \"Population\": 681124, \"US_or_Canada\": \"US/Canada\", \"Id\": 879, \"Longitude\": -105.55, \"Latitude\": 31.35, \"Abbrev\": \"USA\"}, {\"Rank\": 61, \"City\": \"Chimalhuac\\u00e1n\", \"Country\": \"Mexico\", \"Population\": 679811, \"US_or_Canada\": \"Not US/Canada\", \"Id\": 616, \"Longitude\": -98.96, \"Latitude\": 20.09, \"Abbrev\": \"MEX\"}, {\"Rank\": 62, \"City\": \"Detroit\", \"Country\": \"United States\", \"Population\": 677116, \"US_or_Canada\": \"US/Canada\", \"Id\": 794, \"Longitude\": -82.91, \"Latitude\": 42.59, \"Abbrev\": \"USA\"}, {\"Rank\": 64, \"City\": \"Kingston\", \"Country\": \"Jamaica\", \"Population\": 669627, \"US_or_Canada\": \"Not US/Canada\", \"Id\": 1564, \"Longitude\": -76.06, \"Latitude\": 18.48, \"Abbrev\": \"JAM\"}, {\"Rank\": 65, \"City\": \"Boston\", \"Country\": \"United States\", \"Population\": 667137, \"US_or_Canada\": \"US/Canada\", \"Id\": 419, \"Longitude\": -72.0, \"Latitude\": 42.59, \"Abbrev\": \"USA\"}, {\"Rank\": 66, \"City\": \"Tlaquepaque\", \"Country\": \"Mexico\", \"Population\": 664193, \"US_or_Canada\": \"Not US/Canada\", \"Id\": 3117, \"Longitude\": -104.08, \"Latitude\": 20.09, \"Abbrev\": \"MEX\"}, {\"Rank\": 67, \"City\": \"Memphis\", \"Country\": \"United States\", \"Population\": 655770, \"US_or_Canada\": \"US/Canada\", \"Id\": 1941, \"Longitude\": -89.51, \"Latitude\": 34.56, \"Abbrev\": \"USA\"}, {\"Rank\": 68, \"City\": \"Nashville\", \"Country\": \"United States\", \"Population\": 654610, \"US_or_Canada\": \"US/Canada\", \"Id\": 2099, \"Longitude\": -87.51, \"Latitude\": 36.17, \"Abbrev\": \"USA\"}, {\"Rank\": 69, \"City\": \"Torre\\u00f3n\", \"Country\": \"Mexico\", \"Population\": 653150, \"US_or_Canada\": \"Not US/Canada\", \"Id\": 3143, \"Longitude\": -102.86, \"Latitude\": 24.92, \"Abbrev\": \"MEX\"}, {\"Rank\": 70, \"City\": \"Vancouver\", \"Country\": \"Canada\", \"Population\": 648608, \"US_or_Canada\": \"US/Canada\", \"Id\": 3243, \"Longitude\": -122.45, \"Latitude\": 49.03, \"Abbrev\": \"CAN\"}, {\"Rank\": 71, \"City\": \"Portland\", \"Country\": \"United States\", \"Population\": 632309, \"US_or_Canada\": \"US/Canada\", \"Id\": 2434, \"Longitude\": -123.46, \"Latitude\": 45.81, \"Abbrev\": \"USA\"}, {\"Rank\": 72, \"City\": \"Reynosa\", \"Country\": \"Mexico\", \"Population\": 631611, \"US_or_Canada\": \"Not US/Canada\", \"Id\": 2581, \"Longitude\": -98.51, \"Latitude\": 26.52, \"Abbrev\": \"MEX\"}, {\"Rank\": 74, \"City\": \"Las Vegas\", \"Country\": \"United States\", \"Population\": 623747, \"US_or_Canada\": \"US/Canada\", \"Id\": 1696, \"Longitude\": -115.36, \"Latitude\": 36.17, \"Abbrev\": \"USA\"}, {\"Rank\": 75, \"City\": \"Baltimore\", \"Country\": \"United States\", \"Population\": 621849, \"US_or_Canada\": \"US/Canada\", \"Id\": 236, \"Longitude\": -76.99, \"Latitude\": 39.38, \"Abbrev\": \"USA\"}, {\"Rank\": 77, \"City\": \"Louisville\", \"Country\": \"United States\", \"Population\": 615366, \"US_or_Canada\": \"US/Canada\", \"Id\": 1781, \"Longitude\": -85.42, \"Latitude\": 37.78, \"Abbrev\": \"USA\"}, {\"Rank\": 78, \"City\": \"Morelia\", \"Country\": \"Mexico\", \"Population\": 608190, \"US_or_Canada\": \"Not US/Canada\", \"Id\": 2011, \"Longitude\": -100.66, \"Latitude\": 20.09, \"Abbrev\": \"MEX\"}, {\"Rank\": 79, \"City\": \"Milwaukee\", \"Country\": \"United States\", \"Population\": 600155, \"US_or_Canada\": \"US/Canada\", \"Id\": 1967, \"Longitude\": -87.27, \"Latitude\": 42.59, \"Abbrev\": \"USA\"}, {\"Rank\": 80, \"City\": \"Tuxtla Guti\\u00e9rrez\", \"Country\": \"Mexico\", \"Population\": 598710, \"US_or_Canada\": \"Not US/Canada\", \"Id\": 3188, \"Longitude\": -93.77, \"Latitude\": 16.87, \"Abbrev\": \"MEX\"}, {\"Rank\": 81, \"City\": \"Apodaca\", \"Country\": \"Mexico\", \"Population\": 597207, \"US_or_Canada\": \"Not US/Canada\", \"Id\": 137, \"Longitude\": -100.3, \"Latitude\": 26.52, \"Abbrev\": \"MEX\"}, {\"Rank\": 82, \"City\": \"Durango\", \"Country\": \"Mexico\", \"Population\": 590893, \"US_or_Canada\": \"Not US/Canada\", \"Id\": 849, \"Longitude\": -104.63, \"Latitude\": 24.92, \"Abbrev\": \"MEX\"}, {\"Rank\": 83, \"City\": \"Villa Nueva\", \"Country\": \"Guatemala\", \"Population\": 564686, \"US_or_Canada\": \"Not US/Canada\", \"Id\": 3271, \"Longitude\": -90.83, \"Latitude\": 15.27, \"Abbrev\": \"GTM\"}, {\"Rank\": 84, \"City\": \"Albuquerque\", \"Country\": \"United States\", \"Population\": 559121, \"US_or_Canada\": \"US/Canada\", \"Id\": 64, \"Longitude\": -107.03, \"Latitude\": 34.56, \"Abbrev\": \"USA\"}, {\"Rank\": 85, \"City\": \"Hamilton\", \"Country\": \"Canada\", \"Population\": 556359, \"US_or_Canada\": \"US/Canada\", \"Id\": 1140, \"Longitude\": -80.73, \"Latitude\": 42.59, \"Abbrev\": \"CAN\"}, {\"Rank\": 86, \"City\": \"Quebec\", \"Country\": \"Canada\", \"Population\": 540994, \"US_or_Canada\": \"US/Canada\", \"Id\": 2513, \"Longitude\": -72.24, \"Latitude\": 47.42, \"Abbrev\": \"CAN\"}, {\"Rank\": 87, \"City\": \"Tonal\\u00e1\", \"Country\": \"Mexico\", \"Population\": 536111, \"US_or_Canada\": \"Not US/Canada\", \"Id\": 3132, \"Longitude\": -104.08, \"Latitude\": 20.09, \"Abbrev\": \"MEX\"}, {\"Rank\": 88, \"City\": \"Tucson\", \"Country\": \"United States\", \"Population\": 531641, \"US_or_Canada\": \"US/Canada\", \"Id\": 3171, \"Longitude\": -111.2, \"Latitude\": 31.35, \"Abbrev\": \"USA\"}, {\"Rank\": 89, \"City\": \"Cuautitl\\u00e1n Izcalli\", \"Country\": \"Mexico\", \"Population\": 531041, \"US_or_Canada\": \"Not US/Canada\", \"Id\": 719, \"Longitude\": -98.96, \"Latitude\": 20.09, \"Abbrev\": \"MEX\"}, {\"Rank\": 93, \"City\": \"Fresno\", \"Country\": \"United States\", \"Population\": 520052, \"US_or_Canada\": \"US/Canada\", \"Id\": 960, \"Longitude\": -119.34, \"Latitude\": 36.17, \"Abbrev\": \"USA\"}, {\"Rank\": 94, \"City\": \"Carrefour\", \"Country\": \"Haiti\", \"Population\": 501768, \"US_or_Canada\": \"Not US/Canada\", \"Id\": 542, \"Longitude\": -72.68, \"Latitude\": 18.48, \"Abbrev\": \"HTI\"}]}}, {\"mode\": \"vega-lite\"});\n",
              "</script>"
            ]
          },
          "metadata": {
            "tags": []
          },
          "execution_count": 158
        }
      ]
    }
  ]
}